{
 "cells": [
  {
   "cell_type": "markdown",
   "id": "f0d4da84",
   "metadata": {},
   "source": [
    "### Setup"
   ]
  },
  {
   "cell_type": "code",
   "execution_count": 1,
   "id": "0ca8122b",
   "metadata": {},
   "outputs": [],
   "source": [
    "import os, sys\n",
    "sys.path.append('..')\n",
    "\n",
    "import warnings\n",
    "warnings.filterwarnings('ignore', category=UserWarning, module='cobra')\n",
    "\n",
    "from cobra import io, Model, Solution\n",
    "from scripts.helpers.model import rxn_in_model, met_in_model, add_single_gene_reaction_pair\n",
    "from scripts.opt._fba import flux_balance_analysis\n",
    "from scripts.opt._fva import run_flux_variability_analysis"
   ]
  },
  {
   "cell_type": "code",
   "execution_count": 2,
   "id": "47e9a890",
   "metadata": {},
   "outputs": [
    {
     "name": "stderr",
     "output_type": "stream",
     "text": [
      "No objective coefficients in model. Unclear what should be optimized\n"
     ]
    }
   ],
   "source": [
    "# Gap-filled model\n",
    "model = io.read_sbml_model('../data/altered/xmls/MNL_iCre1355_auto_GAPFILL/SQS+SQE+MVA.xml')\n",
    "\n",
    "# Add exchange reaction\n",
    "ERG = \"ergosterol_c\"\n",
    "ERGEXCH = \"ERGOSTEROLEXCH\"\n",
    "if not rxn_in_model(model, ERGEXCH):\n",
    "    add_single_gene_reaction_pair(\n",
    "        model=model, \n",
    "        gene_id=\"EXCHERG_GENE\",\n",
    "        reaction_id=ERGEXCH,\n",
    "        reaction_name=\"Ergosterol exchange (assumption)\", \n",
    "        reaction_subsystem=\"Exchange\", \n",
    "        metabolites=[(-1, ERG)],\n",
    "        reversible=True\n",
    "    )"
   ]
  },
  {
   "cell_type": "markdown",
   "id": "3eef7bb1",
   "metadata": {},
   "source": [
    "### FVA (Blocked)"
   ]
  },
  {
   "cell_type": "code",
   "execution_count": 3,
   "id": "8f185d6d",
   "metadata": {},
   "outputs": [
    {
     "data": {
      "text/html": [
       "<div>\n",
       "<style scoped>\n",
       "    .dataframe tbody tr th:only-of-type {\n",
       "        vertical-align: middle;\n",
       "    }\n",
       "\n",
       "    .dataframe tbody tr th {\n",
       "        vertical-align: top;\n",
       "    }\n",
       "\n",
       "    .dataframe thead th {\n",
       "        text-align: right;\n",
       "    }\n",
       "</style>\n",
       "<table border=\"1\" class=\"dataframe\">\n",
       "  <thead>\n",
       "    <tr style=\"text-align: right;\">\n",
       "      <th></th>\n",
       "      <th>minimum</th>\n",
       "      <th>maximum</th>\n",
       "    </tr>\n",
       "  </thead>\n",
       "  <tbody>\n",
       "    <tr>\n",
       "      <th>ALT_MVAS</th>\n",
       "      <td>0.0</td>\n",
       "      <td>1.333895e-34</td>\n",
       "    </tr>\n",
       "    <tr>\n",
       "      <th>ALT_MVAD</th>\n",
       "      <td>0.0</td>\n",
       "      <td>0.000000e+00</td>\n",
       "    </tr>\n",
       "    <tr>\n",
       "      <th>ALT_MVAE</th>\n",
       "      <td>0.0</td>\n",
       "      <td>1.333895e-34</td>\n",
       "    </tr>\n",
       "    <tr>\n",
       "      <th>ALT_PMK</th>\n",
       "      <td>0.0</td>\n",
       "      <td>3.381919e-32</td>\n",
       "    </tr>\n",
       "    <tr>\n",
       "      <th>ALT_MVK</th>\n",
       "      <td>0.0</td>\n",
       "      <td>1.333895e-34</td>\n",
       "    </tr>\n",
       "    <tr>\n",
       "      <th>ALT_IDLI</th>\n",
       "      <td>0.0</td>\n",
       "      <td>1.379310e-01</td>\n",
       "    </tr>\n",
       "  </tbody>\n",
       "</table>\n",
       "</div>"
      ],
      "text/plain": [
       "          minimum       maximum\n",
       "ALT_MVAS      0.0  1.333895e-34\n",
       "ALT_MVAD      0.0  0.000000e+00\n",
       "ALT_MVAE      0.0  1.333895e-34\n",
       "ALT_PMK       0.0  3.381919e-32\n",
       "ALT_MVK       0.0  1.333895e-34\n",
       "ALT_IDLI      0.0  1.379310e-01"
      ]
     },
     "execution_count": 3,
     "metadata": {},
     "output_type": "execute_result"
    }
   ],
   "source": [
    "fva = run_flux_variability_analysis(\n",
    "    model,\n",
    "    loopless=True,\n",
    "    pfba_factor=None,\n",
    "    objectives=['ALT_MVAS'],\n",
    "    reactions=['ALT_MVAS', 'ALT_MVAD', 'ALT_MVAE', 'ALT_PMK', 'ALT_MVK', 'ALT_IDLI']\n",
    ")\n",
    "\n",
    "fva"
   ]
  },
  {
   "cell_type": "markdown",
   "id": "91e140dc",
   "metadata": {},
   "source": [
    "### FVA (Repaired)"
   ]
  },
  {
   "cell_type": "code",
   "execution_count": 20,
   "id": "072096f5",
   "metadata": {},
   "outputs": [
    {
     "data": {
      "text/html": [
       "<div>\n",
       "<style scoped>\n",
       "    .dataframe tbody tr th:only-of-type {\n",
       "        vertical-align: middle;\n",
       "    }\n",
       "\n",
       "    .dataframe tbody tr th {\n",
       "        vertical-align: top;\n",
       "    }\n",
       "\n",
       "    .dataframe thead th {\n",
       "        text-align: right;\n",
       "    }\n",
       "</style>\n",
       "<table border=\"1\" class=\"dataframe\">\n",
       "  <thead>\n",
       "    <tr style=\"text-align: right;\">\n",
       "      <th></th>\n",
       "      <th>minimum</th>\n",
       "      <th>maximum</th>\n",
       "    </tr>\n",
       "  </thead>\n",
       "  <tbody>\n",
       "    <tr>\n",
       "      <th>ALT_MVAS</th>\n",
       "      <td>0.0</td>\n",
       "      <td>1.333895e-34</td>\n",
       "    </tr>\n",
       "    <tr>\n",
       "      <th>ALT_MVAD</th>\n",
       "      <td>0.0</td>\n",
       "      <td>0.000000e+00</td>\n",
       "    </tr>\n",
       "    <tr>\n",
       "      <th>ALT_MVAE</th>\n",
       "      <td>0.0</td>\n",
       "      <td>1.333895e-34</td>\n",
       "    </tr>\n",
       "    <tr>\n",
       "      <th>ALT_PMK</th>\n",
       "      <td>0.0</td>\n",
       "      <td>3.381919e-32</td>\n",
       "    </tr>\n",
       "    <tr>\n",
       "      <th>ALT_MVK</th>\n",
       "      <td>0.0</td>\n",
       "      <td>1.333895e-34</td>\n",
       "    </tr>\n",
       "    <tr>\n",
       "      <th>ALT_IDLI</th>\n",
       "      <td>0.0</td>\n",
       "      <td>1.379310e-01</td>\n",
       "    </tr>\n",
       "  </tbody>\n",
       "</table>\n",
       "</div>"
      ],
      "text/plain": [
       "          minimum       maximum\n",
       "ALT_MVAS      0.0  1.333895e-34\n",
       "ALT_MVAD      0.0  0.000000e+00\n",
       "ALT_MVAE      0.0  1.333895e-34\n",
       "ALT_PMK       0.0  3.381919e-32\n",
       "ALT_MVK       0.0  1.333895e-34\n",
       "ALT_IDLI      0.0  1.379310e-01"
      ]
     },
     "execution_count": 20,
     "metadata": {},
     "output_type": "execute_result"
    }
   ],
   "source": [
    "temp = model.copy()\n",
    "\n",
    "# Acetyl_CoA_c = temp.metabolites.get_by_id(\"accoa_c\")\n",
    "# Acetyl_CoA_h = temp.metabolites.get_by_id(\"accoa_h\")\n",
    "\n",
    "FPPS = temp.reactions.get_by_id('FPPS')\n",
    "mets = FPPS.metabolites\n",
    "\n",
    "add_single_gene_reaction_pair(\n",
    "    model=temp,\n",
    "    gene_id=\"FPPS_ATTEMPT\",\n",
    "    reaction_id='FPPS_NEW',\n",
    "    reaction_name=\"Farnesyl pyrophosphate synthase (manual)\",\n",
    "    reaction_subsystem=\"Biosynthesis of steroids\",\n",
    "    metabolites=[ (k, v.id) for v, k in mets.items() ],\n",
    "    reversible=False\n",
    ")\n",
    "\n",
    "FPPS.lower_bound = 0\n",
    "FPPS.upper_bound = 0\n",
    "\n",
    "fva = run_flux_variability_analysis(\n",
    "    model=temp,\n",
    "    loopless=True,\n",
    "    pfba_factor=None,\n",
    "    objectives=['ALT_MVAS'],\n",
    "    reactions=['ALT_MVAS', 'ALT_MVAD', 'ALT_MVAE', 'ALT_PMK', 'ALT_MVK', 'ALT_IDLI']\n",
    ")\n",
    "\n",
    "fva"
   ]
  },
  {
   "cell_type": "markdown",
   "id": "657d36b2",
   "metadata": {},
   "source": [
    "### FVA (Sterol)"
   ]
  }
 ],
 "metadata": {
  "kernelspec": {
   "display_name": "venv",
   "language": "python",
   "name": "python3"
  },
  "language_info": {
   "codemirror_mode": {
    "name": "ipython",
    "version": 3
   },
   "file_extension": ".py",
   "mimetype": "text/x-python",
   "name": "python",
   "nbconvert_exporter": "python",
   "pygments_lexer": "ipython3",
   "version": "3.12.10"
  }
 },
 "nbformat": 4,
 "nbformat_minor": 5
}
