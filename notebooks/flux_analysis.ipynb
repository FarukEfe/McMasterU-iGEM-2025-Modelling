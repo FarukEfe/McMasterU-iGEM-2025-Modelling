{
 "cells": [
  {
   "cell_type": "markdown",
   "id": "5770b41c",
   "metadata": {},
   "source": [
    "### Setup"
   ]
  },
  {
   "cell_type": "code",
   "execution_count": 2,
   "id": "23824f3d",
   "metadata": {},
   "outputs": [],
   "source": [
    "import os, sys\n",
    "sys.path.append('..')\n",
    "\n",
    "import warnings\n",
    "warnings.filterwarnings('ignore', category=UserWarning, module='cobra')\n",
    "\n",
    "from cobra import io\n",
    "from scripts.helpers.model import rxn_in_model, add_single_gene_reaction_pair\n",
    "from scripts.opt._fba import flux_balance_analysis\n",
    "from scripts.opt._fva import run_flux_variability_analysis"
   ]
  },
  {
   "cell_type": "markdown",
   "id": "84514e80",
   "metadata": {},
   "source": [
    "### Import Models"
   ]
  },
  {
   "cell_type": "code",
   "execution_count": 3,
   "id": "f47d2969",
   "metadata": {},
   "outputs": [
    {
     "name": "stderr",
     "output_type": "stream",
     "text": [
      "No objective coefficients in model. Unclear what should be optimized\n"
     ]
    },
    {
     "name": "stdout",
     "output_type": "stream",
     "text": [
      "Loading model: SQE+MVA from ../data/altered/xmls/MNL_iCre1355_GAPFILL/SQE+MVA.xml\n"
     ]
    },
    {
     "name": "stderr",
     "output_type": "stream",
     "text": [
      "No objective coefficients in model. Unclear what should be optimized\n"
     ]
    },
    {
     "name": "stdout",
     "output_type": "stream",
     "text": [
      "Loading model: SQE from ../data/altered/xmls/MNL_iCre1355_GAPFILL/SQE.xml\n"
     ]
    },
    {
     "name": "stderr",
     "output_type": "stream",
     "text": [
      "No objective coefficients in model. Unclear what should be optimized\n"
     ]
    },
    {
     "name": "stdout",
     "output_type": "stream",
     "text": [
      "Loading model: SQS+MVA from ../data/altered/xmls/MNL_iCre1355_GAPFILL/SQS+MVA.xml\n"
     ]
    },
    {
     "name": "stderr",
     "output_type": "stream",
     "text": [
      "No objective coefficients in model. Unclear what should be optimized\n"
     ]
    },
    {
     "name": "stdout",
     "output_type": "stream",
     "text": [
      "Loading model: SQS+SQE+MVA from ../data/altered/xmls/MNL_iCre1355_GAPFILL/SQS+SQE+MVA.xml\n"
     ]
    },
    {
     "name": "stderr",
     "output_type": "stream",
     "text": [
      "No objective coefficients in model. Unclear what should be optimized\n"
     ]
    },
    {
     "name": "stdout",
     "output_type": "stream",
     "text": [
      "Loading model: SQS+SQE from ../data/altered/xmls/MNL_iCre1355_GAPFILL/SQS+SQE.xml\n"
     ]
    },
    {
     "name": "stderr",
     "output_type": "stream",
     "text": [
      "No objective coefficients in model. Unclear what should be optimized\n"
     ]
    },
    {
     "name": "stdout",
     "output_type": "stream",
     "text": [
      "Loading model: SQS from ../data/altered/xmls/MNL_iCre1355_GAPFILL/SQS.xml\n"
     ]
    },
    {
     "name": "stderr",
     "output_type": "stream",
     "text": [
      "No objective coefficients in model. Unclear what should be optimized\n"
     ]
    },
    {
     "name": "stdout",
     "output_type": "stream",
     "text": [
      "\n",
      "Loaded 7 models:\n",
      "  - Wildtype: None\n",
      "  - SQE+MVA: MNL_iCre1355_GAPFILL_SQE+MVA\n",
      "  - SQE: MNL_iCre1355_GAPFILL_SQE\n",
      "  - SQS+MVA: MNL_iCre1355_GAPFILL_SQS+MVA\n",
      "  - SQS+SQE+MVA: MNL_iCre1355_GAPFILL_SQS+SQE+MVA\n",
      "  - SQS+SQE: MNL_iCre1355_GAPFILL_SQS+SQE\n",
      "  - SQS: MNL_iCre1355_GAPFILL_SQS\n"
     ]
    }
   ],
   "source": [
    "# Load models\n",
    "\n",
    "# Load wildtype from manual directory (adjust path for notebooks directory)\n",
    "# Use io.read_sbml_model for local files instead of io.load_model\n",
    "wildtype = io.read_sbml_model('../data/manual/xmls/MNL_iCre1355_GAPFILL.xml')\n",
    "\n",
    "models = {\n",
    "    \"Wildtype\": wildtype\n",
    "}\n",
    "\n",
    "# Get altered reactions of wildtype - using correct directory name\n",
    "altered_dir = '../data/altered/xmls/MNL_iCre1355_GAPFILL/'\n",
    "\n",
    "for root, dirs, files in os.walk(altered_dir):\n",
    "    for file in files:\n",
    "        if file.endswith('.xml'):\n",
    "            # Get file name and remove .xml extension\n",
    "            model_name = file[:-4]\n",
    "            full_path = os.path.join(root, file)\n",
    "            print(f\"Loading model: {model_name} from {full_path}\")\n",
    "            models[model_name] = io.read_sbml_model(full_path)\n",
    "\n",
    "# Print out loaded models\n",
    "print(f\"\\nLoaded {len(models)} models:\")\n",
    "for name in models.keys():\n",
    "    print(f\"  - {name}: {models[name].name}\")"
   ]
  },
  {
   "cell_type": "markdown",
   "id": "4791b5e1",
   "metadata": {},
   "source": [
    "### IDs and Vmax"
   ]
  },
  {
   "cell_type": "code",
   "execution_count": 4,
   "id": "695773b2",
   "metadata": {},
   "outputs": [],
   "source": [
    "from enum import Enum\n",
    "\n",
    "class MetID(Enum):\n",
    "    # Pyruvate Compounds\n",
    "    IPP = \"ipdp_h\"\n",
    "    DMAPP = \"dmpp_h\"\n",
    "    # Sterol Compounds\n",
    "    ERG = \"FILL_05\"\n",
    "    EPI = \"FILL_02\"\n",
    "    METLOP = \"FILL_01\"\n",
    "    FEC = \"mfecostrl_c\"\n",
    "    EPOXY = \"Ssq23epx_c\"\n",
    "    SQL = \"sql_c\"\n",
    "    # MVA Compounds\n",
    "    MVA1 = \"C00356\"\n",
    "    MVA2 = \"C00418\"\n",
    "    MVA3 = \"C01107\"\n",
    "    MVA4 = \"C01143\"\n",
    "    MVA5 = \"C00009\"\n",
    "\n",
    "class RxnID(Enum):\n",
    "    # Biomass\n",
    "    BIOMASS = \"Biomass_Chlamy_auto\"\n",
    "    # Exchange\n",
    "    EXCHERG = \"ERGOSTEROLEXCH\" # This will be added to models first\n",
    "    # Ergosterol Synthesis\n",
    "    SS = 'SS'\n",
    "    SS2 = 'ALT_SQS2'\n",
    "    SQE = 'SMO'\n",
    "    SQE2 = 'ALT_SQE2'\n",
    "    CAS = 'CAS'\n",
    "    ERG = 'RXNFILL_05'\n",
    "    # MVA Pathway\n",
    "    MVAS = 'ALT_MVAS'\n",
    "    MVAE = 'ALT_MVAE'\n",
    "    MVAD = 'ALT_MVAD'\n",
    "    PMK = 'ALT_PMK'\n",
    "    MVK = 'ALT_MVK'\n",
    "    IDLI = 'ALT_IDLI'\n",
    "    # Pyruvate Metabolism\n",
    "\n",
    "# Vmax = {\n",
    "#     key: 0.005 for key in RxnID.__members__.keys()\n",
    "# }"
   ]
  },
  {
   "cell_type": "markdown",
   "id": "3538d4a0",
   "metadata": {},
   "source": [
    "### Preprocessing Models"
   ]
  },
  {
   "cell_type": "code",
   "execution_count": 5,
   "id": "1c71b6af",
   "metadata": {},
   "outputs": [],
   "source": [
    "for name in models.keys():\n",
    "    model = models[name]\n",
    "\n",
    "    # Add export reaction\n",
    "    try:\n",
    "        add_single_gene_reaction_pair(\n",
    "            model=model, \n",
    "            gene_id=\"EXCHERG_GENE\",\n",
    "            reaction_id=RxnID.EXCHERG.value,\n",
    "            reaction_name=\"Ergosterol exchange (assumption)\", \n",
    "            reaction_subsystem=\"Exchange\", \n",
    "            metabolites=[(-1, MetID.ERG.value)],\n",
    "            reversible=True\n",
    "        )\n",
    "    except:\n",
    "        pass\n",
    "\n",
    "    # # Add Vmax information for SQS, SQE, and MVA stuff\n",
    "    # for k, v in Vmax.items():\n",
    "    #     if rxn_in_model(model, k):\n",
    "    #         model.reactions.get_by_id(k).lower_bound = v"
   ]
  },
  {
   "cell_type": "markdown",
   "id": "34611d0e",
   "metadata": {},
   "source": [
    "### Flux Balance Analysis"
   ]
  },
  {
   "cell_type": "code",
   "execution_count": 6,
   "id": "0fcf2c48",
   "metadata": {},
   "outputs": [
    {
     "name": "stdout",
     "output_type": "stream",
     "text": [
      "\n",
      "Running FBA for model: Wildtype\n",
      "\tObjective value: 7.090681340665354e-15\n",
      "\n",
      "Running FBA for model: SQE+MVA\n",
      "\tObjective value: 7.090681340665354e-15\n",
      "\n",
      "Running FBA for model: SQE+MVA\n",
      "\tObjective value: 0.06896551724138\n",
      "\n",
      "Running FBA for model: SQE\n",
      "\tObjective value: 0.06896551724138\n",
      "\n",
      "Running FBA for model: SQE\n",
      "\tObjective value: 0.06896551724138106\n",
      "\n",
      "Running FBA for model: SQS+MVA\n",
      "\tObjective value: 0.06896551724138106\n",
      "\n",
      "Running FBA for model: SQS+MVA\n",
      "\tObjective value: -1.170352019085644e-14\n",
      "\n",
      "Running FBA for model: SQS+SQE+MVA\n",
      "\tObjective value: -1.170352019085644e-14\n",
      "\n",
      "Running FBA for model: SQS+SQE+MVA\n",
      "\tObjective value: 0.06896551724138013\n",
      "\n",
      "Running FBA for model: SQS+SQE\n",
      "\tObjective value: 0.06896551724138013\n",
      "\n",
      "Running FBA for model: SQS+SQE\n",
      "\tObjective value: 0.06896551724137949\n",
      "\n",
      "Running FBA for model: SQS\n",
      "\tObjective value: 0.06896551724137949\n",
      "\n",
      "Running FBA for model: SQS\n",
      "\tObjective value: 1.7190529524578766e-14\n",
      "\tObjective value: 1.7190529524578766e-14\n"
     ]
    }
   ],
   "source": [
    "# Run flux-balance analysis on each model and store results\n",
    "fba = {}\n",
    "\n",
    "for name, model in models.items():\n",
    "    print(f\"\\nRunning FBA for model: {name}\")\n",
    "    fba[name] = flux_balance_analysis(model, objectives=[RxnID.BIOMASS.value, RxnID.EXCHERG.value], loopless=False, is_pfba=True)\n",
    "    print(f\"\\tObjective value: {fba[name].fluxes[RxnID.EXCHERG.value]}\")"
   ]
  },
  {
   "cell_type": "markdown",
   "id": "e39899db",
   "metadata": {},
   "source": [
    "### Flux Variability Analysis"
   ]
  },
  {
   "cell_type": "code",
   "execution_count": 7,
   "id": "948989df",
   "metadata": {},
   "outputs": [
    {
     "name": "stdout",
     "output_type": "stream",
     "text": [
      "\n",
      "Running FVA for model: Wildtype\n",
      "                     minimum       maximum\n",
      "Biomass_Chlamy_auto     0.00  3.854623e-17\n",
      "ERGOSTEROLEXCH          0.04  4.000000e-02\n",
      "RXNFILL_05              0.04  4.000000e-02\n",
      "SS                      0.04  4.000000e-02\n",
      "SMO                     0.04  4.000000e-02\n",
      "CAS                     0.04  4.000000e-02\n",
      "\n",
      "Running FVA for model: SQE+MVA\n",
      "                     minimum       maximum\n",
      "Biomass_Chlamy_auto     0.00  3.854623e-17\n",
      "ERGOSTEROLEXCH          0.04  4.000000e-02\n",
      "RXNFILL_05              0.04  4.000000e-02\n",
      "SS                      0.04  4.000000e-02\n",
      "SMO                     0.04  4.000000e-02\n",
      "CAS                     0.04  4.000000e-02\n",
      "\n",
      "Running FVA for model: SQE+MVA\n",
      "                          minimum       maximum\n",
      "Biomass_Chlamy_auto  0.000000e+00  1.243184e-15\n",
      "ERGOSTEROLEXCH       6.896552e-02  6.896552e-02\n",
      "RXNFILL_05           6.896552e-02  6.896552e-02\n",
      "SS                   6.896552e-02  6.896552e-02\n",
      "SMO                 -1.530359e-16  4.647404e-15\n",
      "ALT_SQE2             6.896552e-02  6.896552e-02\n",
      "CAS                  6.896552e-02  6.896552e-02\n",
      "ALT_MVAD             0.000000e+00  0.000000e+00\n",
      "ALT_MVAE             0.000000e+00  1.206953e-29\n",
      "ALT_MVAS             0.000000e+00  1.206953e-29\n",
      "ALT_PMK              0.000000e+00  0.000000e+00\n",
      "ALT_MVK              0.000000e+00 -1.072847e-29\n",
      "ALT_IDLI             0.000000e+00  1.379310e-01\n",
      "\n",
      "Running FVA for model: SQE\n",
      "                          minimum       maximum\n",
      "Biomass_Chlamy_auto  0.000000e+00  1.243184e-15\n",
      "ERGOSTEROLEXCH       6.896552e-02  6.896552e-02\n",
      "RXNFILL_05           6.896552e-02  6.896552e-02\n",
      "SS                   6.896552e-02  6.896552e-02\n",
      "SMO                 -1.530359e-16  4.647404e-15\n",
      "ALT_SQE2             6.896552e-02  6.896552e-02\n",
      "CAS                  6.896552e-02  6.896552e-02\n",
      "ALT_MVAD             0.000000e+00  0.000000e+00\n",
      "ALT_MVAE             0.000000e+00  1.206953e-29\n",
      "ALT_MVAS             0.000000e+00  1.206953e-29\n",
      "ALT_PMK              0.000000e+00  0.000000e+00\n",
      "ALT_MVK              0.000000e+00 -1.072847e-29\n",
      "ALT_IDLI             0.000000e+00  1.379310e-01\n",
      "\n",
      "Running FVA for model: SQE\n",
      "                          minimum       maximum\n",
      "Biomass_Chlamy_auto  0.000000e+00  4.431678e-15\n",
      "ERGOSTEROLEXCH       6.896552e-02  6.896552e-02\n",
      "RXNFILL_05           6.896552e-02  6.896552e-02\n",
      "SS                   6.896552e-02  6.896552e-02\n",
      "SMO                  1.578838e-15 -3.388540e-15\n",
      "ALT_SQE2             6.896552e-02  6.896552e-02\n",
      "CAS                  6.896552e-02  6.896552e-02\n",
      "\n",
      "Running FVA for model: SQS+MVA\n",
      "                          minimum       maximum\n",
      "Biomass_Chlamy_auto  0.000000e+00  4.431678e-15\n",
      "ERGOSTEROLEXCH       6.896552e-02  6.896552e-02\n",
      "RXNFILL_05           6.896552e-02  6.896552e-02\n",
      "SS                   6.896552e-02  6.896552e-02\n",
      "SMO                  1.578838e-15 -3.388540e-15\n",
      "ALT_SQE2             6.896552e-02  6.896552e-02\n",
      "CAS                  6.896552e-02  6.896552e-02\n",
      "\n",
      "Running FVA for model: SQS+MVA\n",
      "                     minimum       maximum\n",
      "Biomass_Chlamy_auto     0.00  2.018870e-15\n",
      "ERGOSTEROLEXCH          0.04  4.000000e-02\n",
      "RXNFILL_05              0.04  4.000000e-02\n",
      "SS                      0.00  4.000000e-02\n",
      "ALT_SQS2                0.00  4.000000e-02\n",
      "SMO                     0.04  4.000000e-02\n",
      "CAS                     0.04  4.000000e-02\n",
      "ALT_MVAD                0.00  0.000000e+00\n",
      "ALT_MVAE                0.00  0.000000e+00\n",
      "ALT_MVAS                0.00  0.000000e+00\n",
      "ALT_PMK                 0.00  0.000000e+00\n",
      "ALT_MVK                 0.00  0.000000e+00\n",
      "ALT_IDLI                0.00  8.000000e-02\n",
      "\n",
      "Running FVA for model: SQS+SQE+MVA\n",
      "                     minimum       maximum\n",
      "Biomass_Chlamy_auto     0.00  2.018870e-15\n",
      "ERGOSTEROLEXCH          0.04  4.000000e-02\n",
      "RXNFILL_05              0.04  4.000000e-02\n",
      "SS                      0.00  4.000000e-02\n",
      "ALT_SQS2                0.00  4.000000e-02\n",
      "SMO                     0.04  4.000000e-02\n",
      "CAS                     0.04  4.000000e-02\n",
      "ALT_MVAD                0.00  0.000000e+00\n",
      "ALT_MVAE                0.00  0.000000e+00\n",
      "ALT_MVAS                0.00  0.000000e+00\n",
      "ALT_PMK                 0.00  0.000000e+00\n",
      "ALT_MVK                 0.00  0.000000e+00\n",
      "ALT_IDLI                0.00  8.000000e-02\n",
      "\n",
      "Running FVA for model: SQS+SQE+MVA\n",
      "                          minimum       maximum\n",
      "Biomass_Chlamy_auto  0.000000e+00  1.379382e-15\n",
      "ERGOSTEROLEXCH       6.896552e-02  6.896552e-02\n",
      "RXNFILL_05           6.896552e-02  6.896552e-02\n",
      "SS                   0.000000e+00  6.896552e-02\n",
      "ALT_SQS2             0.000000e+00  6.896552e-02\n",
      "SMO                 -1.346948e-15  2.124131e-15\n",
      "ALT_SQE2             6.896552e-02  6.896552e-02\n",
      "CAS                  6.896552e-02  6.896552e-02\n",
      "ALT_MVAD             0.000000e+00  0.000000e+00\n",
      "ALT_MVAE             0.000000e+00  2.340641e-31\n",
      "ALT_MVAS             0.000000e+00  2.340641e-31\n",
      "ALT_PMK              0.000000e+00 -1.992125e-30\n",
      "ALT_MVK              0.000000e+00  5.388838e-31\n",
      "ALT_IDLI             0.000000e+00  1.379310e-01\n",
      "\n",
      "Running FVA for model: SQS+SQE\n",
      "                          minimum       maximum\n",
      "Biomass_Chlamy_auto  0.000000e+00  1.379382e-15\n",
      "ERGOSTEROLEXCH       6.896552e-02  6.896552e-02\n",
      "RXNFILL_05           6.896552e-02  6.896552e-02\n",
      "SS                   0.000000e+00  6.896552e-02\n",
      "ALT_SQS2             0.000000e+00  6.896552e-02\n",
      "SMO                 -1.346948e-15  2.124131e-15\n",
      "ALT_SQE2             6.896552e-02  6.896552e-02\n",
      "CAS                  6.896552e-02  6.896552e-02\n",
      "ALT_MVAD             0.000000e+00  0.000000e+00\n",
      "ALT_MVAE             0.000000e+00  2.340641e-31\n",
      "ALT_MVAS             0.000000e+00  2.340641e-31\n",
      "ALT_PMK              0.000000e+00 -1.992125e-30\n",
      "ALT_MVK              0.000000e+00  5.388838e-31\n",
      "ALT_IDLI             0.000000e+00  1.379310e-01\n",
      "\n",
      "Running FVA for model: SQS+SQE\n",
      "                          minimum       maximum\n",
      "Biomass_Chlamy_auto  0.000000e+00  3.825609e-16\n",
      "ERGOSTEROLEXCH       6.896552e-02  6.896552e-02\n",
      "RXNFILL_05           6.896552e-02  6.896552e-02\n",
      "SS                   0.000000e+00  6.896552e-02\n",
      "ALT_SQS2             0.000000e+00  6.896552e-02\n",
      "SMO                 -2.519919e-16  3.932684e-16\n",
      "ALT_SQE2             6.896552e-02  6.896552e-02\n",
      "CAS                  6.896552e-02  6.896552e-02\n",
      "\n",
      "Running FVA for model: SQS\n",
      "                          minimum       maximum\n",
      "Biomass_Chlamy_auto  0.000000e+00  3.825609e-16\n",
      "ERGOSTEROLEXCH       6.896552e-02  6.896552e-02\n",
      "RXNFILL_05           6.896552e-02  6.896552e-02\n",
      "SS                   0.000000e+00  6.896552e-02\n",
      "ALT_SQS2             0.000000e+00  6.896552e-02\n",
      "SMO                 -2.519919e-16  3.932684e-16\n",
      "ALT_SQE2             6.896552e-02  6.896552e-02\n",
      "CAS                  6.896552e-02  6.896552e-02\n",
      "\n",
      "Running FVA for model: SQS\n",
      "                     minimum       maximum\n",
      "Biomass_Chlamy_auto     0.00 -3.883882e-15\n",
      "ERGOSTEROLEXCH          0.04  4.000000e-02\n",
      "RXNFILL_05              0.04  4.000000e-02\n",
      "SS                      0.00  4.000000e-02\n",
      "ALT_SQS2                0.00  4.000000e-02\n",
      "SMO                     0.04  4.000000e-02\n",
      "CAS                     0.04  4.000000e-02\n",
      "                     minimum       maximum\n",
      "Biomass_Chlamy_auto     0.00 -3.883882e-15\n",
      "ERGOSTEROLEXCH          0.04  4.000000e-02\n",
      "RXNFILL_05              0.04  4.000000e-02\n",
      "SS                      0.00  4.000000e-02\n",
      "ALT_SQS2                0.00  4.000000e-02\n",
      "SMO                     0.04  4.000000e-02\n",
      "CAS                     0.04  4.000000e-02\n"
     ]
    }
   ],
   "source": [
    "fva = {}\n",
    "\n",
    "target_rxns = [\n",
    "    RxnID.BIOMASS.value,\n",
    "    RxnID.EXCHERG.value,\n",
    "    RxnID.ERG.value,\n",
    "    RxnID.SS.value,\n",
    "    RxnID.SS2.value,\n",
    "    RxnID.SQE.value,\n",
    "    RxnID.SQE2.value,\n",
    "    RxnID.CAS.value,\n",
    "    RxnID.MVAD.value,\n",
    "    RxnID.MVAE.value,\n",
    "    RxnID.MVAS.value,\n",
    "    RxnID.PMK.value,\n",
    "    RxnID.MVK.value,\n",
    "    RxnID.IDLI.value\n",
    "]\n",
    "\n",
    "for name, model in models.items():\n",
    "    print(f\"\\nRunning FVA for model: {name}\")\n",
    "    fva[name] = run_flux_variability_analysis(\n",
    "        model,\n",
    "        loopless=True,\n",
    "        pfba_factor=None,\n",
    "        objectives=[RxnID.EXCHERG.value],\n",
    "        reactions=[rxn for rxn in target_rxns if rxn_in_model(model, rxn)]\n",
    "    )\n",
    "    print(fva[name])"
   ]
  },
  {
   "cell_type": "markdown",
   "id": "87a3988c",
   "metadata": {},
   "source": [
    "### Results"
   ]
  },
  {
   "cell_type": "code",
   "execution_count": 10,
   "id": "69909211",
   "metadata": {},
   "outputs": [
    {
     "name": "stdout",
     "output_type": "stream",
     "text": [
      "FBA Flux Heatmap Data:\n",
      "             ERGOSTEROLEXCH  Biomass_Chlamy_auto    RXNFILL_05\n",
      "Wildtype       7.090681e-15         5.157516e-02  7.095648e-15\n",
      "SQE+MVA        6.896552e-02         0.000000e+00  6.896552e-02\n",
      "SQE            6.896552e-02        -1.842254e-15  6.896552e-02\n",
      "SQS+MVA       -1.170352e-14         5.157514e-02 -1.169592e-14\n",
      "SQS+SQE+MVA    6.896552e-02         0.000000e+00  6.896552e-02\n",
      "SQS+SQE        6.896552e-02         0.000000e+00  6.896552e-02\n",
      "SQS            1.719053e-14         5.157514e-02  1.719053e-14\n"
     ]
    },
    {
     "data": {
      "application/vnd.plotly.v1+json": {
       "config": {
        "plotlyServerURL": "https://plot.ly"
       },
       "data": [
        {
         "colorbar": {
          "title": {
           "text": "Flux (mmol/gDW/h)"
          }
         },
         "colorscale": [
          [
           0,
           "rgb(49,54,149)"
          ],
          [
           0.1,
           "rgb(69,117,180)"
          ],
          [
           0.2,
           "rgb(116,173,209)"
          ],
          [
           0.3,
           "rgb(171,217,233)"
          ],
          [
           0.4,
           "rgb(224,243,248)"
          ],
          [
           0.5,
           "rgb(255,255,191)"
          ],
          [
           0.6,
           "rgb(254,224,144)"
          ],
          [
           0.7,
           "rgb(253,174,97)"
          ],
          [
           0.8,
           "rgb(244,109,67)"
          ],
          [
           0.9,
           "rgb(215,48,39)"
          ],
          [
           1,
           "rgb(165,0,38)"
          ]
         ],
         "text": {
          "bdata": "AAAAAAAAAACze/KwUGuqPwAAAAAAAAAARIts5/upsT8AAAAAAAAAAESLbOf7qbE/RIts5/upsT8AAAAAAAAAgESLbOf7qbE/AAAAAAAAAICze/KwUGuqPwAAAAAAAACARIts5/upsT8AAAAAAAAAAESLbOf7qbE/RIts5/upsT8AAAAAAAAAAESLbOf7qbE/AAAAAAAAAACze/KwUGuqPwAAAAAAAAAA",
          "dtype": "f8",
          "shape": "7, 3"
         },
         "textfont": {
          "size": 10
         },
         "texttemplate": "%{text}",
         "type": "heatmap",
         "x": [
          "ERGOSTEROLEXCH",
          "Biomass_Chlamy_auto",
          "RXNFILL_05"
         ],
         "y": [
          "Wildtype",
          "SQE+MVA",
          "SQE",
          "SQS+MVA",
          "SQS+SQE+MVA",
          "SQS+SQE",
          "SQS"
         ],
         "z": {
          "bdata": "hj12vv/u/zzxs0cgD2iqP36gSIO59P88yHsaYbmnsT8AAAAAAAAAAMl7GmG5p7E/FHwaYbmnsT/hlSz/8pfgvBV8GmG5p7E/INzYu55aCr0SD0eZDmiqPxnGIk49Vgq90XsaYbmnsT8AAAAAAAAAANJ7GmG5p7E/o3saYbmnsT8AAAAAAAAAAKN7GmG5p7E/h3HMMdVaEz2F/0aZDmiqP4dxzDHVWhM9",
          "dtype": "f8",
          "shape": "7, 3"
         }
        }
       ],
       "layout": {
        "font": {
         "size": 12
        },
        "height": 600,
        "template": {
         "data": {
          "bar": [
           {
            "error_x": {
             "color": "#2a3f5f"
            },
            "error_y": {
             "color": "#2a3f5f"
            },
            "marker": {
             "line": {
              "color": "#E5ECF6",
              "width": 0.5
             },
             "pattern": {
              "fillmode": "overlay",
              "size": 10,
              "solidity": 0.2
             }
            },
            "type": "bar"
           }
          ],
          "barpolar": [
           {
            "marker": {
             "line": {
              "color": "#E5ECF6",
              "width": 0.5
             },
             "pattern": {
              "fillmode": "overlay",
              "size": 10,
              "solidity": 0.2
             }
            },
            "type": "barpolar"
           }
          ],
          "carpet": [
           {
            "aaxis": {
             "endlinecolor": "#2a3f5f",
             "gridcolor": "white",
             "linecolor": "white",
             "minorgridcolor": "white",
             "startlinecolor": "#2a3f5f"
            },
            "baxis": {
             "endlinecolor": "#2a3f5f",
             "gridcolor": "white",
             "linecolor": "white",
             "minorgridcolor": "white",
             "startlinecolor": "#2a3f5f"
            },
            "type": "carpet"
           }
          ],
          "choropleth": [
           {
            "colorbar": {
             "outlinewidth": 0,
             "ticks": ""
            },
            "type": "choropleth"
           }
          ],
          "contour": [
           {
            "colorbar": {
             "outlinewidth": 0,
             "ticks": ""
            },
            "colorscale": [
             [
              0,
              "#0d0887"
             ],
             [
              0.1111111111111111,
              "#46039f"
             ],
             [
              0.2222222222222222,
              "#7201a8"
             ],
             [
              0.3333333333333333,
              "#9c179e"
             ],
             [
              0.4444444444444444,
              "#bd3786"
             ],
             [
              0.5555555555555556,
              "#d8576b"
             ],
             [
              0.6666666666666666,
              "#ed7953"
             ],
             [
              0.7777777777777778,
              "#fb9f3a"
             ],
             [
              0.8888888888888888,
              "#fdca26"
             ],
             [
              1,
              "#f0f921"
             ]
            ],
            "type": "contour"
           }
          ],
          "contourcarpet": [
           {
            "colorbar": {
             "outlinewidth": 0,
             "ticks": ""
            },
            "type": "contourcarpet"
           }
          ],
          "heatmap": [
           {
            "colorbar": {
             "outlinewidth": 0,
             "ticks": ""
            },
            "colorscale": [
             [
              0,
              "#0d0887"
             ],
             [
              0.1111111111111111,
              "#46039f"
             ],
             [
              0.2222222222222222,
              "#7201a8"
             ],
             [
              0.3333333333333333,
              "#9c179e"
             ],
             [
              0.4444444444444444,
              "#bd3786"
             ],
             [
              0.5555555555555556,
              "#d8576b"
             ],
             [
              0.6666666666666666,
              "#ed7953"
             ],
             [
              0.7777777777777778,
              "#fb9f3a"
             ],
             [
              0.8888888888888888,
              "#fdca26"
             ],
             [
              1,
              "#f0f921"
             ]
            ],
            "type": "heatmap"
           }
          ],
          "histogram": [
           {
            "marker": {
             "pattern": {
              "fillmode": "overlay",
              "size": 10,
              "solidity": 0.2
             }
            },
            "type": "histogram"
           }
          ],
          "histogram2d": [
           {
            "colorbar": {
             "outlinewidth": 0,
             "ticks": ""
            },
            "colorscale": [
             [
              0,
              "#0d0887"
             ],
             [
              0.1111111111111111,
              "#46039f"
             ],
             [
              0.2222222222222222,
              "#7201a8"
             ],
             [
              0.3333333333333333,
              "#9c179e"
             ],
             [
              0.4444444444444444,
              "#bd3786"
             ],
             [
              0.5555555555555556,
              "#d8576b"
             ],
             [
              0.6666666666666666,
              "#ed7953"
             ],
             [
              0.7777777777777778,
              "#fb9f3a"
             ],
             [
              0.8888888888888888,
              "#fdca26"
             ],
             [
              1,
              "#f0f921"
             ]
            ],
            "type": "histogram2d"
           }
          ],
          "histogram2dcontour": [
           {
            "colorbar": {
             "outlinewidth": 0,
             "ticks": ""
            },
            "colorscale": [
             [
              0,
              "#0d0887"
             ],
             [
              0.1111111111111111,
              "#46039f"
             ],
             [
              0.2222222222222222,
              "#7201a8"
             ],
             [
              0.3333333333333333,
              "#9c179e"
             ],
             [
              0.4444444444444444,
              "#bd3786"
             ],
             [
              0.5555555555555556,
              "#d8576b"
             ],
             [
              0.6666666666666666,
              "#ed7953"
             ],
             [
              0.7777777777777778,
              "#fb9f3a"
             ],
             [
              0.8888888888888888,
              "#fdca26"
             ],
             [
              1,
              "#f0f921"
             ]
            ],
            "type": "histogram2dcontour"
           }
          ],
          "mesh3d": [
           {
            "colorbar": {
             "outlinewidth": 0,
             "ticks": ""
            },
            "type": "mesh3d"
           }
          ],
          "parcoords": [
           {
            "line": {
             "colorbar": {
              "outlinewidth": 0,
              "ticks": ""
             }
            },
            "type": "parcoords"
           }
          ],
          "pie": [
           {
            "automargin": true,
            "type": "pie"
           }
          ],
          "scatter": [
           {
            "fillpattern": {
             "fillmode": "overlay",
             "size": 10,
             "solidity": 0.2
            },
            "type": "scatter"
           }
          ],
          "scatter3d": [
           {
            "line": {
             "colorbar": {
              "outlinewidth": 0,
              "ticks": ""
             }
            },
            "marker": {
             "colorbar": {
              "outlinewidth": 0,
              "ticks": ""
             }
            },
            "type": "scatter3d"
           }
          ],
          "scattercarpet": [
           {
            "marker": {
             "colorbar": {
              "outlinewidth": 0,
              "ticks": ""
             }
            },
            "type": "scattercarpet"
           }
          ],
          "scattergeo": [
           {
            "marker": {
             "colorbar": {
              "outlinewidth": 0,
              "ticks": ""
             }
            },
            "type": "scattergeo"
           }
          ],
          "scattergl": [
           {
            "marker": {
             "colorbar": {
              "outlinewidth": 0,
              "ticks": ""
             }
            },
            "type": "scattergl"
           }
          ],
          "scattermap": [
           {
            "marker": {
             "colorbar": {
              "outlinewidth": 0,
              "ticks": ""
             }
            },
            "type": "scattermap"
           }
          ],
          "scattermapbox": [
           {
            "marker": {
             "colorbar": {
              "outlinewidth": 0,
              "ticks": ""
             }
            },
            "type": "scattermapbox"
           }
          ],
          "scatterpolar": [
           {
            "marker": {
             "colorbar": {
              "outlinewidth": 0,
              "ticks": ""
             }
            },
            "type": "scatterpolar"
           }
          ],
          "scatterpolargl": [
           {
            "marker": {
             "colorbar": {
              "outlinewidth": 0,
              "ticks": ""
             }
            },
            "type": "scatterpolargl"
           }
          ],
          "scatterternary": [
           {
            "marker": {
             "colorbar": {
              "outlinewidth": 0,
              "ticks": ""
             }
            },
            "type": "scatterternary"
           }
          ],
          "surface": [
           {
            "colorbar": {
             "outlinewidth": 0,
             "ticks": ""
            },
            "colorscale": [
             [
              0,
              "#0d0887"
             ],
             [
              0.1111111111111111,
              "#46039f"
             ],
             [
              0.2222222222222222,
              "#7201a8"
             ],
             [
              0.3333333333333333,
              "#9c179e"
             ],
             [
              0.4444444444444444,
              "#bd3786"
             ],
             [
              0.5555555555555556,
              "#d8576b"
             ],
             [
              0.6666666666666666,
              "#ed7953"
             ],
             [
              0.7777777777777778,
              "#fb9f3a"
             ],
             [
              0.8888888888888888,
              "#fdca26"
             ],
             [
              1,
              "#f0f921"
             ]
            ],
            "type": "surface"
           }
          ],
          "table": [
           {
            "cells": {
             "fill": {
              "color": "#EBF0F8"
             },
             "line": {
              "color": "white"
             }
            },
            "header": {
             "fill": {
              "color": "#C8D4E3"
             },
             "line": {
              "color": "white"
             }
            },
            "type": "table"
           }
          ]
         },
         "layout": {
          "annotationdefaults": {
           "arrowcolor": "#2a3f5f",
           "arrowhead": 0,
           "arrowwidth": 1
          },
          "autotypenumbers": "strict",
          "coloraxis": {
           "colorbar": {
            "outlinewidth": 0,
            "ticks": ""
           }
          },
          "colorscale": {
           "diverging": [
            [
             0,
             "#8e0152"
            ],
            [
             0.1,
             "#c51b7d"
            ],
            [
             0.2,
             "#de77ae"
            ],
            [
             0.3,
             "#f1b6da"
            ],
            [
             0.4,
             "#fde0ef"
            ],
            [
             0.5,
             "#f7f7f7"
            ],
            [
             0.6,
             "#e6f5d0"
            ],
            [
             0.7,
             "#b8e186"
            ],
            [
             0.8,
             "#7fbc41"
            ],
            [
             0.9,
             "#4d9221"
            ],
            [
             1,
             "#276419"
            ]
           ],
           "sequential": [
            [
             0,
             "#0d0887"
            ],
            [
             0.1111111111111111,
             "#46039f"
            ],
            [
             0.2222222222222222,
             "#7201a8"
            ],
            [
             0.3333333333333333,
             "#9c179e"
            ],
            [
             0.4444444444444444,
             "#bd3786"
            ],
            [
             0.5555555555555556,
             "#d8576b"
            ],
            [
             0.6666666666666666,
             "#ed7953"
            ],
            [
             0.7777777777777778,
             "#fb9f3a"
            ],
            [
             0.8888888888888888,
             "#fdca26"
            ],
            [
             1,
             "#f0f921"
            ]
           ],
           "sequentialminus": [
            [
             0,
             "#0d0887"
            ],
            [
             0.1111111111111111,
             "#46039f"
            ],
            [
             0.2222222222222222,
             "#7201a8"
            ],
            [
             0.3333333333333333,
             "#9c179e"
            ],
            [
             0.4444444444444444,
             "#bd3786"
            ],
            [
             0.5555555555555556,
             "#d8576b"
            ],
            [
             0.6666666666666666,
             "#ed7953"
            ],
            [
             0.7777777777777778,
             "#fb9f3a"
            ],
            [
             0.8888888888888888,
             "#fdca26"
            ],
            [
             1,
             "#f0f921"
            ]
           ]
          },
          "colorway": [
           "#636efa",
           "#EF553B",
           "#00cc96",
           "#ab63fa",
           "#FFA15A",
           "#19d3f3",
           "#FF6692",
           "#B6E880",
           "#FF97FF",
           "#FECB52"
          ],
          "font": {
           "color": "#2a3f5f"
          },
          "geo": {
           "bgcolor": "white",
           "lakecolor": "white",
           "landcolor": "#E5ECF6",
           "showlakes": true,
           "showland": true,
           "subunitcolor": "white"
          },
          "hoverlabel": {
           "align": "left"
          },
          "hovermode": "closest",
          "mapbox": {
           "style": "light"
          },
          "paper_bgcolor": "white",
          "plot_bgcolor": "#E5ECF6",
          "polar": {
           "angularaxis": {
            "gridcolor": "white",
            "linecolor": "white",
            "ticks": ""
           },
           "bgcolor": "#E5ECF6",
           "radialaxis": {
            "gridcolor": "white",
            "linecolor": "white",
            "ticks": ""
           }
          },
          "scene": {
           "xaxis": {
            "backgroundcolor": "#E5ECF6",
            "gridcolor": "white",
            "gridwidth": 2,
            "linecolor": "white",
            "showbackground": true,
            "ticks": "",
            "zerolinecolor": "white"
           },
           "yaxis": {
            "backgroundcolor": "#E5ECF6",
            "gridcolor": "white",
            "gridwidth": 2,
            "linecolor": "white",
            "showbackground": true,
            "ticks": "",
            "zerolinecolor": "white"
           },
           "zaxis": {
            "backgroundcolor": "#E5ECF6",
            "gridcolor": "white",
            "gridwidth": 2,
            "linecolor": "white",
            "showbackground": true,
            "ticks": "",
            "zerolinecolor": "white"
           }
          },
          "shapedefaults": {
           "line": {
            "color": "#2a3f5f"
           }
          },
          "ternary": {
           "aaxis": {
            "gridcolor": "white",
            "linecolor": "white",
            "ticks": ""
           },
           "baxis": {
            "gridcolor": "white",
            "linecolor": "white",
            "ticks": ""
           },
           "bgcolor": "#E5ECF6",
           "caxis": {
            "gridcolor": "white",
            "linecolor": "white",
            "ticks": ""
           }
          },
          "title": {
           "x": 0.05
          },
          "xaxis": {
           "automargin": true,
           "gridcolor": "white",
           "linecolor": "white",
           "ticks": "",
           "title": {
            "standoff": 15
           },
           "zerolinecolor": "white",
           "zerolinewidth": 2
          },
          "yaxis": {
           "automargin": true,
           "gridcolor": "white",
           "linecolor": "white",
           "ticks": "",
           "title": {
            "standoff": 15
           },
           "zerolinecolor": "white",
           "zerolinewidth": 2
          }
         }
        },
        "title": {
         "text": "FBA Flux Analysis Heatmap"
        },
        "width": 800,
        "xaxis": {
         "title": {
          "text": "Reactions"
         }
        },
        "yaxis": {
         "title": {
          "text": "Models"
         }
        }
       }
      }
     },
     "metadata": {},
     "output_type": "display_data"
    }
   ],
   "source": [
    "import pandas as pd\n",
    "import plotly.express as px\n",
    "import plotly.graph_objects as go\n",
    "\n",
    "# Define target reactions for heatmap\n",
    "target_reactions = [\n",
    "    RxnID.EXCHERG.value,\n",
    "    RxnID.BIOMASS.value,\n",
    "    RxnID.ERG.value\n",
    "]\n",
    "\n",
    "# Create data for heatmap\n",
    "heatmap_data = []\n",
    "model_names = []\n",
    "flux_matrix = []\n",
    "\n",
    "for model_name, fba_result in fba.items():\n",
    "    model_names.append(model_name)\n",
    "    flux_row = []\n",
    "    \n",
    "    for rxn_id in target_reactions:\n",
    "        # Get flux value, default to 0 if reaction not found\n",
    "        if rxn_id in fba_result.fluxes.index:\n",
    "            flux_value = fba_result.fluxes[rxn_id]\n",
    "        else:\n",
    "            flux_value = 0.0\n",
    "        flux_row.append(flux_value)\n",
    "    \n",
    "    flux_matrix.append(flux_row)\n",
    "\n",
    "# Create DataFrame for easier handling\n",
    "df_heatmap = pd.DataFrame(\n",
    "    flux_matrix, \n",
    "    index=model_names, \n",
    "    columns=target_reactions\n",
    ")\n",
    "\n",
    "print(\"FBA Flux Heatmap Data:\")\n",
    "print(df_heatmap)\n",
    "\n",
    "# Create heatmap using Plotly\n",
    "fig = go.Figure(data=go.Heatmap(\n",
    "    z=df_heatmap.values,\n",
    "    x=target_reactions,\n",
    "    y=model_names,\n",
    "    colorscale='RdYlBu_r',  # Red-Yellow-Blue reversed (red=high, blue=low)\n",
    "    text=df_heatmap.values.round(4),  # Show values on cells\n",
    "    texttemplate=\"%{text}\",\n",
    "    textfont={\"size\": 10},\n",
    "    colorbar=dict(title=\"Flux (mmol/gDW/h)\")\n",
    "))\n",
    "\n",
    "fig.update_layout(\n",
    "    title=\"FBA Flux Analysis Heatmap\",\n",
    "    xaxis_title=\"Reactions\",\n",
    "    yaxis_title=\"Models\",\n",
    "    width=800,\n",
    "    height=600,\n",
    "    font=dict(size=12)\n",
    ")\n",
    "\n",
    "fig.show()"
   ]
  },
  {
   "cell_type": "code",
   "execution_count": 14,
   "id": "7a0bb02f",
   "metadata": {},
   "outputs": [
    {
     "name": "stdout",
     "output_type": "stream",
     "text": [
      "Heatmap saved to: ../results/bench/heatmap\\fba_flux_heatmap.png\n",
      "Flux data saved to: ../results/bench/heatmap\\fba_flux_data.csv\n",
      "Interactive heatmap saved to: ../results/bench/heatmap\\fba_flux_heatmap.html\n",
      "Image (PNG) heatmap saved to: ../results/bench/heatmap\\fba_flux_heatmap.png\n",
      "Image (PNG) heatmap saved to: ../results/bench/heatmap\\fba_flux_heatmap.png\n"
     ]
    }
   ],
   "source": [
    "# Export results\n",
    "import os\n",
    "\n",
    "# Create results directory if it doesn't exist\n",
    "results_dir = '../results/bench/heatmap'\n",
    "os.makedirs(results_dir, exist_ok=True)\n",
    "\n",
    "# Save the heatmap as PNG\n",
    "output_path = os.path.join(results_dir, 'fba_flux_heatmap.png')\n",
    "fig.write_image(output_path, width=800, height=600, scale=2)\n",
    "print(f\"Heatmap saved to: {output_path}\")\n",
    "\n",
    "# Also save the DataFrame as CSV for reference\n",
    "csv_path = os.path.join(results_dir, 'fba_flux_data.csv')\n",
    "df_heatmap.to_csv(csv_path)\n",
    "print(f\"Flux data saved to: {csv_path}\")\n",
    "\n",
    "# Save the heatmap as HTML for interactive viewing\n",
    "html_path = os.path.join(results_dir, 'fba_flux_heatmap.html')\n",
    "fig.write_html(html_path)\n",
    "print(f\"Interactive heatmap saved to: {html_path}\")\n",
    "\n",
    "# Save the heatmap as .png for convenience\n",
    "png_path = os.path.join(results_dir, 'fba_flux_heatmap.png')\n",
    "fig.write_image(\n",
    "    png_path,\n",
    "    width=1200,\n",
    "    height=800,\n",
    "    scale=2,\n",
    "    format=\"png\"\n",
    ")\n",
    "print(f\"Image (PNG) heatmap saved to: {png_path}\")"
   ]
  }
 ],
 "metadata": {
  "kernelspec": {
   "display_name": "venv",
   "language": "python",
   "name": "python3"
  },
  "language_info": {
   "codemirror_mode": {
    "name": "ipython",
    "version": 3
   },
   "file_extension": ".py",
   "mimetype": "text/x-python",
   "name": "python",
   "nbconvert_exporter": "python",
   "pygments_lexer": "ipython3",
   "version": "3.12.10"
  }
 },
 "nbformat": 4,
 "nbformat_minor": 5
}
