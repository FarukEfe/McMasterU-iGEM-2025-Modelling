{
 "cells": [
  {
   "cell_type": "markdown",
   "id": "5770b41c",
   "metadata": {},
   "source": [
    "### Setup"
   ]
  },
  {
   "cell_type": "code",
   "execution_count": 27,
   "id": "23824f3d",
   "metadata": {},
   "outputs": [],
   "source": [
    "import os, sys\n",
    "sys.path.append('..')\n",
    "\n",
    "import warnings\n",
    "warnings.filterwarnings('ignore', category=UserWarning, module='cobra')\n",
    "\n",
    "from cobra import io\n",
    "from scripts.helpers.model import add_single_gene_reaction_pair\n",
    "from scripts.opt._fba import flux_balance_analysis"
   ]
  },
  {
   "cell_type": "markdown",
   "id": "84514e80",
   "metadata": {},
   "source": [
    "### Import Models"
   ]
  },
  {
   "cell_type": "code",
   "execution_count": 26,
   "id": "f47d2969",
   "metadata": {},
   "outputs": [
    {
     "name": "stderr",
     "output_type": "stream",
     "text": [
      "No objective coefficients in model. Unclear what should be optimized\n"
     ]
    },
    {
     "name": "stdout",
     "output_type": "stream",
     "text": [
      "Loading model: SQE+MVA from ../data/altered/xmls/MNL_iCre1355_GAPFILL/SQE+MVA.xml\n"
     ]
    },
    {
     "name": "stderr",
     "output_type": "stream",
     "text": [
      "No objective coefficients in model. Unclear what should be optimized\n"
     ]
    },
    {
     "name": "stdout",
     "output_type": "stream",
     "text": [
      "Loading model: SQE from ../data/altered/xmls/MNL_iCre1355_GAPFILL/SQE.xml\n"
     ]
    },
    {
     "name": "stderr",
     "output_type": "stream",
     "text": [
      "No objective coefficients in model. Unclear what should be optimized\n"
     ]
    },
    {
     "name": "stdout",
     "output_type": "stream",
     "text": [
      "Loading model: SQS+MVA from ../data/altered/xmls/MNL_iCre1355_GAPFILL/SQS+MVA.xml\n"
     ]
    },
    {
     "name": "stderr",
     "output_type": "stream",
     "text": [
      "No objective coefficients in model. Unclear what should be optimized\n"
     ]
    },
    {
     "name": "stdout",
     "output_type": "stream",
     "text": [
      "Loading model: SQS+SQE+MVA from ../data/altered/xmls/MNL_iCre1355_GAPFILL/SQS+SQE+MVA.xml\n"
     ]
    },
    {
     "name": "stderr",
     "output_type": "stream",
     "text": [
      "No objective coefficients in model. Unclear what should be optimized\n"
     ]
    },
    {
     "name": "stdout",
     "output_type": "stream",
     "text": [
      "Loading model: SQS+SQE from ../data/altered/xmls/MNL_iCre1355_GAPFILL/SQS+SQE.xml\n"
     ]
    },
    {
     "name": "stderr",
     "output_type": "stream",
     "text": [
      "No objective coefficients in model. Unclear what should be optimized\n"
     ]
    },
    {
     "name": "stdout",
     "output_type": "stream",
     "text": [
      "Loading model: SQS from ../data/altered/xmls/MNL_iCre1355_GAPFILL/SQS.xml\n"
     ]
    },
    {
     "name": "stderr",
     "output_type": "stream",
     "text": [
      "No objective coefficients in model. Unclear what should be optimized\n"
     ]
    },
    {
     "name": "stdout",
     "output_type": "stream",
     "text": [
      "\n",
      "Loaded 7 models:\n",
      "  - Wildtype: None\n",
      "  - SQE+MVA: MNL_iCre1355_GAPFILL_SQE+MVA\n",
      "  - SQE: MNL_iCre1355_GAPFILL_SQE\n",
      "  - SQS+MVA: MNL_iCre1355_GAPFILL_SQS+MVA\n",
      "  - SQS+SQE+MVA: MNL_iCre1355_GAPFILL_SQS+SQE+MVA\n",
      "  - SQS+SQE: MNL_iCre1355_GAPFILL_SQS+SQE\n",
      "  - SQS: MNL_iCre1355_GAPFILL_SQS\n"
     ]
    }
   ],
   "source": [
    "# Load models\n",
    "\n",
    "# Load wildtype from manual directory (adjust path for notebooks directory)\n",
    "# Use io.read_sbml_model for local files instead of io.load_model\n",
    "wildtype = io.read_sbml_model('../data/manual/xmls/MNL_iCre1355_GAPFILL.xml')\n",
    "\n",
    "models = {\n",
    "    \"Wildtype\": wildtype\n",
    "}\n",
    "\n",
    "# Get altered reactions of wildtype - using correct directory name\n",
    "# Available directories: KEGG_iBD1106_GAPFILL, KEGG_iCre1355_auto_GAPFILL, KEGG_iRC1080_GAPFILL, test\n",
    "altered_dir = '../data/altered/xmls/MNL_iCre1355_GAPFILL/'\n",
    "\n",
    "for root, dirs, files in os.walk(altered_dir):\n",
    "    for file in files:\n",
    "        if file.endswith('.xml'):\n",
    "            # Get file name and remove .xml extension\n",
    "            model_name = file[:-4]\n",
    "            full_path = os.path.join(root, file)\n",
    "            print(f\"Loading model: {model_name} from {full_path}\")\n",
    "            models[model_name] = io.read_sbml_model(full_path)\n",
    "\n",
    "# Print out loaded models\n",
    "print(f\"\\nLoaded {len(models)} models:\")\n",
    "for name in models.keys():\n",
    "    print(f\"  - {name}: {models[name].name}\")"
   ]
  },
  {
   "cell_type": "markdown",
   "id": "4791b5e1",
   "metadata": {},
   "source": [
    "### Important IDs"
   ]
  },
  {
   "cell_type": "code",
   "execution_count": null,
   "id": "695773b2",
   "metadata": {},
   "outputs": [],
   "source": [
    "from enum import Enum\n",
    "\n",
    "class MetID(Enum):\n",
    "    # Pyruvate Compounds\n",
    "    IPP = \"ipdp_h\"\n",
    "    DMAPP = \"dmpp_h\"\n",
    "    # Sterol Compounds\n",
    "    ERG = \"FILL_05\"\n",
    "    EPI = \"FILL_02\"\n",
    "    METLOP = \"FILL_01\"\n",
    "    FEC = \"mfecostrl_c\"\n",
    "    EPOXY = \"Ssq23epx_c\"\n",
    "    SQL = \"sql_c\"\n",
    "    # MVA Compounds\n",
    "    MVA1 = \"C00356\"\n",
    "    MVA2 = \"C00418\"\n",
    "    MVA3 = \"C01107\"\n",
    "    MVA4 = \"C01143\"\n",
    "    MVA5 = \"C00009\"\n",
    "\n",
    "class RxnID(Enum):\n",
    "    SS = 'SS'\n",
    "    SS2 = 'ALT_SQS2'\n",
    "    SQE = 'SMO'\n",
    "    SQE2 = 'ALT_SQE2'\n",
    "    CAS = 'CAS'\n",
    "    ERG = 'RXNFILL_05'"
   ]
  },
  {
   "cell_type": "markdown",
   "id": "3538d4a0",
   "metadata": {},
   "source": [
    "### Preprocessing Models"
   ]
  },
  {
   "cell_type": "code",
   "execution_count": 25,
   "id": "78673ecd",
   "metadata": {},
   "outputs": [
    {
     "name": "stdout",
     "output_type": "stream",
     "text": [
      "  - LIDOAMH: lidocaine amidohydrolase | False | Drug metabolism - cytochrome P450 | {<Metabolite lido_e at 0x13a24e10560>: -1.0, <Metabolite h2o_e at 0x13a24d63e30>: -1.0, <Metabolite 26dmani_e at 0x13a351fda30>: 1.0, <Metabolite degly_e at 0x13a24d44b30>: 1.0, <Metabolite h_e at 0x13a24d7e8d0>: 1.0}\n",
      "  - MEGLYXYLAMH: monoethylglycinexylidide amidohydrolase | False | Drug metabolism - cytochrome P450 | {<Metabolite meglyxyl_e at 0x13a24d26000>: -1.0, <Metabolite h2o_e at 0x13a24d63e30>: -1.0, <Metabolite 26dmani_e at 0x13a351fda30>: 1.0, <Metabolite egly_e at 0x13a24d600e0>: 1.0, <Metabolite h_e at 0x13a24d7e8d0>: 1.0}\n",
      "  - EX_h_e: H+ exchange | True | Exchange | {<Metabolite h_e at 0x13a24d7e8d0>: -1.0}\n",
      "  - EX_h2o_e: H2O exchange | True | Exchange | {<Metabolite h2o_e at 0x13a24d63e30>: -1.0}\n",
      "  - EX_pi_e: Phosphate exchange | True | Exchange | {<Metabolite pi_e at 0x13a24de7440>: -1.0}\n",
      "  - EX_nh4_e: ammonia exchange | True | Exchange | {<Metabolite nh4_e at 0x13a24e011f0>: -1.0}\n",
      "  - EX_no3_e: nitrate exchange | False | Exchange | {<Metabolite no3_e at 0x13a24dc61b0>: -1.0}\n",
      "  - EX_so4_e: sulfate exchange | True | Exchange | {<Metabolite so4_e at 0x13a3927dcd0>: -1.0}\n",
      "  - EX_fe2_e: Fe2+ exchange | True | Exchange | {<Metabolite fe2_e at 0x13a24dbe7e0>: -1.0}\n",
      "  - EX_fe3_e: Fe3+ exchange | False | Exchange | {<Metabolite fe3_e at 0x13a24dbe2a0>: -1.0}\n",
      "  - EX_mg2_e: magnesium exchange | True | Exchange | {<Metabolite mg2_e at 0x13a24d27380>: -1.0}\n",
      "  - EX_na1_e: sodium exchange | True | Exchange | {<Metabolite na1_e at 0x13a24dcaf90>: -1.0}\n",
      "  - EX_photonVis_e: photon emission | True | Exchange | {<Metabolite photonVis_e at 0x13a24e03350>: -1.0}\n",
      "  - EX_o2_e: O2 exchange | True | Exchange | {<Metabolite o2_e at 0x13a24dc5730>: -1.0}\n",
      "  - EX_co2_e: CO2 exchange | True | Exchange | {<Metabolite co2_e at 0x13a24d3a240>: -1.0}\n",
      "  - EX_hco3_e: HCO3 exchange | False | Exchange | {<Metabolite hco3_e at 0x13a351e2180>: -1.0}\n",
      "  - EX_ac_e: Acetate exchange | False | Exchange | {<Metabolite ac_e at 0x13a361463f0>: -1.0}\n",
      "  - EX_rib_D_e: D-ribose exchange | False | Exchange | {<Metabolite rib_D_e at 0x13a24d5f950>: -1.0}\n",
      "  - EX_no2_e: nitrite exchange | False | Exchange | {<Metabolite no2_e at 0x13a24dc7410>: -1.0}\n",
      "  - EX_his_L_e: histidine exchange | False | Exchange | {<Metabolite his_L_e at 0x13a24dbe450>: -1.0}\n",
      "  - EX_urea_e: urea exchange | False | Exchange | {<Metabolite urea_e at 0x13a392eb1a0>: -1.0}\n",
      "  - EX_ad_e: acetamide exchange | False | Exchange | {<Metabolite ad_e at 0x13a351ff8f0>: -1.0}\n",
      "  - EX_gua_e: guanine exchange | False | Exchange | {<Metabolite gua_e at 0x13a24d7e0c0>: -1.0}\n",
      "  - EX_ade_e: adenine exchange | False | Exchange | {<Metabolite ade_e at 0x13a351e2db0>: -1.0}\n",
      "  - EX_alltt_e: allantoate exchange | False | Exchange | {<Metabolite alltt_e at 0x13a35124080>: -1.0}\n",
      "  - EX_alltn_e: allantoin exchange | False | Exchange | {<Metabolite alltn_e at 0x13a351e3a10>: -1.0}\n",
      "  - EX_hxan_e: hypoxanthine exchange | False | Exchange | {<Metabolite hxan_e at 0x13a24e10dd0>: -1.0}\n",
      "  - EX_orn_e: ornithine exchange | False | Exchange | {<Metabolite orn_e at 0x13a24dce450>: -1.0}\n",
      "  - EX_gln_L_e: L-glutamine exchange | False | Exchange | {<Metabolite gln_L_e at 0x13a36147f80>: -1.0}\n",
      "  - EX_urate_e: urate exchange | False | Exchange | {<Metabolite urate_e at 0x13a39253800>: -1.0}\n",
      "  - EX_leu_L_e: L-leucine exchange | False | Exchange | {<Metabolite leu_L_e at 0x13a24e13920>: -1.0}\n",
      "  - EX_arg_L_e: arginine exchange | False | Exchange | {<Metabolite arg_L_e at 0x13a35124b90>: -1.0}\n",
      "  - EX_so3_e: sulfite exchange | False | Exchange | {<Metabolite hso3_e at 0x13a24e102f0>: -1.0}\n",
      "  - EX_s_e: sulfur exchange | False | Exchange | {<Metabolite s_e at 0x13a24d5ff80>: -1.0}\n",
      "  - EX_selt_e: Selenite exchange | False | Exchange | {<Metabolite selt_e at 0x13a3927cb30>: -1.0}\n",
      "  - EX_etoh_e: Ethanol exchange | False | Exchange | {<Metabolite etoh_e at 0x13a24dbc8f0>: -1.0}\n",
      "  - EX_for_e: Formate exchange | False | Exchange | {<Metabolite for_e at 0x13a24dbfbf0>: -1.0}\n",
      "  - EX_h2_e: H2 exchange | False | Exchange | {<Metabolite h2_e at 0x13a24e002f0>: -1.0}\n",
      "  - EX_glyclt_e: glycolate exchange | False | Exchange | {<Metabolite glyclt_e at 0x13a24d7e4e0>: -1.0}\n",
      "  - EX_succ_e: succinate exchange | False | Exchange | {<Metabolite succ_e at 0x13a3927f050>: -1.0}\n",
      "  - EX_lac_D_e: D-lactate exchange | False | Exchange | {<Metabolite lac_D_e at 0x13a24d7e0f0>: -1.0}\n",
      "  - EX_6mpur_e: 6-mercaptopurine exchange | False | Exchange | {<Metabolite 6mpur_e at 0x13a361453d0>: -1.0}\n",
      "  - EX_tgua_e: thioguanine exchange | False | Exchange | {<Metabolite tgua_e at 0x13a392e96d0>: -1.0}\n",
      "  - EX_tega_e: tegafur exchange | False | Exchange | {<Metabolite tega_e at 0x13a392e8320>: -1.0}\n",
      "  - EX_5flura_e: fluorouracil exchange | False | Exchange | {<Metabolite 5flura_e at 0x13a351efd70>: -1.0}\n",
      "  - EX_cital_e: citalopram exchange | False | Exchange | {<Metabolite cital_e at 0x13a24d3a720>: -1.0}\n",
      "  - EX_lido_e: lidocaine exchange | False | Exchange | {<Metabolite lido_e at 0x13a24e10560>: -1.0}\n",
      "  - EX_ascb_e: Ascorbate exchange | False | Exchange | {<Metabolite ascb_L_e at 0x13a35126720>: -1.0}\n",
      "  - EX_xan_e: Xanthine exchange | False | Exchange | {<Metabolite xan_e at 0x13a39253ec0>: -1.0}\n",
      "  - EX_ura_e: Uracil exchange | False | Exchange | {<Metabolite ura_e at 0x13a392534a0>: -1.0}\n",
      "  - EX_meoh_e: Methanol exchange | False | Exchange | {<Metabolite meoh_e at 0x13a24d26360>: -1.0}\n",
      "  - EX_ncam_e: Nicotinamide exchange | False | Exchange | {<Metabolite ncam_e at 0x13a24dc66c0>: -1.0}\n",
      "  - EX_nmn_e: Nicotinamide mononucleotide exchange | False | Exchange | {<Metabolite nmn_e at 0x13a24d45430>: -1.0}\n",
      "  - EX_thm_e: Thiamine exchange | False | Exchange | {<Metabolite thm_e at 0x13a392e9f40>: -1.0}\n",
      "  - EX_pheme_e: Heme exchange | False | Exchange | {<Metabolite pheme_e at 0x13a24de5580>: -1.0}\n",
      "  - EX_biliverd_e: Biliverdin exchange | False | Exchange | {<Metabolite biliverd_e at 0x13a24db9850>: -1.0}\n",
      "  - EX_co_e: Carbon monoxide exchange | False | Exchange | {<Metabolite co_e at 0x13a24db8080>: -1.0}\n",
      "  - PRISM_solar_litho: spectral decomposition of solar light measured from Earth's surface | False | Spectral decomposition | {<Metabolite photonVis_e at 0x13a24e03350>: -1.0, <Metabolite photon298_c at 0x13a24d24ef0>: 4.26984325300204e-05, <Metabolite photon437_u at 0x13a24de6cc0>: 0.088253056987783, <Metabolite photon438_u at 0x13a24dcea20>: 0.187390761056649, <Metabolite photon450_h at 0x13a2f29b380>: 0.114958292879089, <Metabolite photon490_s at 0x13a24de6a50>: 0.195814806722332, <Metabolite photon646_h at 0x13a24e13320>: 0.18566429641716, <Metabolite photon673_u at 0x13a24e133b0>: 0.08361649412414, <Metabolite photon680_u at 0x13a24de6ff0>: 0.094404940130699}\n",
      "  - PRISM_solar_exo: spectral decomposition of solar light measured from outer space | False | Spectral decomposition | {<Metabolite photonVis_e at 0x13a24e03350>: -1.0, <Metabolite photon298_c at 0x13a24d24ef0>: 0.009126633453201, <Metabolite photon437_u at 0x13a24de6cc0>: 0.107054407672067, <Metabolite photon438_u at 0x13a24dcea20>: 0.224061663093904, <Metabolite photon450_h at 0x13a2f29b380>: 0.133591526308582, <Metabolite photon490_s at 0x13a24de6a50>: 0.20967654865024, <Metabolite photon646_h at 0x13a24e13320>: 0.17175215519119, <Metabolite photon673_u at 0x13a24e133b0>: 0.072897947189877, <Metabolite photon680_u at 0x13a24de6ff0>: 0.084315507784363}\n",
      "  - PRISM_incandescent_60W: spectral decomposition of 60W incandescent light bulb | False | Spectral decomposition | {<Metabolite photonVis_e at 0x13a24e03350>: -1.0, <Metabolite photon298_c at 0x13a24d24ef0>: 1.65224841134181e-05, <Metabolite photon437_u at 0x13a24de6cc0>: 0.009993878664639, <Metabolite photon438_u at 0x13a24dcea20>: 0.024602315301096, <Metabolite photon450_h at 0x13a2f29b380>: 0.016276171066119, <Metabolite photon490_s at 0x13a24de6a50>: 0.053690960368068, <Metabolite photon646_h at 0x13a24e13320>: 0.22991250033838, <Metabolite photon673_u at 0x13a24e133b0>: 0.12754084169748, <Metabolite photon680_u at 0x13a24de6ff0>: 0.152917317912673}\n",
      "  - PRISM_fluorescent_warm_18W: spectral decomposition of 18W warm white fluorescent light bulb | False | Spectral decomposition | {<Metabolite photonVis_e at 0x13a24e03350>: -1.0, <Metabolite photon298_c at 0x13a24d24ef0>: 0.022608265086577, <Metabolite photon437_u at 0x13a24de6cc0>: 0.152956409671983, <Metabolite photon438_u at 0x13a24dcea20>: 0.231224055045519, <Metabolite photon450_h at 0x13a2f29b380>: 0.152106146847886, <Metabolite photon490_s at 0x13a24de6a50>: 0.110377572989073, <Metabolite photon646_h at 0x13a24e13320>: 0.159331959324159, <Metabolite photon673_u at 0x13a24e133b0>: 0.035127278057213, <Metabolite photon680_u at 0x13a24de6ff0>: 0.03787199644559}\n",
      "  - PRISM_fluorescent_cool_215W: spectral decomposition of 215W cool white fluorescent light bulb | False | Spectral decomposition | {<Metabolite photonVis_e at 0x13a24e03350>: -1.0, <Metabolite photon298_c at 0x13a24d24ef0>: 9.86915907870449e-05, <Metabolite photon437_u at 0x13a24de6cc0>: 0.097915549659156, <Metabolite photon438_u at 0x13a24dcea20>: 0.150739641718055, <Metabolite photon450_h at 0x13a2f29b380>: 0.107796806656087, <Metabolite photon490_s at 0x13a24de6a50>: 0.111376983923496, <Metabolite photon646_h at 0x13a24e13320>: 0.1946593756116, <Metabolite photon673_u at 0x13a24e133b0>: 0.030722582685521, <Metabolite photon680_u at 0x13a24de6ff0>: 0.031357804045244}\n",
      "  - PRISM_metal_halide: spectral decomposition of metal halide lamp | False | Spectral decomposition | {<Metabolite photonVis_e at 0x13a24e03350>: -1.0, <Metabolite photon437_u at 0x13a24de6cc0>: 0.12093046741464, <Metabolite photon438_u at 0x13a24dcea20>: 0.191654658116142, <Metabolite photon450_h at 0x13a2f29b380>: 0.134003914972887, <Metabolite photon490_s at 0x13a24de6a50>: 0.190838447783888, <Metabolite photon646_h at 0x13a24e13320>: 0.119049343117245, <Metabolite photon673_u at 0x13a24e133b0>: 0.040192911402728, <Metabolite photon680_u at 0x13a24de6ff0>: 0.045211338768487}\n",
      "  - PRISM_high_pressure_sodium: spectral decomposition of high pressure sodium lamp | False | Spectral decomposition | {<Metabolite photonVis_e at 0x13a24e03350>: -1.0, <Metabolite photon437_u at 0x13a24de6cc0>: 0.015196534268239, <Metabolite photon438_u at 0x13a24dcea20>: 0.032805456604757, <Metabolite photon450_h at 0x13a2f29b380>: 0.027719995714444, <Metabolite photon490_s at 0x13a24de6a50>: 0.058193837857734, <Metabolite photon646_h at 0x13a24e13320>: 0.242892771920299, <Metabolite photon673_u at 0x13a24e133b0>: 0.051456782792204, <Metabolite photon680_u at 0x13a24de6ff0>: 0.053696898066714}\n",
      "  - PRISM_growth_room: spectral decomposition of growth room | False | Spectral decomposition | {<Metabolite photonVis_e at 0x13a24e03350>: -1.0, <Metabolite photon298_c at 0x13a24d24ef0>: 4.11265742135554e-05, <Metabolite photon437_u at 0x13a24de6cc0>: 0.075412270199012, <Metabolite photon438_u at 0x13a24dcea20>: 0.117405566728347, <Metabolite photon450_h at 0x13a2f29b380>: 0.083033179648876, <Metabolite photon490_s at 0x13a24de6a50>: 0.094128322642746, <Metabolite photon646_h at 0x13a24e13320>: 0.20332960252981, <Metabolite photon673_u at 0x13a24e133b0>: 0.05700259056653, <Metabolite photon680_u at 0x13a24de6ff0>: 0.064307747854245}\n",
      "  - PRISM_white_LED: spectral decomposition of white LED | False | Spectral decomposition | {<Metabolite photonVis_e at 0x13a24e03350>: -1.0, <Metabolite photon298_c at 0x13a24d24ef0>: 0.000222203715307, <Metabolite photon437_u at 0x13a24de6cc0>: 0.007117672622224, <Metabolite photon438_u at 0x13a24dcea20>: 0.045915569014989, <Metabolite photon450_h at 0x13a2f29b380>: 0.027352098019382, <Metabolite photon490_s at 0x13a24de6a50>: 0.151852714810135, <Metabolite photon646_h at 0x13a24e13320>: 0.25680923332143, <Metabolite photon673_u at 0x13a24e133b0>: 0.07032130315189, <Metabolite photon680_u at 0x13a24de6ff0>: 0.075315322428205}\n",
      "  - PRISM_red_LED_array_653nm: spectral decomposition of red LED array (653nm) | False | Spectral decomposition | {<Metabolite photonVis_e at 0x13a24e03350>: -1.0, <Metabolite photon646_h at 0x13a24e13320>: 0.870291149591763, <Metabolite photon673_u at 0x13a24e133b0>: 0.274325356868054, <Metabolite photon680_u at 0x13a24de6ff0>: 0.195494060752262}\n",
      "  - PRISM_red_LED_674nm: spectral decomposition of red LED (674nm) | False | Spectral decomposition | {<Metabolite photonVis_e at 0x13a24e03350>: -1.0, <Metabolite photon646_h at 0x13a24e13320>: 0.265727748400781, <Metabolite photon673_u at 0x13a24e133b0>: 0.660147062166474, <Metabolite photon680_u at 0x13a24de6ff0>: 0.725321425353414}\n",
      "  - PRISM_design_growth: spectral decomposition of design growth | False | Spectral decomposition | {<Metabolite photonVis_e at 0x13a24e03350>: -1.0, <Metabolite photon646_h at 0x13a24e13320>: 0.220793969934617, <Metabolite photon673_u at 0x13a24e133b0>: 0.638343344969578, <Metabolite photon680_u at 0x13a24de6ff0>: 0.73362239147121}\n",
      "  - TSULe: Thiosulfate formation, spontaneous | True | Sulfur metabolism | {<Metabolite hso3_e at 0x13a24e102f0>: -1.0, <Metabolite s_e at 0x13a24d5ff80>: -1.0, <Metabolite tsul_e at 0x13a24e03470>: 1.0}\n",
      "  - 5FLURAt: nucleobase transport, fluorouracil (extracellular) | True | Transport, extracellular | {<Metabolite 5flura_e at 0x13a351efd70>: -1.0, <Metabolite 5flura_c at 0x13a36144c20>: 1.0}\n",
      "  - 5FTHFt: 5-Formyltetrahydrofolate uptake carrier, plasma membrane | True | Transport, extracellular | {<Metabolite 5fthf_e at 0x13a36144e90>: -1.0, <Metabolite h_e at 0x13a24d7e8d0>: -1.0, <Metabolite 5fthf_c at 0x13a351ecb90>: 1.0, <Metabolite h_c at 0x13a24d7f080>: 1.0}\n",
      "  - 6MPURt: nucleobase transport, 6-mercaptopurine (extracellular) | True | Transport, extracellular | {<Metabolite 6mpur_e at 0x13a361453d0>: -1.0, <Metabolite 6mpur_c at 0x13a36145820>: 1.0}\n",
      "  - ACt: acetate transport in via proton symport | True | Transport, extracellular | {<Metabolite ac_e at 0x13a361463f0>: -1.0, <Metabolite ac_c at 0x13a36146630>: 1.0}\n",
      "  - ADEt: adenine transport via diffusion | True | Transport, extracellular | {<Metabolite ade_e at 0x13a351e2db0>: -1.0, <Metabolite ade_c at 0x13a351e2f30>: 1.0}\n",
      "  - ADtr: acetamide transport, extracellular | True | Transport, extracellular | {<Metabolite ad_e at 0x13a351ff8f0>: -1.0, <Metabolite ad_c at 0x13a351e2480>: 1.0}\n",
      "  - ALLTNt: allantoin transport via diffusion | True | Transport, extracellular | {<Metabolite alltn_e at 0x13a351e3a10>: -1.0, <Metabolite alltn_c at 0x13a361440e0>: 1.0}\n",
      "  - ALLTTt: allantoate transport via diffusion | True | Transport, extracellular | {<Metabolite alltt_e at 0x13a35124080>: -1.0, <Metabolite alltt_c at 0x13a361e1f70>: 1.0}\n",
      "  - ARG_Lt: arginine transport, extracellular | True | Transport, extracellular | {<Metabolite arg_L_e at 0x13a35124b90>: -1.0, <Metabolite arg_L_c at 0x13a35125bb0>: 1.0}\n",
      "  - CITALt: citalopram transport (extracellular) | True | Transport, extracellular | {<Metabolite cital_e at 0x13a24d3a720>: -1.0, <Metabolite cital_c at 0x13a24d3aa50>: 1.0}\n",
      "  - CO2t: CO2 transport, extracellular | True | Transport, extracellular | {<Metabolite co2_e at 0x13a24d3a240>: -1.0, <Metabolite co2_c at 0x13a24d3bb60>: 1.0}\n",
      "  - GLNt: L-glutamine transport via diffusion | True | Transport, extracellular | {<Metabolite gln_L_e at 0x13a36147f80>: -1.0, <Metabolite gln_L_c at 0x13a35127fb0>: 1.0}\n",
      "  - GLYCLTt: glycolate transport via diffusion | True | Transport, extracellular | {<Metabolite glyclt_e at 0x13a24d7e4e0>: -1.0, <Metabolite glyclt_c at 0x13a24d46720>: 1.0}\n",
      "  - GUAt: guanine transport via diffusion | True | Transport, extracellular | {<Metabolite gua_e at 0x13a24d7e0c0>: -1.0, <Metabolite gua_c at 0x13a24dbdbb0>: 1.0}\n",
      "  - H2Ot: H2O transport, extracellular | True | Transport, extracellular | {<Metabolite h2o_e at 0x13a24d63e30>: -1.0, <Metabolite h2o_c at 0x13a24d60f80>: 1.0}\n",
      "  - HISt: Amino acid transporter (his-L), extracellular | True | Transport, extracellular | {<Metabolite his_L_e at 0x13a24dbe450>: -1.0, <Metabolite h_e at 0x13a24d7e8d0>: -1.0, <Metabolite his_L_c at 0x13a24e02f90>: 1.0, <Metabolite h_c at 0x13a24d7f080>: 1.0}\n",
      "  - HXANt: hypoxanthine transport via diffusion | True | Transport, extracellular | {<Metabolite hxan_e at 0x13a24e10dd0>: -1.0, <Metabolite hxan_c at 0x13a24dba240>: 1.0}\n",
      "  - LEUt: L-leucine transport via diffusion | True | Transport, extracellular | {<Metabolite leu_L_e at 0x13a24e13920>: -1.0, <Metabolite leu_L_c at 0x13a24d46360>: 1.0}\n",
      "  - LIDOt: lidocaine transport (extracellular) | True | Transport, extracellular | {<Metabolite lido_e at 0x13a24e10560>: -1.0, <Metabolite lido_c at 0x13a24e10d70>: 1.0}\n",
      "  - MEGLYXYLt: monoethylglycinexylidide transport (extracellular) | True | Transport, extracellular | {<Metabolite meglyxyl_e at 0x13a24d26000>: -1.0, <Metabolite meglyxyl_c at 0x13a24d45e80>: 1.0}\n",
      "  - MG2t: Divalent cation (Mg2+) transport system, extracellular | True | Transport, extracellular | {<Metabolite mg2_e at 0x13a24d27380>: -1.0, <Metabolite mg2_c at 0x13a24e00560>: 1.0}\n",
      "  - NH4t: ammonia transport, extracellular | True | Transport, extracellular | {<Metabolite nh4_e at 0x13a24e011f0>: -1.0, <Metabolite h_e at 0x13a24d7e8d0>: -1.0, <Metabolite nh4_c at 0x13a24dc6f90>: 1.0, <Metabolite h_c at 0x13a24d7f080>: 1.0}\n",
      "  - NO2t: nitrite transport, extracellular | True | Transport, extracellular | {<Metabolite no2_e at 0x13a24dc7410>: -1.0, <Metabolite no2_c at 0x13a24e13e90>: 1.0}\n",
      "  - NO3t: nitrate transport, extracellular | True | Transport, extracellular | {<Metabolite no3_e at 0x13a24dc61b0>: -1.0, <Metabolite no3_c at 0x13a24dc76e0>: 1.0}\n",
      "  - O2t: O2 transport in via diffusion | True | Transport, extracellular | {<Metabolite o2_e at 0x13a24dc5730>: -1.0, <Metabolite o2_c at 0x13a24dc6d20>: 1.0}\n",
      "  - ORNt: ornithine transport via diffusion | True | Transport, extracellular | {<Metabolite orn_e at 0x13a24dce450>: -1.0, <Metabolite orn_c at 0x13a24e11580>: 1.0}\n",
      "  - PIt: phosphate transport, extracellular | True | Transport, extracellular | {<Metabolite h_e at 0x13a24d7e8d0>: -1.0, <Metabolite pi_e at 0x13a24de7440>: -1.0, <Metabolite h_c at 0x13a24d7f080>: 1.0, <Metabolite pi_c at 0x13a24de7260>: 1.0}\n",
      "  - RIBt: D-ribose transport via diffusion | True | Transport, extracellular | {<Metabolite rib_D_e at 0x13a24d5f950>: -1.0, <Metabolite rib_D_c at 0x13a24d5fb30>: 1.0}\n",
      "  - SELTt: Selenite transport via diffusion, cytosol | True | Transport, extracellular | {<Metabolite selt_e at 0x13a3927cb30>: -1.0, <Metabolite selt_c at 0x13a3927ccb0>: 1.0}\n",
      "  - SO4NA1t: Sulfate:Na+ symporter, extracellular | True | Transport, extracellular | {<Metabolite so4_e at 0x13a3927dcd0>: -1.0, <Metabolite na1_e at 0x13a24dcaf90>: -1.0, <Metabolite so4_c at 0x13a3927d7f0>: 1.0, <Metabolite na1_c at 0x13a24d24e90>: 1.0}\n",
      "  - SO4t: sulfate transport, extracellular | True | Transport, extracellular | {<Metabolite so4_e at 0x13a3927dcd0>: -1.0, <Metabolite h_e at 0x13a24d7e8d0>: -1.0, <Metabolite so4_c at 0x13a3927d7f0>: 1.0, <Metabolite h_c at 0x13a24d7f080>: 1.0}\n",
      "  - SUCCt: succinate transport via diffusion | True | Transport, extracellular | {<Metabolite succ_e at 0x13a3927f050>: -1.0, <Metabolite succ_c at 0x13a3927f140>: 1.0}\n",
      "  - TEGAt: nucleobase transport, tegafur (extracellular) | True | Transport, extracellular | {<Metabolite tega_e at 0x13a392e8320>: -1.0, <Metabolite tega_c at 0x13a392e8ef0>: 1.0}\n",
      "  - TGUAt: nucleobase transport, thioguanine (extracellular) | True | Transport, extracellular | {<Metabolite tgua_e at 0x13a392e96d0>: -1.0, <Metabolite tgua_c at 0x13a392e8f50>: 1.0}\n",
      "  - TSULt: Thiosulfate transport, extracellular | True | Transport, extracellular | {<Metabolite tsul_e at 0x13a24e03470>: -1.0, <Metabolite tsul_c at 0x13a392ebd40>: 1.0}\n",
      "  - URATEt: Urate permease | True | Transport, extracellular | {<Metabolite urate_e at 0x13a39253800>: -1.0, <Metabolite h_e at 0x13a24d7e8d0>: -1.0, <Metabolite urate_c at 0x13a39253170>: 1.0, <Metabolite h_c at 0x13a24d7f080>: 1.0}\n",
      "  - UREAt: Urea active transporter, extracellular | True | Transport, extracellular | {<Metabolite urea_e at 0x13a392eb1a0>: -1.0, <Metabolite na1_e at 0x13a24dcaf90>: -1.0, <Metabolite urea_c at 0x13a39252b40>: 1.0, <Metabolite na1_c at 0x13a24d24e90>: 1.0}\n",
      "  - ASCBNA1t: Ascorbate:Na+ symporter, extracellular | True | Transport, extracellular | {<Metabolite ascb_L_e at 0x13a35126720>: -1.0, <Metabolite na1_e at 0x13a24dcaf90>: -1.0, <Metabolite ascb_L_c at 0x13a351f7350>: 1.0, <Metabolite na1_c at 0x13a24d24e90>: 1.0}\n",
      "  - XANNA1t: Xanthine:Na+ symporter, extracellular | True | Transport, extracellular | {<Metabolite xan_e at 0x13a39253ec0>: -1.0, <Metabolite na1_e at 0x13a24dcaf90>: -1.0, <Metabolite xan_c at 0x13a3927f5f0>: 1.0, <Metabolite na1_c at 0x13a24d24e90>: 1.0}\n",
      "  - URANA1t: Uracil:Na+ symporter, extracellular | True | Transport, extracellular | {<Metabolite ura_e at 0x13a392534a0>: -1.0, <Metabolite na1_e at 0x13a24dcaf90>: -1.0, <Metabolite ura_c at 0x13a392eb710>: 1.0, <Metabolite na1_c at 0x13a24d24e90>: 1.0}\n",
      "  - MEOHt: Methanol transport via diffusion | True | Transport, extracellular | {<Metabolite meoh_e at 0x13a24d26360>: -1.0, <Metabolite meoh_c at 0x13a24d628d0>: 1.0}\n",
      "  - NMNt: Nicotinamide mononucleotide transport | True | Transport, extracellular | {<Metabolite nmn_e at 0x13a24d45430>: -1.0, <Metabolite nmn_c at 0x13a24e03ec0>: 1.0}\n",
      "  - NCAMt: Nicotinamide transport | True | Transport, extracellular | {<Metabolite ncam_e at 0x13a24dc66c0>: -1.0, <Metabolite ncam_c at 0x13a24dc6b70>: 1.0}\n",
      "  - THMt: Thiamine mononucleotide transport | True | Transport, extracellular | {<Metabolite thm_e at 0x13a392e9f40>: -1.0, <Metabolite thm_c at 0x13a392e99d0>: 1.0}\n",
      "  - COt: Carbon monoxide transport, extracellular | True | Transport, extracellular | {<Metabolite co_e at 0x13a24db8080>: -1.0, <Metabolite co_c at 0x13a24d38ce0>: 1.0}\n",
      "  - D_LACti: D-lactate transport out via proton symport | False | Transport, extracellular | {<Metabolite h_c at 0x13a24d7f080>: -1.0, <Metabolite lac_D_c at 0x13a36b52240>: -1.0, <Metabolite h_e at 0x13a24d7e8d0>: 1.0, <Metabolite lac_D_e at 0x13a24d7e0f0>: 1.0}\n",
      "  - ETOHti: ethanol transport output via diffusion | False | Transport, extracellular | {<Metabolite etoh_c at 0x13a24dbc590>: -1.0, <Metabolite etoh_e at 0x13a24dbc8f0>: 1.0}\n",
      "  - FE2GTPabc: ferrous iron uptake (GTP-dependent), plasma membrane | False | Transport, extracellular | {<Metabolite fe2_e at 0x13a24dbe7e0>: -1.0, <Metabolite gtp_c at 0x13a24d7ff20>: -1.0, <Metabolite h2o_c at 0x13a24d60f80>: -1.0, <Metabolite fe2_c at 0x13a24dbd3d0>: 1.0, <Metabolite gdp_c at 0x13a351e1790>: 1.0, <Metabolite pi_c at 0x13a24de7260>: 1.0, <Metabolite h_c at 0x13a24d7f080>: 1.0}\n",
      "  - FE3t: ferric iron uptake, plasma membrane | False | Transport, extracellular | {<Metabolite fe3_e at 0x13a24dbe2a0>: -1.0, <Metabolite fe3_c at 0x13a24dbec90>: 1.0}\n",
      "  - FEROt: ferric iron updtake (oxidizing), plasma membrane | False | Transport, extracellular | {<Metabolite fe2_e at 0x13a24dbe7e0>: -4.0, <Metabolite o2_e at 0x13a24dc5730>: -1.0, <Metabolite h_e at 0x13a24d7e8d0>: -4.0, <Metabolite fe3_c at 0x13a24dbec90>: 4.0, <Metabolite h2o_e at 0x13a24d63e30>: 2.0}\n",
      "  - FORti: formate transport out via proton symport | False | Transport, extracellular | {<Metabolite for_c at 0x13a361e32c0>: -1.0, <Metabolite h_c at 0x13a24d7f080>: -1.0, <Metabolite for_e at 0x13a24dbfbf0>: 1.0, <Metabolite h_e at 0x13a24d7e8d0>: 1.0}\n",
      "  - H2ti: hydrogen transport | False | Transport, extracellular | {<Metabolite h2_c at 0x13a24d61190>: -1.0, <Metabolite h2_e at 0x13a24e002f0>: 1.0}\n",
      "  - HATPase: H+-ATPase | False | Transport, extracellular | {<Metabolite atp_c at 0x13a361e3650>: -1.0, <Metabolite h2o_c at 0x13a24d60f80>: -1.0, <Metabolite h_e at 0x13a24d7e8d0>: 1.0, <Metabolite adp_c at 0x13a351f7860>: 1.0, <Metabolite pi_c at 0x13a24de7260>: 1.0}\n",
      "  - HCO3_h_ti: hco3 transport | False | Transport, extracellular | {<Metabolite h_e at 0x13a24d7e8d0>: -1.0, <Metabolite hco3_e at 0x13a351e2180>: -1.0, <Metabolite h_c at 0x13a24d7f080>: 1.0, <Metabolite hco3_c at 0x13a24e01d00>: 1.0}\n",
      "  - PAIL18111Z160t: Aminophospholipid translocase (pail18111Z160), extracellular | False | Transport, extracellular | {<Metabolite pail18111Z160_c at 0x13a24d27a10>: -1.0, <Metabolite atp_c at 0x13a361e3650>: -1.0, <Metabolite h2o_c at 0x13a24d60f80>: -1.0, <Metabolite pail18111Z160_e at 0x13a24dcff80>: 1.0, <Metabolite adp_c at 0x13a351f7860>: 1.0, <Metabolite pi_c at 0x13a24de7260>: 1.0, <Metabolite h_c at 0x13a24d7f080>: 1.0}\n",
      "  - PAIL1819Z160t: Aminophospholipid translocase (pail1819Z160), extracellular | False | Transport, extracellular | {<Metabolite pail1819Z160_c at 0x13a24dbf800>: -1.0, <Metabolite atp_c at 0x13a361e3650>: -1.0, <Metabolite h2o_c at 0x13a24d60f80>: -1.0, <Metabolite pail1819Z160_e at 0x13a24d252b0>: 1.0, <Metabolite adp_c at 0x13a351f7860>: 1.0, <Metabolite pi_c at 0x13a24de7260>: 1.0, <Metabolite h_c at 0x13a24d7f080>: 1.0}\n",
      "  - PE1801819Zt: Aminophospholipid translocase (pe1801819Z), extracellular | False | Transport, extracellular | {<Metabolite pe1801819Z_c at 0x13a24dbcbf0>: -1.0, <Metabolite atp_c at 0x13a361e3650>: -1.0, <Metabolite h2o_c at 0x13a24d60f80>: -1.0, <Metabolite pe1801819Z_e at 0x13a24dbc1a0>: 1.0, <Metabolite adp_c at 0x13a351f7860>: 1.0, <Metabolite pi_c at 0x13a24de7260>: 1.0, <Metabolite h_c at 0x13a24d7f080>: 1.0}\n",
      "  - PE1801829Z12Zt: Aminophospholipid translocase (pe1801829Z12Z), extracellular | False | Transport, extracellular | {<Metabolite pe1801829Z12Z_c at 0x13a24dcce90>: -1.0, <Metabolite atp_c at 0x13a361e3650>: -1.0, <Metabolite h2o_c at 0x13a24d60f80>: -1.0, <Metabolite pe1801829Z12Z_e at 0x13a24d446b0>: 1.0, <Metabolite adp_c at 0x13a351f7860>: 1.0, <Metabolite pi_c at 0x13a24de7260>: 1.0, <Metabolite h_c at 0x13a24d7f080>: 1.0}\n",
      "  - PE1801835Z9Z12Zt: Aminophospholipid translocase (pe1801835Z9Z12Z), extracellular | False | Transport, extracellular | {<Metabolite pe1801835Z9Z12Z_c at 0x13a24dc5ca0>: -1.0, <Metabolite atp_c at 0x13a361e3650>: -1.0, <Metabolite h2o_c at 0x13a24d60f80>: -1.0, <Metabolite pe1801835Z9Z12Z_e at 0x13a24dc4920>: 1.0, <Metabolite adp_c at 0x13a351f7860>: 1.0, <Metabolite pi_c at 0x13a24de7260>: 1.0, <Metabolite h_c at 0x13a24d7f080>: 1.0}\n",
      "  - PE1801845Z9Z12Z15Zt: Aminophospholipid translocase (pe1801845Z9Z12Z15Z), extracellular | False | Transport, extracellular | {<Metabolite pe1801845Z9Z12Z15Z_c at 0x13a24dc4ad0>: -1.0, <Metabolite atp_c at 0x13a361e3650>: -1.0, <Metabolite h2o_c at 0x13a24d60f80>: -1.0, <Metabolite pe1801845Z9Z12Z15Z_e at 0x13a24e01820>: 1.0, <Metabolite adp_c at 0x13a351f7860>: 1.0, <Metabolite pi_c at 0x13a24de7260>: 1.0, <Metabolite h_c at 0x13a24d7f080>: 1.0}\n",
      "  - PE18111Z1819Zt: Aminophospholipid translocase (pe18111Z1819Z), extracellular | False | Transport, extracellular | {<Metabolite pe18111Z1819Z_c at 0x13a24d24050>: -1.0, <Metabolite atp_c at 0x13a361e3650>: -1.0, <Metabolite h2o_c at 0x13a24d60f80>: -1.0, <Metabolite pe18111Z1819Z_e at 0x13a24e01850>: 1.0, <Metabolite adp_c at 0x13a351f7860>: 1.0, <Metabolite pi_c at 0x13a24de7260>: 1.0, <Metabolite h_c at 0x13a24d7f080>: 1.0}\n",
      "  - PE18111Z1829Z12Zt: Aminophospholipid translocase (pe18111Z1829Z12Z), extracellular | False | Transport, extracellular | {<Metabolite pe18111Z1829Z12Z_c at 0x13a24d25cd0>: -1.0, <Metabolite atp_c at 0x13a361e3650>: -1.0, <Metabolite h2o_c at 0x13a24d60f80>: -1.0, <Metabolite pe18111Z1829Z12Z_e at 0x13a24dc47a0>: 1.0, <Metabolite adp_c at 0x13a351f7860>: 1.0, <Metabolite pi_c at 0x13a24de7260>: 1.0, <Metabolite h_c at 0x13a24d7f080>: 1.0}\n",
      "  - PE18111Z1835Z9Z12Zt: Aminophospholipid translocase (pe18111Z1835Z9Z12Z), extracellular | False | Transport, extracellular | {<Metabolite pe18111Z1835Z9Z12Z_c at 0x13a24d24b00>: -1.0, <Metabolite atp_c at 0x13a361e3650>: -1.0, <Metabolite h2o_c at 0x13a24d60f80>: -1.0, <Metabolite pe18111Z1835Z9Z12Z_e at 0x13a24d7ce00>: 1.0, <Metabolite adp_c at 0x13a351f7860>: 1.0, <Metabolite pi_c at 0x13a24de7260>: 1.0, <Metabolite h_c at 0x13a24d7f080>: 1.0}\n",
      "  - PE18111Z1845Z9Z12Z15Zt: Aminophospholipid translocase (pe18111Z1845Z9Z12Z15Z), extracellular | False | Transport, extracellular | {<Metabolite pe18111Z1845Z9Z12Z15Z_c at 0x13a24dc5c70>: -1.0, <Metabolite atp_c at 0x13a361e3650>: -1.0, <Metabolite h2o_c at 0x13a24d60f80>: -1.0, <Metabolite pe18111Z1845Z9Z12Z15Z_e at 0x13a24e13680>: 1.0, <Metabolite adp_c at 0x13a351f7860>: 1.0, <Metabolite pi_c at 0x13a24de7260>: 1.0, <Metabolite h_c at 0x13a24d7f080>: 1.0}\n",
      "  - PE1819Z1819Zt: Aminophospholipid translocase (pe1819Z1819Z), extracellular | False | Transport, extracellular | {<Metabolite pe1819Z1819Z_c at 0x13a24dcdc40>: -1.0, <Metabolite atp_c at 0x13a361e3650>: -1.0, <Metabolite h2o_c at 0x13a24d60f80>: -1.0, <Metabolite pe1819Z1819Z_e at 0x13a24dcb620>: 1.0, <Metabolite adp_c at 0x13a351f7860>: 1.0, <Metabolite pi_c at 0x13a24de7260>: 1.0, <Metabolite h_c at 0x13a24d7f080>: 1.0}\n",
      "  - PE1819Z1829Z12Zt: Aminophospholipid translocase (pe1819Z1829Z12Z), extracellular | False | Transport, extracellular | {<Metabolite pe1819Z1829Z12Z_c at 0x13a24dccfe0>: -1.0, <Metabolite atp_c at 0x13a361e3650>: -1.0, <Metabolite h2o_c at 0x13a24d60f80>: -1.0, <Metabolite pe1819Z1829Z12Z_e at 0x13a24dc4c80>: 1.0, <Metabolite adp_c at 0x13a351f7860>: 1.0, <Metabolite pi_c at 0x13a24de7260>: 1.0, <Metabolite h_c at 0x13a24d7f080>: 1.0}\n",
      "  - PE1819Z1835Z9Z12Zt: Aminophospholipid translocase (pe1819Z1835Z9Z12Z), extracellular | False | Transport, extracellular | {<Metabolite pe1819Z1835Z9Z12Z_c at 0x13a24e118b0>: -1.0, <Metabolite atp_c at 0x13a361e3650>: -1.0, <Metabolite h2o_c at 0x13a24d60f80>: -1.0, <Metabolite pe1819Z1835Z9Z12Z_e at 0x13a24dc9910>: 1.0, <Metabolite adp_c at 0x13a351f7860>: 1.0, <Metabolite pi_c at 0x13a24de7260>: 1.0, <Metabolite h_c at 0x13a24d7f080>: 1.0}\n",
      "  - PE1819Z1845Z9Z12Z15Zt: Aminophospholipid translocase (pe1819Z1845Z9Z12Z15Z), extracellular | False | Transport, extracellular | {<Metabolite pe1819Z1845Z9Z12Z15Z_c at 0x13a24dc9b50>: -1.0, <Metabolite atp_c at 0x13a361e3650>: -1.0, <Metabolite h2o_c at 0x13a24d60f80>: -1.0, <Metabolite pe1819Z1845Z9Z12Z15Z_e at 0x13a24dbdfd0>: 1.0, <Metabolite adp_c at 0x13a351f7860>: 1.0, <Metabolite pi_c at 0x13a24de7260>: 1.0, <Metabolite h_c at 0x13a24d7f080>: 1.0}\n",
      "  - PE1829Z12Z1835Z9Z12Zt: Aminophospholipid translocase (pe1829Z12Z1835Z9Z12Z), extracellular | False | Transport, extracellular | {<Metabolite pe1829Z12Z1835Z9Z12Z_c at 0x13a24d7cec0>: -1.0, <Metabolite atp_c at 0x13a361e3650>: -1.0, <Metabolite h2o_c at 0x13a24d60f80>: -1.0, <Metabolite pe1829Z12Z1835Z9Z12Z_e at 0x13a24dcb650>: 1.0, <Metabolite adp_c at 0x13a351f7860>: 1.0, <Metabolite pi_c at 0x13a24de7260>: 1.0, <Metabolite h_c at 0x13a24d7f080>: 1.0}\n",
      "  - PG18111Z160t: Aminophospholipid translocase (pg18111Z160), extracellular | False | Transport, extracellular | {<Metabolite pg18111Z160_c at 0x13a24de5640>: -1.0, <Metabolite atp_c at 0x13a361e3650>: -1.0, <Metabolite h2o_c at 0x13a24d60f80>: -1.0, <Metabolite pg18111Z160_e at 0x13a24dc5e80>: 1.0, <Metabolite adp_c at 0x13a351f7860>: 1.0, <Metabolite pi_c at 0x13a24de7260>: 1.0, <Metabolite h_c at 0x13a24d7f080>: 1.0}\n",
      "  - PG1819Z160t: Aminophospholipid translocase (pg1819Z160), extracellular | False | Transport, extracellular | {<Metabolite pg1819Z160_c at 0x13a24d7d850>: -1.0, <Metabolite atp_c at 0x13a361e3650>: -1.0, <Metabolite h2o_c at 0x13a24d60f80>: -1.0, <Metabolite pg1819Z160_e at 0x13a24dc5eb0>: 1.0, <Metabolite adp_c at 0x13a351f7860>: 1.0, <Metabolite pi_c at 0x13a24de7260>: 1.0, <Metabolite h_c at 0x13a24d7f080>: 1.0}\n",
      "  - PGP18111Z160t: Aminophospholipid translocase (pgp18111Z160), extracellular | False | Transport, extracellular | {<Metabolite pgp18111Z160_c at 0x13a24dc60f0>: -1.0, <Metabolite atp_c at 0x13a361e3650>: -1.0, <Metabolite h2o_c at 0x13a24d60f80>: -1.0, <Metabolite pgp18111Z160_e at 0x13a24e11a60>: 1.0, <Metabolite adp_c at 0x13a351f7860>: 1.0, <Metabolite pi_c at 0x13a24de7260>: 1.0, <Metabolite h_c at 0x13a24d7f080>: 1.0}\n",
      "  - PGP1819Z160t: Aminophospholipid translocase (pgp1819Z160), extracellular | False | Transport, extracellular | {<Metabolite pgp1819Z160_c at 0x13a24d7de20>: -1.0, <Metabolite atp_c at 0x13a361e3650>: -1.0, <Metabolite h2o_c at 0x13a24d60f80>: -1.0, <Metabolite pgp1819Z160_e at 0x13a24dcc3b0>: 1.0, <Metabolite adp_c at 0x13a351f7860>: 1.0, <Metabolite pi_c at 0x13a24de7260>: 1.0, <Metabolite h_c at 0x13a24d7f080>: 1.0}\n"
     ]
    }
   ],
   "source": [
    "for r in models['Wildtype'].reactions:\n",
    "    if 'e' not in r.compartments: continue\n",
    "    print(f\"  - {r.id}: {r.name} | {r.reversibility} | {r.subsystem} | {r.metabolites}\")"
   ]
  },
  {
   "cell_type": "code",
   "execution_count": null,
   "id": "1c71b6af",
   "metadata": {},
   "outputs": [],
   "source": [
    "for name in models.keys():\n",
    "    model = models[name]\n",
    "\n",
    "    add_single_gene_reaction_pair(\n",
    "        model=model, \n",
    "        reaction_id=\"ERGOSTEROLEXCH\", \n",
    "        metabolite_id=\"ergosterol_c\", \n",
    "        description=\"Ergosterol exchange (assumption)\", \n",
    "        reaction_type=\"Exchange\", \n",
    "        gene_reaction_pairs=[(-1, MetID.ERG.value)]\n",
    "        reversible=True\n",
    "    )"
   ]
  }
 ],
 "metadata": {
  "kernelspec": {
   "display_name": "venv",
   "language": "python",
   "name": "python3"
  },
  "language_info": {
   "codemirror_mode": {
    "name": "ipython",
    "version": 3
   },
   "file_extension": ".py",
   "mimetype": "text/x-python",
   "name": "python",
   "nbconvert_exporter": "python",
   "pygments_lexer": "ipython3",
   "version": "3.12.10"
  }
 },
 "nbformat": 4,
 "nbformat_minor": 5
}
