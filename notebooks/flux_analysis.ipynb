{
 "cells": [
  {
   "cell_type": "markdown",
   "id": "5770b41c",
   "metadata": {},
   "source": [
    "### Setup"
   ]
  },
  {
   "cell_type": "code",
   "execution_count": 1,
   "id": "23824f3d",
   "metadata": {},
   "outputs": [],
   "source": [
    "import os, sys\n",
    "sys.path.append('..')\n",
    "\n",
    "import warnings\n",
    "warnings.filterwarnings('ignore', category=UserWarning, module='cobra')\n",
    "\n",
    "from cobra import io\n",
    "from scripts.helpers.model import rxn_in_model, add_single_gene_reaction_pair\n",
    "from scripts.opt._fba import flux_balance_analysis\n",
    "from scripts.opt._fva import run_flux_variability_analysis"
   ]
  },
  {
   "cell_type": "markdown",
   "id": "84514e80",
   "metadata": {},
   "source": [
    "### Import Models"
   ]
  },
  {
   "cell_type": "code",
   "execution_count": 8,
   "id": "f47d2969",
   "metadata": {},
   "outputs": [
    {
     "name": "stderr",
     "output_type": "stream",
     "text": [
      "No objective coefficients in model. Unclear what should be optimized\n"
     ]
    },
    {
     "name": "stdout",
     "output_type": "stream",
     "text": [
      "Loading model: SQE+MVA from ../data/altered/xmls/MNL_iCre1355_auto_GAPFILL/SQE+MVA.xml\n"
     ]
    },
    {
     "name": "stderr",
     "output_type": "stream",
     "text": [
      "No objective coefficients in model. Unclear what should be optimized\n"
     ]
    },
    {
     "name": "stdout",
     "output_type": "stream",
     "text": [
      "Loading model: SQE from ../data/altered/xmls/MNL_iCre1355_auto_GAPFILL/SQE.xml\n"
     ]
    },
    {
     "name": "stderr",
     "output_type": "stream",
     "text": [
      "No objective coefficients in model. Unclear what should be optimized\n"
     ]
    },
    {
     "name": "stdout",
     "output_type": "stream",
     "text": [
      "Loading model: SQS+MVA from ../data/altered/xmls/MNL_iCre1355_auto_GAPFILL/SQS+MVA.xml\n"
     ]
    },
    {
     "name": "stderr",
     "output_type": "stream",
     "text": [
      "No objective coefficients in model. Unclear what should be optimized\n"
     ]
    },
    {
     "name": "stdout",
     "output_type": "stream",
     "text": [
      "Loading model: SQS+SQE+MVA from ../data/altered/xmls/MNL_iCre1355_auto_GAPFILL/SQS+SQE+MVA.xml\n"
     ]
    },
    {
     "name": "stderr",
     "output_type": "stream",
     "text": [
      "No objective coefficients in model. Unclear what should be optimized\n"
     ]
    },
    {
     "name": "stdout",
     "output_type": "stream",
     "text": [
      "Loading model: SQS+SQE from ../data/altered/xmls/MNL_iCre1355_auto_GAPFILL/SQS+SQE.xml\n"
     ]
    },
    {
     "name": "stderr",
     "output_type": "stream",
     "text": [
      "No objective coefficients in model. Unclear what should be optimized\n"
     ]
    },
    {
     "name": "stdout",
     "output_type": "stream",
     "text": [
      "Loading model: SQS from ../data/altered/xmls/MNL_iCre1355_auto_GAPFILL/SQS.xml\n"
     ]
    },
    {
     "name": "stderr",
     "output_type": "stream",
     "text": [
      "No objective coefficients in model. Unclear what should be optimized\n"
     ]
    },
    {
     "name": "stdout",
     "output_type": "stream",
     "text": [
      "\n",
      "Loaded 7 models:\n",
      "  - Wildtype: None\n",
      "  - SQE+MVA: MNL_iCre1355_auto_GAPFILL_SQE+MVA\n",
      "  - SQE: MNL_iCre1355_auto_GAPFILL_SQE\n",
      "  - SQS+MVA: MNL_iCre1355_auto_GAPFILL_SQS+MVA\n",
      "  - SQS+SQE+MVA: MNL_iCre1355_auto_GAPFILL_SQS+SQE+MVA\n",
      "  - SQS+SQE: MNL_iCre1355_auto_GAPFILL_SQS+SQE\n",
      "  - SQS: MNL_iCre1355_auto_GAPFILL_SQS\n"
     ]
    }
   ],
   "source": [
    "# Load models\n",
    "\n",
    "# Load wildtype from manual directory (adjust path for notebooks directory)\n",
    "# Use io.read_sbml_model for local files instead of io.load_model\n",
    "wildtype = io.read_sbml_model('../data/fill/xmls/MNL_iCre1355_auto_GAPFILL.xml')\n",
    "\n",
    "models = {\n",
    "    \"Wildtype\": wildtype\n",
    "}\n",
    "\n",
    "# Get altered reactions of wildtype - using correct directory name\n",
    "altered_dir = '../data/altered/xmls/MNL_iCre1355_auto_GAPFILL/'\n",
    "\n",
    "for root, dirs, files in os.walk(altered_dir):\n",
    "    for file in files:\n",
    "        if file.endswith('.xml'):\n",
    "            # Get file name and remove .xml extension\n",
    "            model_name = file[:-4]\n",
    "            full_path = os.path.join(root, file)\n",
    "            print(f\"Loading model: {model_name} from {full_path}\")\n",
    "            models[model_name] = io.read_sbml_model(full_path)\n",
    "\n",
    "# Print out loaded models\n",
    "print(f\"\\nLoaded {len(models)} models:\")\n",
    "for name in models.keys():\n",
    "    print(f\"  - {name}: {models[name].name}\")"
   ]
  },
  {
   "cell_type": "markdown",
   "id": "4791b5e1",
   "metadata": {},
   "source": [
    "### IDs and Vmax"
   ]
  },
  {
   "cell_type": "code",
   "execution_count": 9,
   "id": "695773b2",
   "metadata": {},
   "outputs": [],
   "source": [
    "from enum import Enum\n",
    "\n",
    "class MetID(Enum):\n",
    "    # Pyruvate Compounds\n",
    "    IPP = \"ipdp_h\"\n",
    "    DMAPP = \"dmpp_h\"\n",
    "    # Sterol Compounds\n",
    "    ERG = \"ergosterol_c\"\n",
    "    EPI = \"episterol_c\"\n",
    "    METLOP = \"methylop_c\"\n",
    "    FEC = \"mfecostrl_c\"\n",
    "    EPOXY = \"Ssq23epx_c\"\n",
    "    SQL = \"sql_c\"\n",
    "    # MVA Compounds\n",
    "    HMCOA = \"hydroxy_methyl_coa_c\"\n",
    "    MVA = \"mva_c\"\n",
    "    PMVA = \"phospho_mva_c\"\n",
    "    DPMVA = \"diphospho_mva_c\"\n",
    "    OP = \"orthophosphate_c\"\n",
    "\n",
    "class RxnID(Enum):\n",
    "    # Biomass\n",
    "    BIOMASS = \"Biomass_Chlamy_auto\"\n",
    "    # Exchange\n",
    "    EXCHERG = \"ERGOSTEROLEXCH\" # This will be added to models first\n",
    "    # Ergosterol Synthesis\n",
    "    SS = 'SS'\n",
    "    SS2 = 'ALT_SQS2'\n",
    "    SQE = 'SMO'\n",
    "    SQE2 = 'ALT_SQE2'\n",
    "    CAS = 'CAS'\n",
    "    METLOP = 'FILL_HYD1'\n",
    "    EPI = 'FILL_ERG28'\n",
    "    ERG = 'FILL_ERG'\n",
    "    # MVA Pathway\n",
    "    MVAS = 'ALT_MVAS'\n",
    "    MVAE = 'ALT_MVAE'\n",
    "    MVAD = 'ALT_MVAD'\n",
    "    PMK = 'ALT_PMK'\n",
    "    MVK = 'ALT_MVK'\n",
    "    IDLI = 'ALT_IDLI'\n",
    "    # Pyruvate Metabolism\n",
    "    # Acetyl-CoA (Cytosol)\n",
    "    ACS = \"ACS\"\n",
    "    ATPCS = \"ATPCS\"\n",
    "    MCDC = \"MCDC\"\n",
    "    ACALD = \"ACALD\"\n",
    "    # Acetyl-CoA (Chloroplast)\n",
    "    PYRDHY = \"PDHe2hr\"\n",
    "    ACALDH = \"ACALDh\"\n",
    "    PFL = \"PFLh\"\n",
    "    PYRS = \"PYRShi\"\n",
    "    # Acetyl-CoA transport (Cytosol <--> Chloroplast)\n",
    "    ACCOA = \"ACCOAth\"\n",
    "\n",
    "\n",
    "\n",
    "# Vmax = {\n",
    "#     key: 0.005 for key in RxnID.__members__.keys()\n",
    "# }"
   ]
  },
  {
   "cell_type": "markdown",
   "id": "3538d4a0",
   "metadata": {},
   "source": [
    "### Preprocessing Models"
   ]
  },
  {
   "cell_type": "code",
   "execution_count": 10,
   "id": "1c71b6af",
   "metadata": {},
   "outputs": [],
   "source": [
    "for name in models.keys():\n",
    "    model = models[name]\n",
    "\n",
    "    # Add export reaction\n",
    "    try:\n",
    "        add_single_gene_reaction_pair(\n",
    "            model=model, \n",
    "            gene_id=\"EXCHERG_GENE\",\n",
    "            reaction_id=RxnID.EXCHERG.value,\n",
    "            reaction_name=\"Ergosterol exchange (assumption)\", \n",
    "            reaction_subsystem=\"Exchange\", \n",
    "            metabolites=[(-1, MetID.ERG.value)],\n",
    "            reversible=True\n",
    "        )\n",
    "    except:\n",
    "        pass\n",
    "\n",
    "    # # Add Vmax information for SQS, SQE, and MVA stuff\n",
    "    # for k, v in Vmax.items():\n",
    "    #     if rxn_in_model(model, k):\n",
    "    #         model.reactions.get_by_id(k).lower_bound = v"
   ]
  },
  {
   "cell_type": "markdown",
   "id": "34611d0e",
   "metadata": {},
   "source": [
    "### Flux Balance Analysis"
   ]
  },
  {
   "cell_type": "code",
   "execution_count": 11,
   "id": "0fcf2c48",
   "metadata": {},
   "outputs": [
    {
     "name": "stdout",
     "output_type": "stream",
     "text": [
      "\n",
      "Running FBA for model: Wildtype\n",
      "\tBIOMASS: 0.051575157823982816\n",
      "\tEXCHERG: 7.090681340665354e-15\n",
      "\tSS: 7.095647558651397e-15\n",
      "\tSQE: 7.095647558651396e-15\n",
      "\tCAS: 7.095647558651396e-15\n",
      "\tMETLOP: 7.095647558651396e-15\n",
      "\tEPI: 7.095647558651397e-15\n",
      "\tERG: 7.095647558651397e-15\n",
      "\tACS: 0.0\n",
      "\tATPCS: 0.0\n",
      "\tMCDC: 0.0\n",
      "\tACALD: 0.0\n",
      "\tPYRDHY: 0.0\n",
      "\tACALDH: 0.004222907323089225\n",
      "\tPFL: 0.0\n",
      "\tPYRS: 0.23969637075037395\n",
      "\tACCOA: -0.2399539169022195\n",
      "\n",
      "Running FBA for model: SQE+MVA\n",
      "\tBIOMASS: 0.0\n",
      "\tEXCHERG: 0.06896551724138\n",
      "\tSS: 0.06896551724138002\n",
      "\tSQE: 9.478949727366664e-16\n",
      "\tSQE2: 0.06896551724137906\n",
      "\tCAS: 0.06896551724138003\n",
      "\tMETLOP: 0.06896551724138002\n",
      "\tEPI: 0.06896551724138002\n",
      "\tERG: 0.06896551724138002\n",
      "\tMVAS: 0.0\n",
      "\tMVAE: 0.0\n",
      "\tMVAD: 0.0\n",
      "\tPMK: 0.0\n",
      "\tMVK: 0.0\n",
      "\tIDLI: 0.0\n",
      "\tACS: 0.0\n",
      "\tATPCS: 0.0\n",
      "\tMCDC: 0.0\n",
      "\tACALD: 0.4482758620690309\n",
      "\tPYRDHY: 0.0\n",
      "\tACALDH: 0.0\n",
      "\tPFL: 0.0\n",
      "\tPYRS: 0.0\n",
      "\tACCOA: 9.286340566498474e-15\n",
      "\n",
      "Running FBA for model: SQE\n",
      "\tBIOMASS: -1.842254303165803e-15\n",
      "\tEXCHERG: 0.06896551724138106\n",
      "\tSS: 0.06896551724138106\n",
      "\tSQE: -1.6125762896718755e-16\n",
      "\tSQE2: 0.06896551724138122\n",
      "\tCAS: 0.06896551724138106\n",
      "\tMETLOP: 0.06896551724138106\n",
      "\tEPI: 0.06896551724138107\n",
      "\tERG: 0.06896551724138107\n",
      "\tACS: 0.0\n",
      "\tATPCS: 0.0\n",
      "\tMCDC: 2.6021605579958575e-16\n",
      "\tACALD: 0.44827586206895387\n",
      "\tPYRDHY: 0.0\n",
      "\tACALDH: 0.0\n",
      "\tPFL: 0.0\n",
      "\tPYRS: 2.1711160062639988e-16\n",
      "\tACCOA: -3.319293769366955e-16\n",
      "\n",
      "Running FBA for model: SQS+MVA\n",
      "\tBIOMASS: 0.0515751421076215\n",
      "\tEXCHERG: -1.170352019085644e-14\n",
      "\tSS: 0.0\n",
      "\tSS2: -1.1695921095352231e-14\n",
      "\tSQE: -1.169592109535223e-14\n",
      "\tCAS: -1.169592109535223e-14\n",
      "\tMETLOP: -1.1695921095352231e-14\n",
      "\tEPI: -1.1695921095352234e-14\n",
      "\tERG: -1.1695921095352231e-14\n",
      "\tMVAS: 0.0\n",
      "\tMVAE: 0.0\n",
      "\tMVAD: 0.0\n",
      "\tPMK: 0.0\n",
      "\tMVK: 0.0\n",
      "\tIDLI: 0.0\n",
      "\tACS: 0.0\n",
      "\tATPCS: 0.0\n",
      "\tMCDC: 0.0\n",
      "\tACALD: 0.0\n",
      "\tPYRDHY: 0.0\n",
      "\tACALDH: 0.004224244940076219\n",
      "\tPFL: 0.0\n",
      "\tPYRS: 0.23969516460790702\n",
      "\tACCOA: -0.23995410311167073\n",
      "\n",
      "Running FBA for model: SQS+SQE+MVA\n",
      "\tBIOMASS: 0.0\n",
      "\tEXCHERG: 0.06896551724138013\n",
      "\tSS: 0.0\n",
      "\tSS2: 0.06896551724138014\n",
      "\tSQE: 4.1623665266711426e-16\n",
      "\tSQE2: 0.06896551724137973\n",
      "\tCAS: 0.06896551724138013\n",
      "\tMETLOP: 0.06896551724138014\n",
      "\tEPI: 0.06896551724138014\n",
      "\tERG: 0.06896551724138014\n",
      "\tMVAS: 0.0\n",
      "\tMVAE: 0.0\n",
      "\tMVAD: 0.0\n",
      "\tPMK: 0.0\n",
      "\tMVK: 0.0\n",
      "\tIDLI: 0.0\n",
      "\tACS: 0.0\n",
      "\tATPCS: 0.0\n",
      "\tMCDC: 0.0\n",
      "\tACALD: 0.44827586206897463\n",
      "\tPYRDHY: 0.0\n",
      "\tACALDH: 0.0\n",
      "\tPFL: 0.0\n",
      "\tPYRS: -2.4266365380696203e-16\n",
      "\tACCOA: -7.376542290160847e-16\n",
      "\n",
      "Running FBA for model: SQS+SQE\n",
      "\tBIOMASS: 0.0\n",
      "\tEXCHERG: 0.06896551724137949\n",
      "\tSS: 0.0\n",
      "\tSS2: 0.06896551724137949\n",
      "\tSQE: -1.136077123466164e-16\n",
      "\tSQE2: 0.0689655172413796\n",
      "\tCAS: 0.06896551724137949\n",
      "\tMETLOP: 0.06896551724137949\n",
      "\tEPI: 0.06896551724137949\n",
      "\tERG: 0.06896551724137949\n",
      "\tACS: 0.0\n",
      "\tATPCS: 0.0\n",
      "\tMCDC: 0.0\n",
      "\tACALD: 0.4482758620689604\n",
      "\tPYRDHY: 0.0\n",
      "\tACALDH: 0.0\n",
      "\tPFL: 0.0\n",
      "\tPYRS: 0.0\n",
      "\tACCOA: 0.0\n",
      "\n",
      "Running FBA for model: SQS\n",
      "\tBIOMASS: 0.051575142107593876\n",
      "\tEXCHERG: 1.7190529524578766e-14\n",
      "\tSS: 0.0\n",
      "\tSS2: 1.7190529524578766e-14\n",
      "\tSQE: 1.719052952457877e-14\n",
      "\tCAS: 1.719052952457877e-14\n",
      "\tMETLOP: 1.719052952457877e-14\n",
      "\tEPI: 1.719052952457877e-14\n",
      "\tERG: 1.7190529524578766e-14\n",
      "\tACS: 0.0\n",
      "\tATPCS: 0.0\n",
      "\tMCDC: 0.0\n",
      "\tACALD: 0.0\n",
      "\tPYRDHY: 0.0\n",
      "\tACALDH: 0.004224244941684159\n",
      "\tPFL: 0.0\n",
      "\tPYRS: 0.23969516460618215\n",
      "\tACCOA: -0.2399541031115831\n"
     ]
    }
   ],
   "source": [
    "# Run flux-balance analysis on each model and store results\n",
    "fba = {}\n",
    "\n",
    "for name, model in models.items():\n",
    "    print(f\"\\nRunning FBA for model: {name}\")\n",
    "    fba[name] = flux_balance_analysis(\n",
    "        model,\n",
    "        objectives=[RxnID.BIOMASS.value, RxnID.EXCHERG.value],\n",
    "        loopless=False,\n",
    "        is_pfba=True\n",
    "    )\n",
    "    for _, item in RxnID.__members__.items():\n",
    "        if rxn_in_model(model, item.value):\n",
    "            print(f\"\\t{item.name}: {fba[name].fluxes[item.value]}\")\n",
    "    "
   ]
  },
  {
   "cell_type": "markdown",
   "id": "e39899db",
   "metadata": {},
   "source": [
    "### Flux Variability Analysis"
   ]
  },
  {
   "cell_type": "code",
   "execution_count": 12,
   "id": "948989df",
   "metadata": {},
   "outputs": [
    {
     "name": "stdout",
     "output_type": "stream",
     "text": [
      "\n",
      "Running FVA for model: Wildtype\n",
      "                     minimum       maximum\n",
      "Biomass_Chlamy_auto     0.00  3.854623e-17\n",
      "ERGOSTEROLEXCH          0.04  4.000000e-02\n",
      "FILL_ERG                0.04  4.000000e-02\n",
      "SS                      0.04  4.000000e-02\n",
      "SMO                     0.04  4.000000e-02\n",
      "CAS                     0.04  4.000000e-02\n",
      "\n",
      "Running FVA for model: SQE+MVA\n",
      "                          minimum       maximum\n",
      "Biomass_Chlamy_auto  0.000000e+00  1.243184e-15\n",
      "ERGOSTEROLEXCH       6.896552e-02  6.896552e-02\n",
      "FILL_ERG             6.896552e-02  6.896552e-02\n",
      "SS                   6.896552e-02  6.896552e-02\n",
      "SMO                 -1.530359e-16  7.717955e-15\n",
      "ALT_SQE2             6.896552e-02  6.896552e-02\n",
      "CAS                  6.896552e-02  6.896552e-02\n",
      "ALT_MVAD             0.000000e+00  0.000000e+00\n",
      "ALT_MVAE             0.000000e+00  1.206953e-29\n",
      "ALT_MVAS             0.000000e+00  1.206953e-29\n",
      "ALT_PMK              0.000000e+00  0.000000e+00\n",
      "ALT_MVK              0.000000e+00 -1.072847e-29\n",
      "ALT_IDLI             0.000000e+00  1.379310e-01\n",
      "\n",
      "Running FVA for model: SQE\n",
      "                          minimum       maximum\n",
      "Biomass_Chlamy_auto  0.000000e+00  4.431678e-15\n",
      "ERGOSTEROLEXCH       6.896552e-02  6.896552e-02\n",
      "FILL_ERG             6.896552e-02  6.896552e-02\n",
      "SS                   6.896552e-02  6.896552e-02\n",
      "SMO                  1.578838e-15 -3.388540e-15\n",
      "ALT_SQE2             6.896552e-02  6.896552e-02\n",
      "CAS                  6.896552e-02  6.896552e-02\n",
      "\n",
      "Running FVA for model: SQS+MVA\n",
      "                     minimum       maximum\n",
      "Biomass_Chlamy_auto     0.00  2.018870e-15\n",
      "ERGOSTEROLEXCH          0.04  4.000000e-02\n",
      "FILL_ERG                0.04  4.000000e-02\n",
      "SS                      0.00  4.000000e-02\n",
      "ALT_SQS2                0.00  4.000000e-02\n",
      "SMO                     0.04  4.000000e-02\n",
      "CAS                     0.04  4.000000e-02\n",
      "ALT_MVAD                0.00  0.000000e+00\n",
      "ALT_MVAE                0.00  0.000000e+00\n",
      "ALT_MVAS                0.00  0.000000e+00\n",
      "ALT_PMK                 0.00  0.000000e+00\n",
      "ALT_MVK                 0.00  0.000000e+00\n",
      "ALT_IDLI                0.00  8.000000e-02\n",
      "\n",
      "Running FVA for model: SQS+SQE+MVA\n",
      "                          minimum       maximum\n",
      "Biomass_Chlamy_auto  0.000000e+00  1.379382e-15\n",
      "ERGOSTEROLEXCH       6.896552e-02  6.896552e-02\n",
      "FILL_ERG             6.896552e-02  6.896552e-02\n",
      "SS                   0.000000e+00  6.896552e-02\n",
      "ALT_SQS2             0.000000e+00  6.896552e-02\n",
      "SMO                 -1.346948e-15  2.124131e-15\n",
      "ALT_SQE2             6.896552e-02  6.896552e-02\n",
      "CAS                  6.896552e-02  6.896552e-02\n",
      "ALT_MVAD             0.000000e+00  0.000000e+00\n",
      "ALT_MVAE             0.000000e+00  2.340641e-31\n",
      "ALT_MVAS             0.000000e+00  2.340641e-31\n",
      "ALT_PMK              0.000000e+00 -1.992125e-30\n",
      "ALT_MVK              0.000000e+00  5.388838e-31\n",
      "ALT_IDLI             0.000000e+00  1.379310e-01\n",
      "\n",
      "Running FVA for model: SQS+SQE\n",
      "                          minimum       maximum\n",
      "Biomass_Chlamy_auto  0.000000e+00  3.825609e-16\n",
      "ERGOSTEROLEXCH       6.896552e-02  6.896552e-02\n",
      "FILL_ERG             6.896552e-02  6.896552e-02\n",
      "SS                   0.000000e+00  6.896552e-02\n",
      "ALT_SQS2             0.000000e+00  6.896552e-02\n",
      "SMO                 -2.519919e-16  3.932684e-16\n",
      "ALT_SQE2             6.896552e-02  6.896552e-02\n",
      "CAS                  6.896552e-02  6.896552e-02\n",
      "\n",
      "Running FVA for model: SQS\n",
      "                     minimum       maximum\n",
      "Biomass_Chlamy_auto     0.00 -3.883882e-15\n",
      "ERGOSTEROLEXCH          0.04  4.000000e-02\n",
      "FILL_ERG                0.04  4.000000e-02\n",
      "SS                      0.00  4.000000e-02\n",
      "ALT_SQS2                0.00  4.000000e-02\n",
      "SMO                     0.04  4.000000e-02\n",
      "CAS                     0.04  4.000000e-02\n"
     ]
    }
   ],
   "source": [
    "fva = {}\n",
    "\n",
    "target_rxns = [\n",
    "    RxnID.BIOMASS.value,\n",
    "    RxnID.EXCHERG.value,\n",
    "    RxnID.ERG.value,\n",
    "    RxnID.SS.value,\n",
    "    RxnID.SS2.value,\n",
    "    RxnID.SQE.value,\n",
    "    RxnID.SQE2.value,\n",
    "    RxnID.CAS.value,\n",
    "    RxnID.MVAD.value,\n",
    "    RxnID.MVAE.value,\n",
    "    RxnID.MVAS.value,\n",
    "    RxnID.PMK.value,\n",
    "    RxnID.MVK.value,\n",
    "    RxnID.IDLI.value\n",
    "]\n",
    "\n",
    "for name, model in models.items():\n",
    "    print(f\"\\nRunning FVA for model: {name}\")\n",
    "    fva[name] = run_flux_variability_analysis(\n",
    "        model,\n",
    "        loopless=True,\n",
    "        pfba_factor=None,\n",
    "        objectives=[RxnID.EXCHERG.value],\n",
    "        reactions=[rxn for rxn in target_rxns if rxn_in_model(model, rxn)]\n",
    "    )\n",
    "    print(fva[name])"
   ]
  },
  {
   "cell_type": "markdown",
   "id": "87a3988c",
   "metadata": {},
   "source": [
    "### Results"
   ]
  },
  {
   "cell_type": "code",
   "execution_count": 13,
   "id": "69909211",
   "metadata": {},
   "outputs": [
    {
     "name": "stdout",
     "output_type": "stream",
     "text": [
      "FBA Flux Heatmap Data:\n",
      "                  EXCHERG       BIOMASS           ERG\n",
      "Wildtype     7.090681e-15  5.157516e-02  7.095648e-15\n",
      "SQE+MVA      6.896552e-02  0.000000e+00  6.896552e-02\n",
      "SQE          6.896552e-02 -1.842254e-15  6.896552e-02\n",
      "SQS+MVA     -1.170352e-14  5.157514e-02 -1.169592e-14\n",
      "SQS+SQE+MVA  6.896552e-02  0.000000e+00  6.896552e-02\n",
      "SQS+SQE      6.896552e-02  0.000000e+00  6.896552e-02\n",
      "SQS          1.719053e-14  5.157514e-02  1.719053e-14\n"
     ]
    },
    {
     "data": {
      "application/vnd.plotly.v1+json": {
       "config": {
        "plotlyServerURL": "https://plot.ly"
       },
       "data": [
        {
         "colorbar": {
          "title": {
           "text": "Flux (mmol/gDW/h)"
          }
         },
         "colorscale": [
          [
           0,
           "rgb(49,54,149)"
          ],
          [
           0.1,
           "rgb(69,117,180)"
          ],
          [
           0.2,
           "rgb(116,173,209)"
          ],
          [
           0.3,
           "rgb(171,217,233)"
          ],
          [
           0.4,
           "rgb(224,243,248)"
          ],
          [
           0.5,
           "rgb(255,255,191)"
          ],
          [
           0.6,
           "rgb(254,224,144)"
          ],
          [
           0.7,
           "rgb(253,174,97)"
          ],
          [
           0.8,
           "rgb(244,109,67)"
          ],
          [
           0.9,
           "rgb(215,48,39)"
          ],
          [
           1,
           "rgb(165,0,38)"
          ]
         ],
         "text": {
          "bdata": "AAAAAAAAAACze/KwUGuqPwAAAAAAAAAARIts5/upsT8AAAAAAAAAAESLbOf7qbE/RIts5/upsT8AAAAAAAAAgESLbOf7qbE/AAAAAAAAAICze/KwUGuqPwAAAAAAAACARIts5/upsT8AAAAAAAAAAESLbOf7qbE/RIts5/upsT8AAAAAAAAAAESLbOf7qbE/AAAAAAAAAACze/KwUGuqPwAAAAAAAAAA",
          "dtype": "f8",
          "shape": "7, 3"
         },
         "textfont": {
          "size": 10
         },
         "texttemplate": "%{text}",
         "type": "heatmap",
         "x": [
          "EXCHERG",
          "BIOMASS",
          "ERG"
         ],
         "y": [
          "Wildtype",
          "SQE+MVA",
          "SQE",
          "SQS+MVA",
          "SQS+SQE+MVA",
          "SQS+SQE",
          "SQS"
         ],
         "z": {
          "bdata": "hj12vv/u/zzxs0cgD2iqP36gSIO59P88yHsaYbmnsT8AAAAAAAAAAMl7GmG5p7E/FHwaYbmnsT/hlSz/8pfgvBV8GmG5p7E/INzYu55aCr0SD0eZDmiqPxnGIk49Vgq90XsaYbmnsT8AAAAAAAAAANJ7GmG5p7E/o3saYbmnsT8AAAAAAAAAAKN7GmG5p7E/h3HMMdVaEz2F/0aZDmiqP4dxzDHVWhM9",
          "dtype": "f8",
          "shape": "7, 3"
         }
        }
       ],
       "layout": {
        "font": {
         "size": 12
        },
        "height": 600,
        "template": {
         "data": {
          "bar": [
           {
            "error_x": {
             "color": "#2a3f5f"
            },
            "error_y": {
             "color": "#2a3f5f"
            },
            "marker": {
             "line": {
              "color": "#E5ECF6",
              "width": 0.5
             },
             "pattern": {
              "fillmode": "overlay",
              "size": 10,
              "solidity": 0.2
             }
            },
            "type": "bar"
           }
          ],
          "barpolar": [
           {
            "marker": {
             "line": {
              "color": "#E5ECF6",
              "width": 0.5
             },
             "pattern": {
              "fillmode": "overlay",
              "size": 10,
              "solidity": 0.2
             }
            },
            "type": "barpolar"
           }
          ],
          "carpet": [
           {
            "aaxis": {
             "endlinecolor": "#2a3f5f",
             "gridcolor": "white",
             "linecolor": "white",
             "minorgridcolor": "white",
             "startlinecolor": "#2a3f5f"
            },
            "baxis": {
             "endlinecolor": "#2a3f5f",
             "gridcolor": "white",
             "linecolor": "white",
             "minorgridcolor": "white",
             "startlinecolor": "#2a3f5f"
            },
            "type": "carpet"
           }
          ],
          "choropleth": [
           {
            "colorbar": {
             "outlinewidth": 0,
             "ticks": ""
            },
            "type": "choropleth"
           }
          ],
          "contour": [
           {
            "colorbar": {
             "outlinewidth": 0,
             "ticks": ""
            },
            "colorscale": [
             [
              0,
              "#0d0887"
             ],
             [
              0.1111111111111111,
              "#46039f"
             ],
             [
              0.2222222222222222,
              "#7201a8"
             ],
             [
              0.3333333333333333,
              "#9c179e"
             ],
             [
              0.4444444444444444,
              "#bd3786"
             ],
             [
              0.5555555555555556,
              "#d8576b"
             ],
             [
              0.6666666666666666,
              "#ed7953"
             ],
             [
              0.7777777777777778,
              "#fb9f3a"
             ],
             [
              0.8888888888888888,
              "#fdca26"
             ],
             [
              1,
              "#f0f921"
             ]
            ],
            "type": "contour"
           }
          ],
          "contourcarpet": [
           {
            "colorbar": {
             "outlinewidth": 0,
             "ticks": ""
            },
            "type": "contourcarpet"
           }
          ],
          "heatmap": [
           {
            "colorbar": {
             "outlinewidth": 0,
             "ticks": ""
            },
            "colorscale": [
             [
              0,
              "#0d0887"
             ],
             [
              0.1111111111111111,
              "#46039f"
             ],
             [
              0.2222222222222222,
              "#7201a8"
             ],
             [
              0.3333333333333333,
              "#9c179e"
             ],
             [
              0.4444444444444444,
              "#bd3786"
             ],
             [
              0.5555555555555556,
              "#d8576b"
             ],
             [
              0.6666666666666666,
              "#ed7953"
             ],
             [
              0.7777777777777778,
              "#fb9f3a"
             ],
             [
              0.8888888888888888,
              "#fdca26"
             ],
             [
              1,
              "#f0f921"
             ]
            ],
            "type": "heatmap"
           }
          ],
          "histogram": [
           {
            "marker": {
             "pattern": {
              "fillmode": "overlay",
              "size": 10,
              "solidity": 0.2
             }
            },
            "type": "histogram"
           }
          ],
          "histogram2d": [
           {
            "colorbar": {
             "outlinewidth": 0,
             "ticks": ""
            },
            "colorscale": [
             [
              0,
              "#0d0887"
             ],
             [
              0.1111111111111111,
              "#46039f"
             ],
             [
              0.2222222222222222,
              "#7201a8"
             ],
             [
              0.3333333333333333,
              "#9c179e"
             ],
             [
              0.4444444444444444,
              "#bd3786"
             ],
             [
              0.5555555555555556,
              "#d8576b"
             ],
             [
              0.6666666666666666,
              "#ed7953"
             ],
             [
              0.7777777777777778,
              "#fb9f3a"
             ],
             [
              0.8888888888888888,
              "#fdca26"
             ],
             [
              1,
              "#f0f921"
             ]
            ],
            "type": "histogram2d"
           }
          ],
          "histogram2dcontour": [
           {
            "colorbar": {
             "outlinewidth": 0,
             "ticks": ""
            },
            "colorscale": [
             [
              0,
              "#0d0887"
             ],
             [
              0.1111111111111111,
              "#46039f"
             ],
             [
              0.2222222222222222,
              "#7201a8"
             ],
             [
              0.3333333333333333,
              "#9c179e"
             ],
             [
              0.4444444444444444,
              "#bd3786"
             ],
             [
              0.5555555555555556,
              "#d8576b"
             ],
             [
              0.6666666666666666,
              "#ed7953"
             ],
             [
              0.7777777777777778,
              "#fb9f3a"
             ],
             [
              0.8888888888888888,
              "#fdca26"
             ],
             [
              1,
              "#f0f921"
             ]
            ],
            "type": "histogram2dcontour"
           }
          ],
          "mesh3d": [
           {
            "colorbar": {
             "outlinewidth": 0,
             "ticks": ""
            },
            "type": "mesh3d"
           }
          ],
          "parcoords": [
           {
            "line": {
             "colorbar": {
              "outlinewidth": 0,
              "ticks": ""
             }
            },
            "type": "parcoords"
           }
          ],
          "pie": [
           {
            "automargin": true,
            "type": "pie"
           }
          ],
          "scatter": [
           {
            "fillpattern": {
             "fillmode": "overlay",
             "size": 10,
             "solidity": 0.2
            },
            "type": "scatter"
           }
          ],
          "scatter3d": [
           {
            "line": {
             "colorbar": {
              "outlinewidth": 0,
              "ticks": ""
             }
            },
            "marker": {
             "colorbar": {
              "outlinewidth": 0,
              "ticks": ""
             }
            },
            "type": "scatter3d"
           }
          ],
          "scattercarpet": [
           {
            "marker": {
             "colorbar": {
              "outlinewidth": 0,
              "ticks": ""
             }
            },
            "type": "scattercarpet"
           }
          ],
          "scattergeo": [
           {
            "marker": {
             "colorbar": {
              "outlinewidth": 0,
              "ticks": ""
             }
            },
            "type": "scattergeo"
           }
          ],
          "scattergl": [
           {
            "marker": {
             "colorbar": {
              "outlinewidth": 0,
              "ticks": ""
             }
            },
            "type": "scattergl"
           }
          ],
          "scattermap": [
           {
            "marker": {
             "colorbar": {
              "outlinewidth": 0,
              "ticks": ""
             }
            },
            "type": "scattermap"
           }
          ],
          "scattermapbox": [
           {
            "marker": {
             "colorbar": {
              "outlinewidth": 0,
              "ticks": ""
             }
            },
            "type": "scattermapbox"
           }
          ],
          "scatterpolar": [
           {
            "marker": {
             "colorbar": {
              "outlinewidth": 0,
              "ticks": ""
             }
            },
            "type": "scatterpolar"
           }
          ],
          "scatterpolargl": [
           {
            "marker": {
             "colorbar": {
              "outlinewidth": 0,
              "ticks": ""
             }
            },
            "type": "scatterpolargl"
           }
          ],
          "scatterternary": [
           {
            "marker": {
             "colorbar": {
              "outlinewidth": 0,
              "ticks": ""
             }
            },
            "type": "scatterternary"
           }
          ],
          "surface": [
           {
            "colorbar": {
             "outlinewidth": 0,
             "ticks": ""
            },
            "colorscale": [
             [
              0,
              "#0d0887"
             ],
             [
              0.1111111111111111,
              "#46039f"
             ],
             [
              0.2222222222222222,
              "#7201a8"
             ],
             [
              0.3333333333333333,
              "#9c179e"
             ],
             [
              0.4444444444444444,
              "#bd3786"
             ],
             [
              0.5555555555555556,
              "#d8576b"
             ],
             [
              0.6666666666666666,
              "#ed7953"
             ],
             [
              0.7777777777777778,
              "#fb9f3a"
             ],
             [
              0.8888888888888888,
              "#fdca26"
             ],
             [
              1,
              "#f0f921"
             ]
            ],
            "type": "surface"
           }
          ],
          "table": [
           {
            "cells": {
             "fill": {
              "color": "#EBF0F8"
             },
             "line": {
              "color": "white"
             }
            },
            "header": {
             "fill": {
              "color": "#C8D4E3"
             },
             "line": {
              "color": "white"
             }
            },
            "type": "table"
           }
          ]
         },
         "layout": {
          "annotationdefaults": {
           "arrowcolor": "#2a3f5f",
           "arrowhead": 0,
           "arrowwidth": 1
          },
          "autotypenumbers": "strict",
          "coloraxis": {
           "colorbar": {
            "outlinewidth": 0,
            "ticks": ""
           }
          },
          "colorscale": {
           "diverging": [
            [
             0,
             "#8e0152"
            ],
            [
             0.1,
             "#c51b7d"
            ],
            [
             0.2,
             "#de77ae"
            ],
            [
             0.3,
             "#f1b6da"
            ],
            [
             0.4,
             "#fde0ef"
            ],
            [
             0.5,
             "#f7f7f7"
            ],
            [
             0.6,
             "#e6f5d0"
            ],
            [
             0.7,
             "#b8e186"
            ],
            [
             0.8,
             "#7fbc41"
            ],
            [
             0.9,
             "#4d9221"
            ],
            [
             1,
             "#276419"
            ]
           ],
           "sequential": [
            [
             0,
             "#0d0887"
            ],
            [
             0.1111111111111111,
             "#46039f"
            ],
            [
             0.2222222222222222,
             "#7201a8"
            ],
            [
             0.3333333333333333,
             "#9c179e"
            ],
            [
             0.4444444444444444,
             "#bd3786"
            ],
            [
             0.5555555555555556,
             "#d8576b"
            ],
            [
             0.6666666666666666,
             "#ed7953"
            ],
            [
             0.7777777777777778,
             "#fb9f3a"
            ],
            [
             0.8888888888888888,
             "#fdca26"
            ],
            [
             1,
             "#f0f921"
            ]
           ],
           "sequentialminus": [
            [
             0,
             "#0d0887"
            ],
            [
             0.1111111111111111,
             "#46039f"
            ],
            [
             0.2222222222222222,
             "#7201a8"
            ],
            [
             0.3333333333333333,
             "#9c179e"
            ],
            [
             0.4444444444444444,
             "#bd3786"
            ],
            [
             0.5555555555555556,
             "#d8576b"
            ],
            [
             0.6666666666666666,
             "#ed7953"
            ],
            [
             0.7777777777777778,
             "#fb9f3a"
            ],
            [
             0.8888888888888888,
             "#fdca26"
            ],
            [
             1,
             "#f0f921"
            ]
           ]
          },
          "colorway": [
           "#636efa",
           "#EF553B",
           "#00cc96",
           "#ab63fa",
           "#FFA15A",
           "#19d3f3",
           "#FF6692",
           "#B6E880",
           "#FF97FF",
           "#FECB52"
          ],
          "font": {
           "color": "#2a3f5f"
          },
          "geo": {
           "bgcolor": "white",
           "lakecolor": "white",
           "landcolor": "#E5ECF6",
           "showlakes": true,
           "showland": true,
           "subunitcolor": "white"
          },
          "hoverlabel": {
           "align": "left"
          },
          "hovermode": "closest",
          "mapbox": {
           "style": "light"
          },
          "paper_bgcolor": "white",
          "plot_bgcolor": "#E5ECF6",
          "polar": {
           "angularaxis": {
            "gridcolor": "white",
            "linecolor": "white",
            "ticks": ""
           },
           "bgcolor": "#E5ECF6",
           "radialaxis": {
            "gridcolor": "white",
            "linecolor": "white",
            "ticks": ""
           }
          },
          "scene": {
           "xaxis": {
            "backgroundcolor": "#E5ECF6",
            "gridcolor": "white",
            "gridwidth": 2,
            "linecolor": "white",
            "showbackground": true,
            "ticks": "",
            "zerolinecolor": "white"
           },
           "yaxis": {
            "backgroundcolor": "#E5ECF6",
            "gridcolor": "white",
            "gridwidth": 2,
            "linecolor": "white",
            "showbackground": true,
            "ticks": "",
            "zerolinecolor": "white"
           },
           "zaxis": {
            "backgroundcolor": "#E5ECF6",
            "gridcolor": "white",
            "gridwidth": 2,
            "linecolor": "white",
            "showbackground": true,
            "ticks": "",
            "zerolinecolor": "white"
           }
          },
          "shapedefaults": {
           "line": {
            "color": "#2a3f5f"
           }
          },
          "ternary": {
           "aaxis": {
            "gridcolor": "white",
            "linecolor": "white",
            "ticks": ""
           },
           "baxis": {
            "gridcolor": "white",
            "linecolor": "white",
            "ticks": ""
           },
           "bgcolor": "#E5ECF6",
           "caxis": {
            "gridcolor": "white",
            "linecolor": "white",
            "ticks": ""
           }
          },
          "title": {
           "x": 0.05
          },
          "xaxis": {
           "automargin": true,
           "gridcolor": "white",
           "linecolor": "white",
           "ticks": "",
           "title": {
            "standoff": 15
           },
           "zerolinecolor": "white",
           "zerolinewidth": 2
          },
          "yaxis": {
           "automargin": true,
           "gridcolor": "white",
           "linecolor": "white",
           "ticks": "",
           "title": {
            "standoff": 15
           },
           "zerolinecolor": "white",
           "zerolinewidth": 2
          }
         }
        },
        "title": {
         "text": "FBA Flux Analysis Heatmap"
        },
        "width": 800,
        "xaxis": {
         "title": {
          "text": "Reactions"
         }
        },
        "yaxis": {
         "title": {
          "text": "Models"
         }
        }
       }
      }
     },
     "metadata": {},
     "output_type": "display_data"
    }
   ],
   "source": [
    "import pandas as pd\n",
    "import plotly.express as px\n",
    "import plotly.graph_objects as go\n",
    "\n",
    "# Define target reactions for heatmap\n",
    "target_values = [\n",
    "    RxnID.EXCHERG.value,\n",
    "    RxnID.BIOMASS.value,\n",
    "    RxnID.ERG.value\n",
    "]\n",
    "\n",
    "target_names = [\n",
    "    RxnID.EXCHERG.name,\n",
    "    RxnID.BIOMASS.name,\n",
    "    RxnID.ERG.name\n",
    "]\n",
    "\n",
    "# Create data for heatmap\n",
    "heatmap_data = []\n",
    "model_names = []\n",
    "flux_matrix = []\n",
    "\n",
    "for model_name, fba_result in fba.items():\n",
    "    model_names.append(model_name)\n",
    "    flux_row = []\n",
    "\n",
    "    for rxn_id in target_values:\n",
    "        # Get flux value, default to 0 if reaction not found\n",
    "        flux_value = fba_result.fluxes[rxn_id]\n",
    "        flux_row.append(flux_value)\n",
    "    \n",
    "    flux_matrix.append(flux_row)\n",
    "\n",
    "# Create DataFrame for easier handling\n",
    "df_heatmap = pd.DataFrame(\n",
    "    flux_matrix, \n",
    "    index=model_names, \n",
    "    columns=target_names\n",
    ")\n",
    "\n",
    "print(\"FBA Flux Heatmap Data:\")\n",
    "print(df_heatmap)\n",
    "\n",
    "# Create heatmap using Plotly\n",
    "fig = go.Figure(data=go.Heatmap(\n",
    "    z=df_heatmap.values,\n",
    "    x=target_names,\n",
    "    y=model_names,\n",
    "    colorscale='RdYlBu_r',  # Red-Yellow-Blue reversed (red=high, blue=low)\n",
    "    text=df_heatmap.values.round(4),  # Show values on cells\n",
    "    texttemplate=\"%{text}\",\n",
    "    textfont={\"size\": 10},\n",
    "    colorbar=dict(title=\"Flux (mmol/gDW/h)\")\n",
    "))\n",
    "\n",
    "fig.update_layout(\n",
    "    title=\"FBA Flux Analysis Heatmap\",\n",
    "    xaxis_title=\"Reactions\",\n",
    "    yaxis_title=\"Models\",\n",
    "    width=800,\n",
    "    height=600,\n",
    "    font=dict(size=12)\n",
    ")\n",
    "\n",
    "fig.show()"
   ]
  },
  {
   "cell_type": "code",
   "execution_count": 14,
   "id": "7a0bb02f",
   "metadata": {},
   "outputs": [
    {
     "name": "stdout",
     "output_type": "stream",
     "text": [
      "Heatmap saved to: ../results/bench/heatmap\\fba_flux_heatmap.png\n",
      "Flux data saved to: ../results/bench/heatmap\\fba_flux_data.csv\n",
      "Interactive heatmap saved to: ../results/bench/heatmap\\fba_flux_heatmap.html\n",
      "Image (PNG) heatmap saved to: ../results/bench/heatmap\\fba_flux_heatmap.png\n"
     ]
    }
   ],
   "source": [
    "# Export results\n",
    "import os\n",
    "\n",
    "# Create results directory if it doesn't exist\n",
    "results_dir = '../results/bench/heatmap'\n",
    "os.makedirs(results_dir, exist_ok=True)\n",
    "\n",
    "# Save the heatmap as PNG\n",
    "output_path = os.path.join(results_dir, 'fba_flux_heatmap.png')\n",
    "fig.write_image(output_path, width=800, height=600, scale=2)\n",
    "print(f\"Heatmap saved to: {output_path}\")\n",
    "\n",
    "# Also save the DataFrame as CSV for reference\n",
    "csv_path = os.path.join(results_dir, 'fba_flux_data.csv')\n",
    "df_heatmap.to_csv(csv_path)\n",
    "print(f\"Flux data saved to: {csv_path}\")\n",
    "\n",
    "# Save the heatmap as HTML for interactive viewing\n",
    "html_path = os.path.join(results_dir, 'fba_flux_heatmap.html')\n",
    "fig.write_html(html_path)\n",
    "print(f\"Interactive heatmap saved to: {html_path}\")\n",
    "\n",
    "# Save the heatmap as .png for convenience\n",
    "png_path = os.path.join(results_dir, 'fba_flux_heatmap.png')\n",
    "fig.write_image(\n",
    "    png_path,\n",
    "    width=1200,\n",
    "    height=800,\n",
    "    scale=2,\n",
    "    format=\"png\"\n",
    ")\n",
    "print(f\"Image (PNG) heatmap saved to: {png_path}\")"
   ]
  }
 ],
 "metadata": {
  "kernelspec": {
   "display_name": "venv",
   "language": "python",
   "name": "python3"
  },
  "language_info": {
   "codemirror_mode": {
    "name": "ipython",
    "version": 3
   },
   "file_extension": ".py",
   "mimetype": "text/x-python",
   "name": "python",
   "nbconvert_exporter": "python",
   "pygments_lexer": "ipython3",
   "version": "3.12.10"
  }
 },
 "nbformat": 4,
 "nbformat_minor": 5
}
