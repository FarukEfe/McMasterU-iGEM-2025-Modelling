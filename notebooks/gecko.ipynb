{
 "cells": [
  {
   "cell_type": "markdown",
   "id": "8c1b7cd5",
   "metadata": {},
   "source": [
    "### Setup"
   ]
  },
  {
   "cell_type": "code",
   "execution_count": 7,
   "id": "bb86e06c",
   "metadata": {},
   "outputs": [
    {
     "name": "stderr",
     "output_type": "stream",
     "text": [
      "No objective coefficients in model. Unclear what should be optimized\n"
     ]
    },
    {
     "name": "stdout",
     "output_type": "stream",
     "text": [
      "Loading model: SQE+MVA from ../data/altered/xmls/MNL_iCre1355_auto_GAPFILL/SQE+MVA.xml\n"
     ]
    },
    {
     "name": "stderr",
     "output_type": "stream",
     "text": [
      "No objective coefficients in model. Unclear what should be optimized\n"
     ]
    },
    {
     "name": "stdout",
     "output_type": "stream",
     "text": [
      "Loading model: SQE from ../data/altered/xmls/MNL_iCre1355_auto_GAPFILL/SQE.xml\n"
     ]
    },
    {
     "name": "stderr",
     "output_type": "stream",
     "text": [
      "No objective coefficients in model. Unclear what should be optimized\n"
     ]
    },
    {
     "name": "stdout",
     "output_type": "stream",
     "text": [
      "Loading model: SQS+MVA from ../data/altered/xmls/MNL_iCre1355_auto_GAPFILL/SQS+MVA.xml\n"
     ]
    },
    {
     "name": "stderr",
     "output_type": "stream",
     "text": [
      "No objective coefficients in model. Unclear what should be optimized\n"
     ]
    },
    {
     "name": "stdout",
     "output_type": "stream",
     "text": [
      "Loading model: SQS+SQE+MVA from ../data/altered/xmls/MNL_iCre1355_auto_GAPFILL/SQS+SQE+MVA.xml\n"
     ]
    },
    {
     "name": "stderr",
     "output_type": "stream",
     "text": [
      "No objective coefficients in model. Unclear what should be optimized\n"
     ]
    },
    {
     "name": "stdout",
     "output_type": "stream",
     "text": [
      "Loading model: SQS+SQE from ../data/altered/xmls/MNL_iCre1355_auto_GAPFILL/SQS+SQE.xml\n"
     ]
    },
    {
     "name": "stderr",
     "output_type": "stream",
     "text": [
      "No objective coefficients in model. Unclear what should be optimized\n"
     ]
    },
    {
     "name": "stdout",
     "output_type": "stream",
     "text": [
      "Loading model: SQS from ../data/altered/xmls/MNL_iCre1355_auto_GAPFILL/SQS.xml\n"
     ]
    },
    {
     "name": "stderr",
     "output_type": "stream",
     "text": [
      "No objective coefficients in model. Unclear what should be optimized\n"
     ]
    }
   ],
   "source": [
    "import os, sys\n",
    "sys.path.append('..')\n",
    "\n",
    "from cobra import io\n",
    "import geckopy as gp\n",
    "\n",
    "from cobra.core import Model, Reaction, Gene, GPR\n",
    "from scripts.helpers.model import rxn_in_model\n",
    "\n",
    "# Load models\n",
    "\n",
    "# Load wildtype from manual directory (adjust path for notebooks directory)\n",
    "# Use io.read_sbml_model for local files instead of io.load_model\n",
    "wildtype = io.read_sbml_model('../data/fill/xmls/MNL_iCre1355_auto_GAPFILL.xml')\n",
    "\n",
    "models = {\n",
    "    \"Wildtype\": wildtype\n",
    "}\n",
    "\n",
    "# Get altered reactions of wildtype - using correct directory name\n",
    "altered_dir = '../data/altered/xmls/MNL_iCre1355_auto_GAPFILL/'\n",
    "\n",
    "for root, dirs, files in os.walk(altered_dir):\n",
    "\n",
    "    # Exclude the /h directory from search\n",
    "    if root.endswith('/h'):\n",
    "        continue\n",
    "\n",
    "    for file in files:\n",
    "        if file.endswith('.xml'):\n",
    "            # Get file name and remove .xml extension\n",
    "            model_name = file[:-4]\n",
    "            full_path = os.path.join(root, file)\n",
    "            print(f\"Loading model: {model_name} from {full_path}\")\n",
    "            models[model_name] = io.read_sbml_model(full_path)"
   ]
  },
  {
   "cell_type": "markdown",
   "id": "5ca2f435",
   "metadata": {},
   "source": [
    "### Uniprot Gene IDs"
   ]
  },
  {
   "cell_type": "code",
   "execution_count": 8,
   "id": "9f53a94e",
   "metadata": {},
   "outputs": [],
   "source": [
    "\"\"\"\n",
    "The following reactions need to have gene associations updated to UniProt IDs for GECKO Kcat values:\n",
    "    - ALT_MVAS, ALT_MVAD, ALT_MVAE, ALT_MVD, ALT_MVK, ALT_PMK, ALT_IDLI (MVA pathway)\n",
    "    - SS, SMO, ERG5, ERG3, ERG (Sterol pathway)\n",
    "    - ALT_PSPPS2, ALT_SQS2, ALT_SQE2 (Overexpressions)\n",
    "    - DXS, CMK, CMS, HDS (MEP pathway)\n",
    "    - Additional SQS, SQE strains with their kcat values\n",
    "\n",
    "Concepts to keep in mind:\n",
    "    - One gene may regulate multiple reactions\n",
    "    - One reaction may be regulated by the conjunction or disjunction of multiple genes\n",
    "\n",
    "Ensure:\n",
    "    - Did we cover ever necessary reaction for proper constraining?\n",
    "\"\"\"\n",
    "reac_gene = {\n",
    "    # MVA Pathway -- Note: what strain are we using for MVA?\n",
    "    'ALT_MVAS': ['MVAS'],\n",
    "    'ALT_MVAD': ['MVAD'],\n",
    "    'ALT_MVAE': ['MVAE'],\n",
    "    'ALT_MVK': ['MVK'],\n",
    "    'ALT_PMK': ['PMK'],\n",
    "    'ALT_IDLI': ['IDLI'],\n",
    "    # MEP Pathway\n",
    "    'DXS': ['Cre07.g356350.t1.1'],\n",
    "    'CMK': ['Cre02.g145050.t1.2'],\n",
    "    'CMS': ['Cre16.g679669.t1.1'],\n",
    "    'HDS': ['Cre12.g490350.t1.1'],\n",
    "    # Sterol Pathway\n",
    "    'SS': ['Cre03.g175250.t1.2', 'Cre03.g175250.t2.1'],\n",
    "    'SMO': ['Cre17.g734644.t1.1'],\n",
    "    'ERG5': ['ERG5'],\n",
    "    'ERG3': ['ERG3'],\n",
    "    'ERG': ['ERG4'],\n",
    "    # Overexpressions\n",
    "    'ALT_PSPPS2': ['SQS2'],\n",
    "    'ALT_SQS2': ['SQS2'],\n",
    "    'ALT_SQE2': ['SQE2'],\n",
    "}\n",
    "\n",
    "gene_uniprot = {\n",
    "    # MVA Pathway\n",
    "    'MVAS': 'Q9FD71', # https://www.uniprot.org/uniprotkb/Q9FD71/entry\n",
    "    'MVAE': 'Q9FD65', # https://www.uniprot.org/uniprotkb/Q9FD65/publications\n",
    "    'MVK': '',\n",
    "    'PMK': '',\n",
    "    'MVAD': '',\n",
    "    'IDLI': '',\n",
    "    # MEP Pathway\n",
    "    'Cre07.g356350.t1.1': 'O81954', # https://www.uniprot.org/uniprotkb/O81954/entry\n",
    "    'Cre02.g145050.t1.2': 'O81014', # https://www.uniprot.org/uniprotkb/O81014/entry (assumes CMK/ISPE of Arabidopsis thaliana)\n",
    "    'Cre16.g679669.t1.1': '',\n",
    "    'Cre12.g490350.t1.1': '',\n",
    "    # Sterol Pathway\n",
    "    'Cre03.g175250.t1.2': 'B4DWP0', # https://www.uniprot.org/uniprotkb/B4DWP0/entry (assumes sqs of homo sapiens)\n",
    "    'Cre03.g175250.t2.1': 'B4DWP0', # ... (likewise)\n",
    "    'Cre17.g734644.t1.1': 'P52020', # https://www.uniprot.org/uniprotkb/P52020/publications (assumes sqe of rattus norvegicus)\n",
    "    # 'ERG3': '',\n",
    "    # 'ERG5': '',\n",
    "    # 'ERG4': '',\n",
    "    # Overexpressions (these will be storing an object with different gene id for strains)\n",
    "    'SQS2': {},\n",
    "    'SQE2': {},\n",
    "}"
   ]
  },
  {
   "cell_type": "markdown",
   "id": "8deedd18",
   "metadata": {},
   "source": [
    "The following script rebuilds the model gene associations where the above stated gene ids are replaced with the uniprot equivalent:"
   ]
  },
  {
   "cell_type": "code",
   "execution_count": null,
   "id": "a4c179d3",
   "metadata": {},
   "outputs": [
    {
     "ename": "AttributeError",
     "evalue": "property 'genes' of 'Reaction' object has no setter",
     "output_type": "error",
     "traceback": [
      "\u001b[31m---------------------------------------------------------------------------\u001b[39m",
      "\u001b[31mAttributeError\u001b[39m                            Traceback (most recent call last)",
      "\u001b[36mCell\u001b[39m\u001b[36m \u001b[39m\u001b[32mIn[11]\u001b[39m\u001b[32m, line 48\u001b[39m\n\u001b[32m     44\u001b[39m         new_model.genes.remove(g)\n\u001b[32m     47\u001b[39m \u001b[38;5;66;03m# Models updated with UniProt IDs\u001b[39;00m\n\u001b[32m---> \u001b[39m\u001b[32m48\u001b[39m updated_models = {k: \u001b[43mrebuild_model\u001b[49m\u001b[43m(\u001b[49m\u001b[43mv\u001b[49m\u001b[43m)\u001b[49m \u001b[38;5;28;01mfor\u001b[39;00m k, v \u001b[38;5;129;01min\u001b[39;00m models.items()}\n",
      "\u001b[36mCell\u001b[39m\u001b[36m \u001b[39m\u001b[32mIn[11]\u001b[39m\u001b[32m, line 29\u001b[39m, in \u001b[36mrebuild_model\u001b[39m\u001b[34m(m)\u001b[39m\n\u001b[32m     25\u001b[39m new_model.genes.append(new_gene)\n\u001b[32m     26\u001b[39m \u001b[38;5;66;03m# new_model.genes.remove(old_gene)\u001b[39;00m\n\u001b[32m     27\u001b[39m \n\u001b[32m     28\u001b[39m \u001b[38;5;66;03m# Replace genes in reaction\u001b[39;00m\n\u001b[32m---> \u001b[39m\u001b[32m29\u001b[39m \u001b[43mrxn\u001b[49m\u001b[43m.\u001b[49m\u001b[43mgenes\u001b[49m = \u001b[38;5;28mfrozenset\u001b[39m({new_gene})\n\u001b[32m     30\u001b[39m rxn.gene_reaction_rule = new_gene.id\n\u001b[32m     31\u001b[39m rxn.gene_name_reaction_rule = new_gene.name\n",
      "\u001b[31mAttributeError\u001b[39m: property 'genes' of 'Reaction' object has no setter"
     ]
    }
   ],
   "source": [
    "def rebuild_model(m: Model) -> Model:\n",
    "\n",
    "    new_model: Model = m.copy()\n",
    "    \n",
    "    # Go through each reaction\n",
    "    for rxn in new_model.reactions:\n",
    "        # If the reaction not in reac_gene, ignore\n",
    "        if rxn.id not in reac_gene.keys(): continue\n",
    "\n",
    "        # Incorporoate strain information\n",
    "        if rxn.id in ['SQS2', 'SQE2']:\n",
    "            # strain info here\n",
    "            continue\n",
    "        \n",
    "        old_g_name = reac_gene[rxn.id][0]\n",
    "        # Copy first gene (assume each rxn is one gene)\n",
    "        _iter = iter(rxn.genes)\n",
    "        old_gene: Gene = next(_iter)\n",
    "\n",
    "        # Make new gene with the id replaced\n",
    "        new_gene: Gene = old_gene.copy()\n",
    "        new_gene.id = gene_uniprot[old_g_name]\n",
    "\n",
    "        # Replace genes in model\n",
    "        new_model.genes.append(new_gene)\n",
    "        # new_model.genes.remove(old_gene)\n",
    "\n",
    "        # Replace genes in reaction\n",
    "        rxn.genes = frozenset({new_gene}) # Apparently this doesn't work in updating genes\n",
    "        rxn.gene_reaction_rule = new_gene.id\n",
    "        rxn.gene_name_reaction_rule = new_gene.name\n",
    "        new_gpr: GPR = GPR(rxn.gene_reaction_rule)\n",
    "        new_gpr.update_genes()\n",
    "        rxn.gpr = new_gpr\n",
    "\n",
    "    # Flush all hanging genes\n",
    "    used = set()\n",
    "    for r in new_model.reactions:\n",
    "        genes = set[r.genes]\n",
    "        used.update(genes)\n",
    "    \n",
    "    hangs = set(new_model.genes) - used\n",
    "    for g in hangs:\n",
    "        new_model.genes.remove(g)\n",
    "    \n",
    "\n",
    "# Models updated with UniProt IDs\n",
    "updated_models = {k: rebuild_model(v) for k, v in models.items()}"
   ]
  },
  {
   "cell_type": "markdown",
   "id": "4a278c46",
   "metadata": {},
   "source": [
    "### Build GECKO Model"
   ]
  },
  {
   "cell_type": "code",
   "execution_count": null,
   "id": "9465dc0a",
   "metadata": {},
   "outputs": [],
   "source": []
  },
  {
   "cell_type": "markdown",
   "id": "d1ecac32",
   "metadata": {},
   "source": [
    "### Gap-fill Missing Kcat"
   ]
  },
  {
   "cell_type": "code",
   "execution_count": null,
   "id": "a7cc7a97",
   "metadata": {},
   "outputs": [],
   "source": []
  },
  {
   "cell_type": "markdown",
   "id": "5b1f28b0",
   "metadata": {},
   "source": [
    "### FBA"
   ]
  },
  {
   "cell_type": "code",
   "execution_count": null,
   "id": "5a95ba1b",
   "metadata": {},
   "outputs": [],
   "source": []
  }
 ],
 "metadata": {
  "kernelspec": {
   "display_name": "venv",
   "language": "python",
   "name": "python3"
  },
  "language_info": {
   "codemirror_mode": {
    "name": "ipython",
    "version": 3
   },
   "file_extension": ".py",
   "mimetype": "text/x-python",
   "name": "python",
   "nbconvert_exporter": "python",
   "pygments_lexer": "ipython3",
   "version": "3.12.10"
  }
 },
 "nbformat": 4,
 "nbformat_minor": 5
}
