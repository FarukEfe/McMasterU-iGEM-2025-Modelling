{
 "cells": [
  {
   "cell_type": "markdown",
   "id": "8c1b7cd5",
   "metadata": {},
   "source": [
    "### Setup"
   ]
  },
  {
   "cell_type": "code",
   "execution_count": null,
   "id": "bb86e06c",
   "metadata": {},
   "outputs": [],
   "source": [
    "import os, sys\n",
    "sys.path.append('..')\n",
    "\n",
    "from cobra import io\n",
    "import geckopy as gp\n",
    "\n",
    "# Load models\n",
    "\n",
    "# Load wildtype from manual directory (adjust path for notebooks directory)\n",
    "# Use io.read_sbml_model for local files instead of io.load_model\n",
    "wildtype = io.read_sbml_model('../data/fill/xmls/MNL_iCre1355_auto_GAPFILL.xml')\n",
    "\n",
    "models = {\n",
    "    \"Wildtype\": wildtype\n",
    "}\n",
    "\n",
    "# Get altered reactions of wildtype - using correct directory name\n",
    "altered_dir = '../data/altered/xmls/MNL_iCre1355_auto_GAPFILL/'\n",
    "\n",
    "for root, dirs, files in os.walk(altered_dir):\n",
    "\n",
    "    # Exclude the /h directory from search\n",
    "    if root.endswith('/h'):\n",
    "        continue\n",
    "\n",
    "    for file in files:\n",
    "        if file.endswith('.xml'):\n",
    "            # Get file name and remove .xml extension\n",
    "            model_name = file[:-4]\n",
    "            full_path = os.path.join(root, file)\n",
    "            print(f\"Loading model: {model_name} from {full_path}\")\n",
    "            models[model_name] = io.read_sbml_model(full_path)"
   ]
  },
  {
   "cell_type": "markdown",
   "id": "5ca2f435",
   "metadata": {},
   "source": [
    "### Uniprot Gene IDs"
   ]
  },
  {
   "cell_type": "code",
   "execution_count": null,
   "id": "9f53a94e",
   "metadata": {},
   "outputs": [],
   "source": [
    "\"\"\"\n",
    "The following reactions need to have gene associations updated to UniProt IDs for GECKO Kcat values:\n",
    "    - ALT_MVAS, ALT_MVAD, ALT_MVAE, ALT_MVD, ALT_MVK, ALT_PMK, ALT_IDLI (MVA pathway)\n",
    "    - SS, SMO, ERG5, ERG3, ERG (Sterol pathway)\n",
    "    - ALT_PSPPS2, ALT_SQS2, ALT_SQE2 (Overexpressions)\n",
    "    - DXS, CMK, CMS, HDS (MEP pathway)\n",
    "    - Additional SQS, SQE strains with their kcat values\n",
    "\n",
    "Concepts to keep in mind:\n",
    "    - One gene may regulate multiple reactions\n",
    "    - One reaction may be regulated by the conjunction or disjunction of multiple genes\n",
    "\"\"\"\n",
    "reac_gene = {\n",
    "    # MVA Pathway -- Note: what strain are we using for MVA?\n",
    "    'ALT_MVAS': ['MVAS'],\n",
    "    'ALT_MVAD': ['MVAD'],\n",
    "    'ALT_MVAE': ['MVAE'],\n",
    "    'ALT_MVK': ['MVK'],\n",
    "    'ALT_PMK': ['PMK'],\n",
    "    'ALT_IDLI': ['IDLI'],\n",
    "    # MEP Pathway\n",
    "    'DXS': ['Cre07.g356350.t1.1'],\n",
    "    'CMK': ['Cre02.g145050.t1.2'],\n",
    "    'CMS': ['Cre16.g679669.t1.1'],\n",
    "    'HDS': ['Cre12.g490350.t1.1'],\n",
    "    # Sterol Pathway\n",
    "    'SS': ['Cre03.g175250.t1.2', 'Cre03.g175250.t2.1'],\n",
    "    'SMO': ['Cre17.g734644.t1.1'],\n",
    "    'ERG5': ['ERG5'],\n",
    "    'ERG3': ['ERG3'],\n",
    "    'ERG': ['ERG4'],\n",
    "    # Overexpressions\n",
    "    'ALT_PSPPS2': ['SQS2'],\n",
    "    'ALT_SQS2': ['SQS2'],\n",
    "    'ALT_SQE2': ['SQE2'],\n",
    "}\n",
    "\n",
    "gene_uniprot = {\n",
    "    # MVA Pathway\n",
    "    'MVAS': 'Q9FD71', # https://www.uniprot.org/uniprotkb/Q9FD71/entry\n",
    "    'MVAE': 'Q9FD65', # https://www.uniprot.org/uniprotkb/Q9FD65/publications\n",
    "    'MVK': '',\n",
    "    'PMK': '',\n",
    "    'MVAD': '',\n",
    "    'IDLI': '',\n",
    "    # MEP Pathway\n",
    "    'Cre07.g356350.t1.1': 'O81954', # https://www.uniprot.org/uniprotkb/O81954/entry\n",
    "    'Cre02.g145050.t1.2': 'O81014', # https://www.uniprot.org/uniprotkb/O81014/entry (assumes CMK/ISPE of Arabidopsis thaliana)\n",
    "    'Cre16.g679669.t1.1': '',\n",
    "    'Cre12.g490350.t1.1': '',\n",
    "    # Sterol Pathway\n",
    "    'Cre03.g175250.t1.2': 'B4DWP0', # https://www.uniprot.org/uniprotkb/B4DWP0/entry (assumes sqs of homo sapiens)\n",
    "    'Cre03.g175250.t2.1': 'B4DWP0', # ... (likewise)\n",
    "    'Cre17.g734644.t1.1': 'P52020', # https://www.uniprot.org/uniprotkb/P52020/publications (assumes sqe of rattus norvegicus)\n",
    "    # 'ERG3': '',\n",
    "    # 'ERG5': '',\n",
    "    # 'ERG4': '',\n",
    "    # Overexpressions (these will be storing an object with different gene id for strains)\n",
    "    'SQS2': {},\n",
    "    'SQE2': {},\n",
    "}"
   ]
  },
  {
   "cell_type": "markdown",
   "id": "8deedd18",
   "metadata": {},
   "source": [
    "The following script rebuilds the model gene associations where the above stated gene ids are replaced with the uniprot equivalent:"
   ]
  },
  {
   "cell_type": "markdown",
   "id": "4a278c46",
   "metadata": {},
   "source": [
    "### Build GECKO Model"
   ]
  },
  {
   "cell_type": "code",
   "execution_count": null,
   "id": "9465dc0a",
   "metadata": {},
   "outputs": [],
   "source": []
  },
  {
   "cell_type": "markdown",
   "id": "d1ecac32",
   "metadata": {},
   "source": [
    "### Gap-fill Missing Kcat"
   ]
  },
  {
   "cell_type": "code",
   "execution_count": null,
   "id": "a7cc7a97",
   "metadata": {},
   "outputs": [],
   "source": []
  },
  {
   "cell_type": "markdown",
   "id": "5b1f28b0",
   "metadata": {},
   "source": [
    "### FBA"
   ]
  },
  {
   "cell_type": "code",
   "execution_count": null,
   "id": "5a95ba1b",
   "metadata": {},
   "outputs": [],
   "source": []
  }
 ],
 "metadata": {
  "language_info": {
   "name": "python"
  }
 },
 "nbformat": 4,
 "nbformat_minor": 5
}
