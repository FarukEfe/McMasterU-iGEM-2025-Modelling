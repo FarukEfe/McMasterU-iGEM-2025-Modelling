{
 "cells": [
  {
   "cell_type": "markdown",
   "id": "24b6a905",
   "metadata": {},
   "source": [
    "# Epsilon Constraint Method\n",
    "\n",
    "### Setup"
   ]
  },
  {
   "cell_type": "code",
   "execution_count": 1,
   "id": "1ce246e6",
   "metadata": {},
   "outputs": [],
   "source": [
    "import os, sys\n",
    "sys.path.append('..')\n",
    "\n",
    "import warnings\n",
    "warnings.filterwarnings('ignore', category=UserWarning, module='cobra')\n",
    "\n",
    "from cobra import io, Model, Solution\n",
    "from scripts.helpers.model import rxn_in_model, add_single_gene_reaction_pair\n",
    "from scripts.opt._fba import flux_balance_analysis\n",
    "from scripts.opt._fva import run_flux_variability_analysis\n",
    "\n",
    "import os, numpy as np, pandas as pd\n",
    "\n",
    "BIOMASS = \"Biomass_Chlamy_auto\"\n",
    "ERGEXCH = \"ERGOSTEROLEXCH\"\n",
    "CO2_EX  = \"EX_co2_e\"\n",
    "\n",
    "ERG = \"ergosterol_c\""
   ]
  },
  {
   "cell_type": "code",
   "execution_count": 2,
   "id": "fbf1b5b8",
   "metadata": {},
   "outputs": [
    {
     "name": "stderr",
     "output_type": "stream",
     "text": [
      "No objective coefficients in model. Unclear what should be optimized\n"
     ]
    },
    {
     "name": "stdout",
     "output_type": "stream",
     "text": [
      "Loading model: SQE+MVA from ../data/altered/xmls/MNL_iCre1355_auto_GAPFILL/SQE+MVA.xml\n"
     ]
    },
    {
     "name": "stderr",
     "output_type": "stream",
     "text": [
      "No objective coefficients in model. Unclear what should be optimized\n"
     ]
    },
    {
     "name": "stdout",
     "output_type": "stream",
     "text": [
      "Loading model: SQE from ../data/altered/xmls/MNL_iCre1355_auto_GAPFILL/SQE.xml\n"
     ]
    },
    {
     "name": "stderr",
     "output_type": "stream",
     "text": [
      "No objective coefficients in model. Unclear what should be optimized\n"
     ]
    },
    {
     "name": "stdout",
     "output_type": "stream",
     "text": [
      "Loading model: SQS+MVA from ../data/altered/xmls/MNL_iCre1355_auto_GAPFILL/SQS+MVA.xml\n"
     ]
    },
    {
     "name": "stderr",
     "output_type": "stream",
     "text": [
      "No objective coefficients in model. Unclear what should be optimized\n"
     ]
    },
    {
     "name": "stdout",
     "output_type": "stream",
     "text": [
      "Loading model: SQS+SQE+MVA from ../data/altered/xmls/MNL_iCre1355_auto_GAPFILL/SQS+SQE+MVA.xml\n"
     ]
    },
    {
     "name": "stderr",
     "output_type": "stream",
     "text": [
      "No objective coefficients in model. Unclear what should be optimized\n"
     ]
    },
    {
     "name": "stdout",
     "output_type": "stream",
     "text": [
      "Loading model: SQS+SQE from ../data/altered/xmls/MNL_iCre1355_auto_GAPFILL/SQS+SQE.xml\n"
     ]
    },
    {
     "name": "stderr",
     "output_type": "stream",
     "text": [
      "No objective coefficients in model. Unclear what should be optimized\n"
     ]
    },
    {
     "name": "stdout",
     "output_type": "stream",
     "text": [
      "Loading model: SQS from ../data/altered/xmls/MNL_iCre1355_auto_GAPFILL/SQS.xml\n"
     ]
    },
    {
     "name": "stderr",
     "output_type": "stream",
     "text": [
      "No objective coefficients in model. Unclear what should be optimized\n"
     ]
    },
    {
     "name": "stdout",
     "output_type": "stream",
     "text": [
      "Loading model: SQE+MVA from ../data/altered/xmls/MNL_iCre1355_auto_GAPFILL/h\\SQE+MVA.xml\n"
     ]
    },
    {
     "name": "stderr",
     "output_type": "stream",
     "text": [
      "No objective coefficients in model. Unclear what should be optimized\n"
     ]
    },
    {
     "name": "stdout",
     "output_type": "stream",
     "text": [
      "Loading model: SQE from ../data/altered/xmls/MNL_iCre1355_auto_GAPFILL/h\\SQE.xml\n"
     ]
    },
    {
     "name": "stderr",
     "output_type": "stream",
     "text": [
      "No objective coefficients in model. Unclear what should be optimized\n"
     ]
    },
    {
     "name": "stdout",
     "output_type": "stream",
     "text": [
      "Loading model: SQS+MVA from ../data/altered/xmls/MNL_iCre1355_auto_GAPFILL/h\\SQS+MVA.xml\n"
     ]
    },
    {
     "name": "stderr",
     "output_type": "stream",
     "text": [
      "No objective coefficients in model. Unclear what should be optimized\n"
     ]
    },
    {
     "name": "stdout",
     "output_type": "stream",
     "text": [
      "Loading model: SQS+SQE+MVA from ../data/altered/xmls/MNL_iCre1355_auto_GAPFILL/h\\SQS+SQE+MVA.xml\n"
     ]
    },
    {
     "name": "stderr",
     "output_type": "stream",
     "text": [
      "No objective coefficients in model. Unclear what should be optimized\n"
     ]
    },
    {
     "name": "stdout",
     "output_type": "stream",
     "text": [
      "Loading model: SQS+SQE from ../data/altered/xmls/MNL_iCre1355_auto_GAPFILL/h\\SQS+SQE.xml\n"
     ]
    },
    {
     "name": "stderr",
     "output_type": "stream",
     "text": [
      "No objective coefficients in model. Unclear what should be optimized\n"
     ]
    },
    {
     "name": "stdout",
     "output_type": "stream",
     "text": [
      "Loading model: SQS from ../data/altered/xmls/MNL_iCre1355_auto_GAPFILL/h\\SQS.xml\n"
     ]
    },
    {
     "name": "stderr",
     "output_type": "stream",
     "text": [
      "No objective coefficients in model. Unclear what should be optimized\n"
     ]
    }
   ],
   "source": [
    "# Load models\n",
    "\n",
    "# Load wildtype from manual directory (adjust path for notebooks directory)\n",
    "# Use io.read_sbml_model for local files instead of io.load_model\n",
    "wildtype = io.read_sbml_model('../data/fill/xmls/MNL_iCre1355_auto_GAPFILL.xml')\n",
    "\n",
    "models = {\n",
    "    \"Wildtype\": wildtype\n",
    "}\n",
    "\n",
    "# Get altered reactions of wildtype - using correct directory name\n",
    "altered_dir = '../data/altered/xmls/MNL_iCre1355_auto_GAPFILL/'\n",
    "\n",
    "for root, dirs, files in os.walk(altered_dir):\n",
    "    for file in files:\n",
    "        if file.endswith('.xml'):\n",
    "            # Get file name and remove .xml extension\n",
    "            model_name = file[:-4]\n",
    "            full_path = os.path.join(root, file)\n",
    "            print(f\"Loading model: {model_name} from {full_path}\")\n",
    "            models[model_name] = io.read_sbml_model(full_path)\n",
    "\n",
    "for name in models.keys():\n",
    "    model = models[name]\n",
    "\n",
    "    # Add export reaction\n",
    "    \n",
    "    if not rxn_in_model(model, ERGEXCH):\n",
    "        add_single_gene_reaction_pair(\n",
    "            model=model, \n",
    "            gene_id=\"EXCHERG_GENE\",\n",
    "            reaction_id=ERGEXCH,\n",
    "            reaction_name=\"Ergosterol exchange (assumption)\", \n",
    "            reaction_subsystem=\"Exchange\", \n",
    "            metabolites=[(-1, ERG)],\n",
    "            reversible=True\n",
    "        )\n"
   ]
  },
  {
   "cell_type": "code",
   "execution_count": 3,
   "id": "1649e360",
   "metadata": {},
   "outputs": [],
   "source": [
    "CO2_CAP = 10.0   # i tested it out. 10 is max (i.e. 80.0 has same results as 10.0)\n",
    "\n",
    "# Set constraints on CO2 Exchange\n",
    "def set_co2_cap(m, cap):\n",
    "    r = m.reactions.get_by_id(CO2_EX)\n",
    "    r.lower_bound = -float(cap)\n",
    "    return r.lower_bound, r.upper_bound\n",
    "\n",
    "# Epsilon constraint method\n",
    "def epsilon_front(m, n=20):\n",
    "    m = m.copy()\n",
    "    pts = [] # of shape b, e, c\n",
    "\n",
    "    with m:\n",
    "        sb = flux_balance_analysis(m, objectives=[BIOMASS], is_pfba=True)\n",
    "        if sb.status != \"optimal\":\n",
    "            return np.zeros((0,3))\n",
    "        bmax = float(sb.fluxes.get(BIOMASS, 0.0))\n",
    "\n",
    "    for eps in np.linspace(0, bmax, n):\n",
    "        with m:\n",
    "            biom = m.reactions.get_by_id(BIOMASS)\n",
    "            biom.lower_bound = max(biom.lower_bound, eps)\n",
    "            m.objective = m.reactions.get_by_id(ERGEXCH)\n",
    "            se = flux_balance_analysis(m, objectives=[ERGEXCH], is_pfba=True)\n",
    "\n",
    "            b = float(se.fluxes.get(BIOMASS, 0.0))\n",
    "            e = float(se.fluxes.get(ERGEXCH, 0.0))\n",
    "            c = float(se.fluxes.get(CO2_EX, 0.0)) if rxn_in_model(m, CO2_EX) else np.nan\n",
    "            pts.append((b, e, c))\n",
    "\n",
    "    return np.array(pts)"
   ]
  },
  {
   "cell_type": "code",
   "execution_count": 4,
   "id": "6c5a4e2c",
   "metadata": {},
   "outputs": [
    {
     "name": "stdout",
     "output_type": "stream",
     "text": [
      "Saved CSVs to: ../results/variant_compare_eps\n"
     ]
    }
   ],
   "source": [
    "all_fronts = []\n",
    "summary_rows = []\n",
    "\n",
    "for name in models.keys():\n",
    "    base = models[name].copy()\n",
    "    lb, ub = set_co2_cap(base, CO2_CAP)\n",
    "\n",
    "    pts = epsilon_front(base, n=41)\n",
    "\n",
    "    df = pd.DataFrame(pts, columns=[\"biomass\",\"erg\",\"co2\"])\n",
    "    df[\"variant\"] = name\n",
    "    df[\"CO2_cap\"] = CO2_CAP\n",
    "    df[\"ERG_per_CO2\"] = df[\"erg\"] / (df[\"co2\"].abs().replace(0, np.nan))\n",
    "    all_fronts.append(df)\n",
    "\n",
    "    bmax = df[\"biomass\"].max()\n",
    "    near_zero = df.iloc[(df[\"biomass\"]).abs().argsort()[:1]].iloc[0]\n",
    "\n",
    "    summary_rows.append({\n",
    "        \"variant\": name,\n",
    "        \"bmax\": bmax,\n",
    "        \"erg_at_b0\": float(near_zero[\"erg\"]),\n",
    "        \"yield_at_b0\": float(near_zero[\"ERG_per_CO2\"]),\n",
    "    })\n",
    "\n",
    "fronts = pd.concat(all_fronts, ignore_index=True)\n",
    "summary = pd.DataFrame(summary_rows).sort_values([\"erg_at_b0\",\"yield_at_b0\",\"bmax\"], ascending=False)\n",
    "\n",
    "# saves\n",
    "outdir = \"../results/variant_compare_eps\"\n",
    "os.makedirs(outdir, exist_ok=True)\n",
    "fronts.to_csv(os.path.join(outdir, \"fronts_all_variants.csv\"), index=False)\n",
    "summary.to_csv(os.path.join(outdir, \"summary_metrics.csv\"), index=False)\n",
    "print(f\"Saved CSVs to: {outdir}\")"
   ]
  },
  {
   "cell_type": "code",
   "execution_count": 6,
   "id": "76b2dd7c",
   "metadata": {},
   "outputs": [
    {
     "data": {
      "application/vnd.plotly.v1+json": {
       "config": {
        "plotlyServerURL": "https://plot.ly"
       },
       "data": [
        {
         "mode": "lines+markers",
         "name": "SQS+SQE",
         "type": "scatter",
         "x": {
          "bdata": "AAAAAAAAAADj8IZ5UshqP+PwhnlSyHo/qjQl2z0WhD/j8IZ5UsiKP45W9IszvZA/qjQl2z0WlD/HElYqSG+XP+PwhnlSyJo//863yFwhnj+OVvSLM72gP5zFjLO4aaI/qjQl2z0WpD+4o70Cw8KlP8cSVipIb6c/1YHuUc0bqT/j8IZ5UsiqP/FfH6HXdKw//863yFwhrj8OPlDw4c2vP45W9IszvbA/FY7AH3aTsT+cxYyzuGmyPyP9WEf7P7M/qjQl2z0WtD8xbPFugOy0P7ijvQLDwrU/QNuJlgWZtj/HElYqSG+3P05KIr6KRbg/1YHuUc0buT9cubrlD/K5P+PwhnlSyLo/aihTDZWeuz/xXx+h13S8P3iX6zQaS70//863yFwhvj+GBoRcn/e+Pw4+UPDhzb8/yjoOQhJSwD+OVvSLM73APw==",
          "dtype": "f8"
         },
         "y": {
          "bdata": "HGiiNQcByj/ayl9dPJLJP14uHYVxI8k/iZHarKa0yD+WQLabVUPIP3fyHqXJ0cc/FDS+gT1gxz+j/a+Dse7GP/TGoYUlfcY/fpSiaJkLxj9E1owgCZjFP7UOYR8zJMU/uKzXaV2wxD+nt+kaLjfEPy5EwI+9uMM/yNCWBE06wz+VXG153LvCP3/oQ+5rPcI/C5FnR9++wT+m1vejrTrBP09SeVB8tsA/0c36/EoywD84hyzLvju/P2tXFJdh870/oVl6ymZqvD99tNJdwKO6PwEOK/EZ3bg/uWeDhHMWtz+TwNsXzU+1P4IaNKsmibM/UXOMPoDCsT+omsmjs/evP4pVespmaqw/ogQr8RndqD8DvNsXzU+lP4ltjD6AwqE/1Tx6ymZqnD+0sdsXzU+VP/Akespmaow/s/h5ymZqfD/vUQqpurDAPA==",
          "dtype": "f8"
         }
        },
        {
         "mode": "lines+markers",
         "name": "SQS+SQE+MVA",
         "type": "scatter",
         "x": {
          "bdata": "AAAAAAAAAAAW7oZ5UshqPxbuhnlSyHo/kDIl2z0WhD8W7oZ5UsiKP85U9IszvZA/kDIl2z0WlD9TEFYqSG+XPxbuhnlSyJo/2cu3yFwhnj/OVPSLM72gP6/DjLO4aaI/kDIl2z0WpD9yob0Cw8KlP1MQVipIb6c/NX/uUc0bqT8W7oZ5UsiqP/dcH6HXdKw/2cu3yFwhrj+6OlDw4c2vP85U9IszvbA/PozAH3aTsT+vw4yzuGmyPyD7WEf7P7M/kDIl2z0WtD8BavFugOy0P3KhvQLDwrU/49iJlgWZtj9TEFYqSG+3P8RHIr6KRbg/NX/uUc0buT+ltrrlD/K5PxbuhnlSyLo/hyVTDZWeuz/3XB+h13S8P2iU6zQaS70/2cu3yFwhvj9JA4Rcn/e+P7o6UPDhzb8/FTkOQhJSwD/OVPSLM73APw==",
          "dtype": "f8"
         },
         "y": {
          "bdata": "s2eiNQcByj8Xy19dPJLJP5EuHYVxI8k/35farKa0yD8UMhpwVUPIPxtqzH/J0cc/G40dbT1gxz+oOp9rse7GP3zmIGolfcY/ypCTh5kLxj+M1owgCZjFPzlEMkUzJMU/wKzXaV2wxD9ztukaLjfEP8pEwI+9uMM/sNKWBE06wz8nXW153LvCP8XlQ+5rPcI/+JFnR9++wT+g1/ejrTrBP7lTeVB8tsA/qs76/EoywD8JiyzLvju/P8RZFJdh870/Ol56ymZqvD8Wt9JdwKO6P4cRK/EZ3bg/PGuDhHMWtz9oxdsXzU+1P5UhNKsmibM/c3iMPoDCsT8fp8mjs/evP/Jfespmaqw/8xQr8RndqD8gytsXzU+lPz95jD6AwqE/5lZ6ymZqnD/oxtsXzU+VP5ldespmaow/nUd6ymZqfD+jWWd5dhf4PA==",
          "dtype": "f8"
         }
        },
        {
         "mode": "lines+markers",
         "name": "SQE+MVA",
         "type": "scatter",
         "x": {
          "bdata": "AAAAAAAAAABz84Z5UshqP3PzhnlSyHo/ljYl2z0WhD9z84Z5UsiKPyhY9IszvZA/ljYl2z0WlD8FFVYqSG+XP3PzhnlSyJo/4dG3yFwhnj8oWPSLM72gP1/HjLO4aaI/ljYl2z0WpD/Npb0Cw8KlPwUVVipIb6c/PITuUc0bqT9z84Z5UsiqP6piH6HXdKw/4dG3yFwhrj8ZQVDw4c2vPyhY9IszvbA/w4/AH3aTsT9fx4yzuGmyP/v+WEf7P7M/ljYl2z0WtD8ybvFugOy0P82lvQLDwrU/ad2JlgWZtj8FFVYqSG+3P6BMIr6KRbg/PITuUc0buT/Xu7rlD/K5P3PzhnlSyLo/DytTDZWeuz+qYh+h13S8P0aa6zQaS70/4dG3yFwhvj99CYRcn/e+PxlBUPDhzb8/WjwOQhJSwD8oWPSLM73APw==",
          "dtype": "f8"
         },
         "y": {
          "bdata": "rmeiNQcByj/Py19dPJLJPz0uHYVxI8k/NpHarKa0yD/en9p9VUPIP/VpzH/J0cc/1YwdbT1gxz9wN59rse7GPyjoIGolfcY/H5CTh5kLxj+d1YwgCZjFP2dAMkUzJMU/qKvXaV2wxD9Dt+kaLjfEPw1DwI+9uMM/6M+WBE06wz9jXG153LvCP/vnQ+5rPcI/D5BnR9++wT9N1fejrTrBP9tReVB8tsA/qMz6/EoywD/NhizLvju/P4NUFJdh870/uFZ6ymZqvD9AstJdwKO6P+YIK/EZ3bg/rmODhHMWtz/EtdsXzU+1P68VNKsmibM/m2+MPoDCsT/Mkcmjs/evPwJFespmaqw/ffsq8RndqD+Mr9sXzU+lP4NkjD6AwqE/sSZ6ymZqnD+UkNsXzU+VP7nnecpmaow/FX55ymZqfD/f7a+OnMLVvA==",
          "dtype": "f8"
         }
        },
        {
         "mode": "lines+markers",
         "name": "SQE",
         "type": "scatter",
         "x": {
          "bdata": "AAAAAAAAAAA+7YZ5UshqPz7thnlSyHo/7jEl2z0WhD8+7YZ5UsiKP0dU9IszvZA/7jEl2z0WlD+WD1YqSG+XPz7thnlSyJo/5sq3yFwhnj9HVPSLM72gPxvDjLO4aaI/7jEl2z0WpD/CoL0Cw8KlP5YPVipIb6c/an7uUc0bqT8+7YZ5UsiqPxJcH6HXdKw/5sq3yFwhrj+6OVDw4c2vP0dU9IszvbA/sYvAH3aTsT8bw4yzuGmyP4X6WEf7P7M/7jEl2z0WtD9YafFugOy0P8KgvQLDwrU/LNiJlgWZtj+WD1YqSG+3PwBHIr6KRbg/an7uUc0buT/UtbrlD/K5Pz7thnlSyLo/qCRTDZWeuz8SXB+h13S8P3yT6zQaS70/5sq3yFwhvj9QAoRcn/e+P7o5UPDhzb8/kjgOQhJSwD9HVPSLM73APw==",
          "dtype": "f8"
         },
         "y": {
          "bdata": "mGeiNQcByj/1yl9dPJLJP2ouHYVxI8k//pHarKa0yD/3oNp9VUPIP3DyHqXJ0cc/GjS+gT1gxz+t/a+Dse7GP+jGoYUlfcY/C5GTh5kLxj+H14wgCZjFPxxCMkUzJMU/Sq3XaV2wxD+huOkaLjfEPxdFwI+9uMM/UtGWBE06wz9+XW153LvCP1/pQ+5rPcI/t5JnR9++wT/61/ejrTrBP3JTeVB8tsA/zM/6/EoywD+UjSzLvju/P2JbFJdh870/1V96ymZqvD8EudJdwKO6PyATK/EZ3bg/smuDhHMWtz/Zx9sXzU+1Pw4iNKsmibM/2XuMPoDCsT+7pMmjs/evP8hiespmaqw/rhYr8RndqD/YxtsXzU+lP+58jD6AwqE/uGl6ymZqnD961dsXzU+VP3pxespmaow/Hn56ymZqfD+92RrZoVnJvA==",
          "dtype": "f8"
         }
        },
        {
         "mode": "lines+markers",
         "name": "SQS+MVA",
         "type": "scatter",
         "x": {
          "bdata": "ndvsl8MHAT19+4YEX8dqP337hgRfx3o/njxlQ4cVhD99+4YEX8eKPy5d1GKbvJA/njxlQ4cVlD8NHPYjc26XP337hgRfx5o/7doX5Uognj8uXdRim7ygP+bMHFMRaaI/njxlQ4cVpD9WrK0z/cGlPw0c9iNzbqc/xYs+FOkaqT99+4YEX8eqPzVrz/TUc6w/7doX5Uogrj+kSmDVwMyvPy5d1GKbvLA/CpX4WtaSsT/mzBxTEWmyP8IEQUtMP7M/njxlQ4cVtD96dIk7wuu0P1asrTP9wbU/MeTRKziYtj8NHPYjc263P+lTGhyuRLg/xYs+FOkauT+hw2IMJPG5P337hgRfx7o/WTOr/Jmduz81a8/01HO8PxGj8+wPSr0/7doX5Uogvj/JEjzdhfa+P6RKYNXAzL8/QEHC5n1RwD8uXdRim7zAPw==",
          "dtype": "f8"
         },
         "y": {
          "bdata": "+6x1GTD4wT9KAPkse6fBP55SfEDGVsE/pqr/UxEGwT9+26Scx7LAP6HIO18wTcA/cm6lQzLPvz8CRtPIAwS/P4bd6S3VOL4/h/8u06ZtvT/Jaq2MhZ+8P64v51r90Ls/NgNhgXUCuz/s+JRH7TO6Pzng6z1lZbk/qcBCNN2WuD8ZpJkqVci3PzWL8CDN+bY/DG1HF0Urtj//U54NvVy1PyQ39QM1jrQ/ixJM+qy/sz/V+aLwJPGyP9jk+eacIrI/eF9gRQkisT+RWAqx6A+wPzWnaDmQ+60/uJe8EE/Xqz9jjBDoDbOpP39/ZL/Mjqc/t4m4lotqpT/PawxuSkajPx9hYEUJIqE/kqBoOZD7nT/mkRDoDbOZPwN0uJaLapU/p19gRQkikT+wexDoDbOJP+lbYEUJIoE/vhJhRQkicT+yGo1u0LXAvA==",
          "dtype": "f8"
         }
        },
        {
         "mode": "lines+markers",
         "name": "SQS",
         "type": "scatter",
         "x": {
          "bdata": "AAAAAAAAAABN+4YEX8dqP037hgRfx3o/ejxlQ4cVhD9N+4YEX8eKPxBd1GKbvJA/ejxlQ4cVlD/jG/Yjc26XP037hgRfx5o/t9oX5Uognj8QXdRim7ygP8XMHFMRaaI/ejxlQ4cVpD8vrK0z/cGlP+Mb9iNzbqc/mIs+FOkaqT9N+4YEX8eqPwJrz/TUc6w/t9oX5Uogrj9rSmDVwMyvPxBd1GKbvLA/65T4WtaSsT/FzBxTEWmyP58EQUtMP7M/ejxlQ4cVtD9UdIk7wuu0Py+srTP9wbU/CeTRKziYtj/jG/Yjc263P75TGhyuRLg/mIs+FOkauT9zw2IMJPG5P037hgRfx7o/JzOr/Jmduz8Ca8/01HO8P9yi8+wPSr0/t9oX5Uogvj+REjzdhfa+P2tKYNXAzL8/I0HC5n1RwD8QXdRim7zAPw==",
          "dtype": "f8"
         },
         "y": {
          "bdata": "AKt1GTD4wT8ng3Uqe6fBPz70GkvGVsE/OJrtYxEGwT/dCJ+Ux7LAPziCNFUwTcA/l2ylQzLPvz9BR9PIAwS/PwgmAU7VOL4/mAEv06ZtvT/4bK2MhZ+8PzY2B4f90Ls/Lf1ggXUCuz8a+pRH7TO6P2He6z1lZbk/N8BCNN2WuD8jpZkqVci3PziJ8CDN+bY/6WpHF0Urtj8xV54NvVy1P6A29QM1jrQ/OB5M+qy/sz/3/qLwJPGyP0jm+eacIrI/j19gRQkisT9VWAqx6A+wPyqlaDmQ+60/Upe8EE/Xqz8DjRDoDbOpP9yEZL/Mjqc/63i4lotqpT9hbQxuSkajPy5hYEUJIqE/uKdoOZD7nT9tjhDoDbOZP1t1uJaLapU/115gRQkikT+0oRDoDbOJP31pYEUJIoE/OmpgRQkicT/qXVrqZl7hPA==",
          "dtype": "f8"
         }
        },
        {
         "mode": "lines+markers",
         "name": "Wildtype",
         "type": "scatter",
         "x": {
          "bdata": "NvlcTpNbFLoSuGwGX8dqPxK4bAZfx3o/DorRRIcVhD8SuGwGX8eKPwvzA2SbvJA/DorRRIcVlD8QIZ8lc26XPxK4bAZfx5o/FE8650ognj8L8wNkm7ygP4y+alQRaaI/DorRRIcVpD+PVTg1/cGlPxAhnyVzbqc/kewFFukaqT8SuGwGX8eqP5OD0/bUc6w/FE8650ogrj+VGqHXwMyvPwvzA2SbvLA/zFg3XNaSsT+MvmpUEWmyP00knkxMP7M/DorRRIcVtD/O7wQ9wuu0P49VODX9wbU/T7trLTiYtj8QIZ8lc263P9CG0h2uRLg/kewFFukauT9RUjkOJPG5PxK4bAZfx7o/0x2g/pmduz+Tg9P21HO8P1TpBu8PSr0/FE8650ogvj/VtG3fhfa+P5UaodfAzL8/K0Dq531RwD8L8wNkm7zAPw==",
          "dtype": "f8"
         },
         "y": {
          "bdata": "VKh1GTD4wT9SSPMse6fBP2CFD0vGVsE/3YLuUxEGwT8qEYicx7LAP2XMF18wTcA/fA9PQzLPvz90hG7IAwS/P/f5jU3VOL4/L22t0qZtvT+fHhuMhZ+8P348Zob90Ls/JmqxgHUCuz+lqtZG7TO6P5/8Hj1lZbk/Oj9nM92WuD9ygK8pVci3P0bR9x/N+bY/LwVAFkUrtj+mSIgMvVy1P5GL0AI1jrQ/Hs0Y+ay/sz/VDmHvJPGyP0pQqeWcIrI/UzeOQwkisT+0wySv6A+wP6qidjWQ+60/Ur+jDE/Xqz/E2dDjDbOpPzj3/brMjqc/8A4rkotqpT8CK1hpSkajP9hGhUAJIqE/qcRkL5D7nT9y9b7dDbOZP+QaGYyLapU/oWZzOgkikT/WSZvRDbOJP0G3Ty4JIoE/J0MIFgkicT+JFoUigWDdvA==",
          "dtype": "f8"
         }
        }
       ],
       "layout": {
        "height": 600,
        "template": {
         "data": {
          "bar": [
           {
            "error_x": {
             "color": "#2a3f5f"
            },
            "error_y": {
             "color": "#2a3f5f"
            },
            "marker": {
             "line": {
              "color": "#E5ECF6",
              "width": 0.5
             },
             "pattern": {
              "fillmode": "overlay",
              "size": 10,
              "solidity": 0.2
             }
            },
            "type": "bar"
           }
          ],
          "barpolar": [
           {
            "marker": {
             "line": {
              "color": "#E5ECF6",
              "width": 0.5
             },
             "pattern": {
              "fillmode": "overlay",
              "size": 10,
              "solidity": 0.2
             }
            },
            "type": "barpolar"
           }
          ],
          "carpet": [
           {
            "aaxis": {
             "endlinecolor": "#2a3f5f",
             "gridcolor": "white",
             "linecolor": "white",
             "minorgridcolor": "white",
             "startlinecolor": "#2a3f5f"
            },
            "baxis": {
             "endlinecolor": "#2a3f5f",
             "gridcolor": "white",
             "linecolor": "white",
             "minorgridcolor": "white",
             "startlinecolor": "#2a3f5f"
            },
            "type": "carpet"
           }
          ],
          "choropleth": [
           {
            "colorbar": {
             "outlinewidth": 0,
             "ticks": ""
            },
            "type": "choropleth"
           }
          ],
          "contour": [
           {
            "colorbar": {
             "outlinewidth": 0,
             "ticks": ""
            },
            "colorscale": [
             [
              0,
              "#0d0887"
             ],
             [
              0.1111111111111111,
              "#46039f"
             ],
             [
              0.2222222222222222,
              "#7201a8"
             ],
             [
              0.3333333333333333,
              "#9c179e"
             ],
             [
              0.4444444444444444,
              "#bd3786"
             ],
             [
              0.5555555555555556,
              "#d8576b"
             ],
             [
              0.6666666666666666,
              "#ed7953"
             ],
             [
              0.7777777777777778,
              "#fb9f3a"
             ],
             [
              0.8888888888888888,
              "#fdca26"
             ],
             [
              1,
              "#f0f921"
             ]
            ],
            "type": "contour"
           }
          ],
          "contourcarpet": [
           {
            "colorbar": {
             "outlinewidth": 0,
             "ticks": ""
            },
            "type": "contourcarpet"
           }
          ],
          "heatmap": [
           {
            "colorbar": {
             "outlinewidth": 0,
             "ticks": ""
            },
            "colorscale": [
             [
              0,
              "#0d0887"
             ],
             [
              0.1111111111111111,
              "#46039f"
             ],
             [
              0.2222222222222222,
              "#7201a8"
             ],
             [
              0.3333333333333333,
              "#9c179e"
             ],
             [
              0.4444444444444444,
              "#bd3786"
             ],
             [
              0.5555555555555556,
              "#d8576b"
             ],
             [
              0.6666666666666666,
              "#ed7953"
             ],
             [
              0.7777777777777778,
              "#fb9f3a"
             ],
             [
              0.8888888888888888,
              "#fdca26"
             ],
             [
              1,
              "#f0f921"
             ]
            ],
            "type": "heatmap"
           }
          ],
          "histogram": [
           {
            "marker": {
             "pattern": {
              "fillmode": "overlay",
              "size": 10,
              "solidity": 0.2
             }
            },
            "type": "histogram"
           }
          ],
          "histogram2d": [
           {
            "colorbar": {
             "outlinewidth": 0,
             "ticks": ""
            },
            "colorscale": [
             [
              0,
              "#0d0887"
             ],
             [
              0.1111111111111111,
              "#46039f"
             ],
             [
              0.2222222222222222,
              "#7201a8"
             ],
             [
              0.3333333333333333,
              "#9c179e"
             ],
             [
              0.4444444444444444,
              "#bd3786"
             ],
             [
              0.5555555555555556,
              "#d8576b"
             ],
             [
              0.6666666666666666,
              "#ed7953"
             ],
             [
              0.7777777777777778,
              "#fb9f3a"
             ],
             [
              0.8888888888888888,
              "#fdca26"
             ],
             [
              1,
              "#f0f921"
             ]
            ],
            "type": "histogram2d"
           }
          ],
          "histogram2dcontour": [
           {
            "colorbar": {
             "outlinewidth": 0,
             "ticks": ""
            },
            "colorscale": [
             [
              0,
              "#0d0887"
             ],
             [
              0.1111111111111111,
              "#46039f"
             ],
             [
              0.2222222222222222,
              "#7201a8"
             ],
             [
              0.3333333333333333,
              "#9c179e"
             ],
             [
              0.4444444444444444,
              "#bd3786"
             ],
             [
              0.5555555555555556,
              "#d8576b"
             ],
             [
              0.6666666666666666,
              "#ed7953"
             ],
             [
              0.7777777777777778,
              "#fb9f3a"
             ],
             [
              0.8888888888888888,
              "#fdca26"
             ],
             [
              1,
              "#f0f921"
             ]
            ],
            "type": "histogram2dcontour"
           }
          ],
          "mesh3d": [
           {
            "colorbar": {
             "outlinewidth": 0,
             "ticks": ""
            },
            "type": "mesh3d"
           }
          ],
          "parcoords": [
           {
            "line": {
             "colorbar": {
              "outlinewidth": 0,
              "ticks": ""
             }
            },
            "type": "parcoords"
           }
          ],
          "pie": [
           {
            "automargin": true,
            "type": "pie"
           }
          ],
          "scatter": [
           {
            "fillpattern": {
             "fillmode": "overlay",
             "size": 10,
             "solidity": 0.2
            },
            "type": "scatter"
           }
          ],
          "scatter3d": [
           {
            "line": {
             "colorbar": {
              "outlinewidth": 0,
              "ticks": ""
             }
            },
            "marker": {
             "colorbar": {
              "outlinewidth": 0,
              "ticks": ""
             }
            },
            "type": "scatter3d"
           }
          ],
          "scattercarpet": [
           {
            "marker": {
             "colorbar": {
              "outlinewidth": 0,
              "ticks": ""
             }
            },
            "type": "scattercarpet"
           }
          ],
          "scattergeo": [
           {
            "marker": {
             "colorbar": {
              "outlinewidth": 0,
              "ticks": ""
             }
            },
            "type": "scattergeo"
           }
          ],
          "scattergl": [
           {
            "marker": {
             "colorbar": {
              "outlinewidth": 0,
              "ticks": ""
             }
            },
            "type": "scattergl"
           }
          ],
          "scattermap": [
           {
            "marker": {
             "colorbar": {
              "outlinewidth": 0,
              "ticks": ""
             }
            },
            "type": "scattermap"
           }
          ],
          "scattermapbox": [
           {
            "marker": {
             "colorbar": {
              "outlinewidth": 0,
              "ticks": ""
             }
            },
            "type": "scattermapbox"
           }
          ],
          "scatterpolar": [
           {
            "marker": {
             "colorbar": {
              "outlinewidth": 0,
              "ticks": ""
             }
            },
            "type": "scatterpolar"
           }
          ],
          "scatterpolargl": [
           {
            "marker": {
             "colorbar": {
              "outlinewidth": 0,
              "ticks": ""
             }
            },
            "type": "scatterpolargl"
           }
          ],
          "scatterternary": [
           {
            "marker": {
             "colorbar": {
              "outlinewidth": 0,
              "ticks": ""
             }
            },
            "type": "scatterternary"
           }
          ],
          "surface": [
           {
            "colorbar": {
             "outlinewidth": 0,
             "ticks": ""
            },
            "colorscale": [
             [
              0,
              "#0d0887"
             ],
             [
              0.1111111111111111,
              "#46039f"
             ],
             [
              0.2222222222222222,
              "#7201a8"
             ],
             [
              0.3333333333333333,
              "#9c179e"
             ],
             [
              0.4444444444444444,
              "#bd3786"
             ],
             [
              0.5555555555555556,
              "#d8576b"
             ],
             [
              0.6666666666666666,
              "#ed7953"
             ],
             [
              0.7777777777777778,
              "#fb9f3a"
             ],
             [
              0.8888888888888888,
              "#fdca26"
             ],
             [
              1,
              "#f0f921"
             ]
            ],
            "type": "surface"
           }
          ],
          "table": [
           {
            "cells": {
             "fill": {
              "color": "#EBF0F8"
             },
             "line": {
              "color": "white"
             }
            },
            "header": {
             "fill": {
              "color": "#C8D4E3"
             },
             "line": {
              "color": "white"
             }
            },
            "type": "table"
           }
          ]
         },
         "layout": {
          "annotationdefaults": {
           "arrowcolor": "#2a3f5f",
           "arrowhead": 0,
           "arrowwidth": 1
          },
          "autotypenumbers": "strict",
          "coloraxis": {
           "colorbar": {
            "outlinewidth": 0,
            "ticks": ""
           }
          },
          "colorscale": {
           "diverging": [
            [
             0,
             "#8e0152"
            ],
            [
             0.1,
             "#c51b7d"
            ],
            [
             0.2,
             "#de77ae"
            ],
            [
             0.3,
             "#f1b6da"
            ],
            [
             0.4,
             "#fde0ef"
            ],
            [
             0.5,
             "#f7f7f7"
            ],
            [
             0.6,
             "#e6f5d0"
            ],
            [
             0.7,
             "#b8e186"
            ],
            [
             0.8,
             "#7fbc41"
            ],
            [
             0.9,
             "#4d9221"
            ],
            [
             1,
             "#276419"
            ]
           ],
           "sequential": [
            [
             0,
             "#0d0887"
            ],
            [
             0.1111111111111111,
             "#46039f"
            ],
            [
             0.2222222222222222,
             "#7201a8"
            ],
            [
             0.3333333333333333,
             "#9c179e"
            ],
            [
             0.4444444444444444,
             "#bd3786"
            ],
            [
             0.5555555555555556,
             "#d8576b"
            ],
            [
             0.6666666666666666,
             "#ed7953"
            ],
            [
             0.7777777777777778,
             "#fb9f3a"
            ],
            [
             0.8888888888888888,
             "#fdca26"
            ],
            [
             1,
             "#f0f921"
            ]
           ],
           "sequentialminus": [
            [
             0,
             "#0d0887"
            ],
            [
             0.1111111111111111,
             "#46039f"
            ],
            [
             0.2222222222222222,
             "#7201a8"
            ],
            [
             0.3333333333333333,
             "#9c179e"
            ],
            [
             0.4444444444444444,
             "#bd3786"
            ],
            [
             0.5555555555555556,
             "#d8576b"
            ],
            [
             0.6666666666666666,
             "#ed7953"
            ],
            [
             0.7777777777777778,
             "#fb9f3a"
            ],
            [
             0.8888888888888888,
             "#fdca26"
            ],
            [
             1,
             "#f0f921"
            ]
           ]
          },
          "colorway": [
           "#636efa",
           "#EF553B",
           "#00cc96",
           "#ab63fa",
           "#FFA15A",
           "#19d3f3",
           "#FF6692",
           "#B6E880",
           "#FF97FF",
           "#FECB52"
          ],
          "font": {
           "color": "#2a3f5f"
          },
          "geo": {
           "bgcolor": "white",
           "lakecolor": "white",
           "landcolor": "#E5ECF6",
           "showlakes": true,
           "showland": true,
           "subunitcolor": "white"
          },
          "hoverlabel": {
           "align": "left"
          },
          "hovermode": "closest",
          "mapbox": {
           "style": "light"
          },
          "paper_bgcolor": "white",
          "plot_bgcolor": "#E5ECF6",
          "polar": {
           "angularaxis": {
            "gridcolor": "white",
            "linecolor": "white",
            "ticks": ""
           },
           "bgcolor": "#E5ECF6",
           "radialaxis": {
            "gridcolor": "white",
            "linecolor": "white",
            "ticks": ""
           }
          },
          "scene": {
           "xaxis": {
            "backgroundcolor": "#E5ECF6",
            "gridcolor": "white",
            "gridwidth": 2,
            "linecolor": "white",
            "showbackground": true,
            "ticks": "",
            "zerolinecolor": "white"
           },
           "yaxis": {
            "backgroundcolor": "#E5ECF6",
            "gridcolor": "white",
            "gridwidth": 2,
            "linecolor": "white",
            "showbackground": true,
            "ticks": "",
            "zerolinecolor": "white"
           },
           "zaxis": {
            "backgroundcolor": "#E5ECF6",
            "gridcolor": "white",
            "gridwidth": 2,
            "linecolor": "white",
            "showbackground": true,
            "ticks": "",
            "zerolinecolor": "white"
           }
          },
          "shapedefaults": {
           "line": {
            "color": "#2a3f5f"
           }
          },
          "ternary": {
           "aaxis": {
            "gridcolor": "white",
            "linecolor": "white",
            "ticks": ""
           },
           "baxis": {
            "gridcolor": "white",
            "linecolor": "white",
            "ticks": ""
           },
           "bgcolor": "#E5ECF6",
           "caxis": {
            "gridcolor": "white",
            "linecolor": "white",
            "ticks": ""
           }
          },
          "title": {
           "x": 0.05
          },
          "xaxis": {
           "automargin": true,
           "gridcolor": "white",
           "linecolor": "white",
           "ticks": "",
           "title": {
            "standoff": 15
           },
           "zerolinecolor": "white",
           "zerolinewidth": 2
          },
          "yaxis": {
           "automargin": true,
           "gridcolor": "white",
           "linecolor": "white",
           "ticks": "",
           "title": {
            "standoff": 15
           },
           "zerolinecolor": "white",
           "zerolinewidth": 2
          }
         }
        },
        "title": {
         "text": "ERG vs Biomass at CO₂ cap 10.0"
        },
        "width": 900,
        "xaxis": {
         "title": {
          "text": "Biomass flux"
         }
        },
        "yaxis": {
         "title": {
          "text": "ERG export flux"
         }
        }
       }
      }
     },
     "metadata": {},
     "output_type": "display_data"
    }
   ],
   "source": [
    "import plotly.graph_objects as go\n",
    "\n",
    "fig1 = go.Figure()\n",
    "for name in summary[\"variant\"]:\n",
    "    sub = fronts[fronts[\"variant\"] == name].sort_values(\"biomass\")\n",
    "    fig1.add_trace(go.Scatter(\n",
    "        x=sub[\"biomass\"], y=sub[\"erg\"], mode=\"lines+markers\", name=name,\n",
    "    ))\n",
    "fig1.update_layout(\n",
    "    title=f\"ERG vs Biomass at CO₂ cap {CO2_CAP}\",\n",
    "    xaxis_title=\"Biomass flux\", yaxis_title=\"ERG export flux\",\n",
    "    width=900, height=600\n",
    ")\n",
    "fig1.write_html(os.path.join(outdir, \"fronts_ERG_vs_Biomass.html\"))\n",
    "\n",
    "fig1"
   ]
  }
 ],
 "metadata": {
  "kernelspec": {
   "display_name": "venv",
   "language": "python",
   "name": "python3"
  },
  "language_info": {
   "codemirror_mode": {
    "name": "ipython",
    "version": 3
   },
   "file_extension": ".py",
   "mimetype": "text/x-python",
   "name": "python",
   "nbconvert_exporter": "python",
   "pygments_lexer": "ipython3",
   "version": "3.12.10"
  }
 },
 "nbformat": 4,
 "nbformat_minor": 5
}
