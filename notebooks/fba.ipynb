{
 "cells": [
  {
   "cell_type": "markdown",
   "id": "5770b41c",
   "metadata": {},
   "source": [
    "### Setup"
   ]
  },
  {
   "cell_type": "code",
   "execution_count": 32,
   "id": "23824f3d",
   "metadata": {},
   "outputs": [],
   "source": [
    "import os, sys\n",
    "sys.path.append('..')\n",
    "\n",
    "import warnings\n",
    "warnings.filterwarnings('ignore', category=UserWarning, module='cobra')\n",
    "\n",
    "from cobra import io, Model, Solution\n",
    "from scripts.helpers.model import rxn_in_model, met_in_model, add_single_gene_reaction_pair\n",
    "from scripts.opt._fba import flux_balance_analysis\n",
    "from scripts.opt._fva import run_flux_variability_analysis"
   ]
  },
  {
   "cell_type": "markdown",
   "id": "84514e80",
   "metadata": {},
   "source": [
    "### Import Models"
   ]
  },
  {
   "cell_type": "code",
   "execution_count": 34,
   "id": "f47d2969",
   "metadata": {},
   "outputs": [
    {
     "name": "stderr",
     "output_type": "stream",
     "text": [
      "No objective coefficients in model. Unclear what should be optimized\n"
     ]
    },
    {
     "name": "stdout",
     "output_type": "stream",
     "text": [
      "Loading model: SQE+MVA from ../data/altered/xmls/MNL_iCre1355_auto_GAPFILL/SQE+MVA.xml\n"
     ]
    },
    {
     "name": "stderr",
     "output_type": "stream",
     "text": [
      "No objective coefficients in model. Unclear what should be optimized\n"
     ]
    },
    {
     "name": "stdout",
     "output_type": "stream",
     "text": [
      "Loading model: SQE from ../data/altered/xmls/MNL_iCre1355_auto_GAPFILL/SQE.xml\n"
     ]
    },
    {
     "name": "stderr",
     "output_type": "stream",
     "text": [
      "No objective coefficients in model. Unclear what should be optimized\n"
     ]
    },
    {
     "name": "stdout",
     "output_type": "stream",
     "text": [
      "Loading model: SQS+MVA from ../data/altered/xmls/MNL_iCre1355_auto_GAPFILL/SQS+MVA.xml\n"
     ]
    },
    {
     "name": "stderr",
     "output_type": "stream",
     "text": [
      "No objective coefficients in model. Unclear what should be optimized\n"
     ]
    },
    {
     "name": "stdout",
     "output_type": "stream",
     "text": [
      "Loading model: SQS+SQE+MVA from ../data/altered/xmls/MNL_iCre1355_auto_GAPFILL/SQS+SQE+MVA.xml\n"
     ]
    },
    {
     "name": "stderr",
     "output_type": "stream",
     "text": [
      "No objective coefficients in model. Unclear what should be optimized\n"
     ]
    },
    {
     "name": "stdout",
     "output_type": "stream",
     "text": [
      "Loading model: SQS+SQE from ../data/altered/xmls/MNL_iCre1355_auto_GAPFILL/SQS+SQE.xml\n"
     ]
    },
    {
     "name": "stderr",
     "output_type": "stream",
     "text": [
      "No objective coefficients in model. Unclear what should be optimized\n"
     ]
    },
    {
     "name": "stdout",
     "output_type": "stream",
     "text": [
      "Loading model: SQS from ../data/altered/xmls/MNL_iCre1355_auto_GAPFILL/SQS.xml\n"
     ]
    },
    {
     "name": "stderr",
     "output_type": "stream",
     "text": [
      "No objective coefficients in model. Unclear what should be optimized\n"
     ]
    },
    {
     "name": "stdout",
     "output_type": "stream",
     "text": [
      "\n",
      "Loaded 7 models:\n",
      "  - Wildtype: None\n",
      "  - SQE+MVA: MNL_iCre1355_auto_GAPFILL_SQE+MVA\n",
      "  - SQE: MNL_iCre1355_auto_GAPFILL_SQE\n",
      "  - SQS+MVA: MNL_iCre1355_auto_GAPFILL_SQS+MVA\n",
      "  - SQS+SQE+MVA: MNL_iCre1355_auto_GAPFILL_SQS+SQE+MVA\n",
      "  - SQS+SQE: MNL_iCre1355_auto_GAPFILL_SQS+SQE\n",
      "  - SQS: MNL_iCre1355_auto_GAPFILL_SQS\n"
     ]
    }
   ],
   "source": [
    "# Load models\n",
    "\n",
    "# Load wildtype from manual directory (adjust path for notebooks directory)\n",
    "# Use io.read_sbml_model for local files instead of io.load_model\n",
    "wildtype = io.read_sbml_model('../data/fill/xmls/MNL_iCre1355_auto_GAPFILL.xml')\n",
    "\n",
    "models = {\n",
    "    \"Wildtype\": wildtype\n",
    "}\n",
    "\n",
    "# Get altered reactions of wildtype - using correct directory name\n",
    "altered_dir = '../data/altered/xmls/MNL_iCre1355_auto_GAPFILL/'\n",
    "\n",
    "for root, dirs, files in os.walk(altered_dir):\n",
    "\n",
    "    # Exclude the /h directory from search\n",
    "    if root.endswith('/h'):\n",
    "        continue\n",
    "\n",
    "    for file in files:\n",
    "        if file.endswith('.xml'):\n",
    "            # Get file name and remove .xml extension\n",
    "            model_name = file[:-4]\n",
    "            full_path = os.path.join(root, file)\n",
    "            print(f\"Loading model: {model_name} from {full_path}\")\n",
    "            models[model_name] = io.read_sbml_model(full_path)\n",
    "\n",
    "# Print out loaded models\n",
    "print(f\"\\nLoaded {len(models)} models:\")\n",
    "for name in models.keys():\n",
    "    print(f\"  - {name}: {models[name].name}\")"
   ]
  },
  {
   "cell_type": "markdown",
   "id": "4791b5e1",
   "metadata": {},
   "source": [
    "### IDs and Vmax"
   ]
  },
  {
   "cell_type": "code",
   "execution_count": 35,
   "id": "695773b2",
   "metadata": {},
   "outputs": [],
   "source": [
    "from enum import Enum\n",
    "\n",
    "class MetID(Enum):\n",
    "    # Pyruvate Compounds\n",
    "    IPP = \"ipdp_h\"\n",
    "    DMAPP = \"dmpp_h\"\n",
    "    # Sterol Compounds\n",
    "    ERG = \"ergosterol_c\"\n",
    "    EPI = \"episterol_c\"\n",
    "    METLOP = \"methylop_c\"\n",
    "    FEC = \"mfecostrl_c\"\n",
    "    EPOXY = \"Ssq23epx_c\"\n",
    "    SQL = \"sql_c\"\n",
    "    # MVA Compounds\n",
    "    HMCOA = \"hydmetcoa_c\"\n",
    "    MVA = \"mva_c\"\n",
    "    PMVA = \"phmva_c\"\n",
    "    DPMVA = \"diphmva_c\"\n",
    "    ORTHOP = \"orthop_c\"\n",
    "    \n",
    "\n",
    "class RxnID(Enum):\n",
    "    # Biomass\n",
    "    BIOMASS = \"Biomass_Chlamy_auto\"\n",
    "    # Exchange Assumptions\n",
    "    EXCHERG = \"ERGOSTEROLEXCH\" # This will be added to models first\n",
    "    EXCHORTHO = \"ORTHOPHOSPHATEEXCH\"\n",
    "    # Ergosterol Synthesis\n",
    "    SS = 'SS'\n",
    "    SS2 = 'ALT_SQS2'\n",
    "    SQE = 'SMO'\n",
    "    SQE2 = 'ALT_SQE2'\n",
    "    CAS = 'CAS'\n",
    "    METLOP = 'FILL_HYD1'\n",
    "    EPI = 'ERG28'\n",
    "    ERG = 'ERG'\n",
    "    # MVA Precursors\n",
    "    ACACT = \"ACACT\"\n",
    "    HBCO = \"HBCO\"\n",
    "    # MVA Pathway\n",
    "    MVAS = 'ALT_MVAS'\n",
    "    MVAE = 'ALT_MVAE'\n",
    "    MVAD = 'ALT_MVAD'\n",
    "    PMK = 'ALT_PMK'\n",
    "    MVK = 'ALT_MVK'\n",
    "    IDLI = 'ALT_IDLI'\n",
    "    # Pyruvate Metabolism\n",
    "    # Acetyl-CoA (Cytosol)\n",
    "    ACS = \"ACS\"\n",
    "    ATPCS = \"ATPCS\"\n",
    "    MCDC = \"MCDC\"\n",
    "    ACALD = \"ACALD\"\n",
    "    # Acetyl-CoA (Chloroplast)\n",
    "    PYRDHY = \"PDHe2hr\"\n",
    "    ACALDH = \"ACALDh\"\n",
    "    PFL = \"PFLh\"\n",
    "    PYRS = \"PYRShi\"\n",
    "    # Acetyl-CoA transport (Cytosol <--> Chloroplast)\n",
    "    ACCOA = \"ACCOAth\""
   ]
  },
  {
   "cell_type": "markdown",
   "id": "fca17b1a",
   "metadata": {},
   "source": [
    "### Empirical Data"
   ]
  },
  {
   "cell_type": "code",
   "execution_count": 13,
   "id": "2d5bce60",
   "metadata": {},
   "outputs": [],
   "source": [
    "Vmax = {\n",
    "    RxnID.SS: 0.00328,\n",
    "    RxnID.SQE: 0.0016\n",
    "}"
   ]
  },
  {
   "cell_type": "markdown",
   "id": "3538d4a0",
   "metadata": {},
   "source": [
    "### Preprocessing Models"
   ]
  },
  {
   "cell_type": "code",
   "execution_count": null,
   "id": "1c71b6af",
   "metadata": {},
   "outputs": [
    {
     "name": "stdout",
     "output_type": "stream",
     "text": [
      "SQE+MVA\n",
      "{'atp_c', 'adp_c', 'orthop_c', 'co2_c', 'ipdp_c', 'diphmva_c'}\n",
      "SQS+MVA\n",
      "{'atp_c', 'adp_c', 'orthop_c', 'co2_c', 'ipdp_c', 'diphmva_c'}\n",
      "SQS+SQE+MVA\n",
      "{'atp_c', 'adp_c', 'orthop_c', 'co2_c', 'ipdp_c', 'diphmva_c'}\n"
     ]
    }
   ],
   "source": [
    "for name in models.keys():\n",
    "    model = models[name]\n",
    "\n",
    "    # Add export reactions\n",
    "    \n",
    "    if not rxn_in_model(model, RxnID.EXCHERG.value):\n",
    "        add_single_gene_reaction_pair(\n",
    "            model=model, \n",
    "            gene_id=\"EXCHERG_GENE\",\n",
    "            reaction_id=RxnID.EXCHERG.value,\n",
    "            reaction_name=\"Ergosterol exchange (assumption)\", \n",
    "            reaction_subsystem=\"Exchange\", \n",
    "            metabolites=[(-1, MetID.ERG.value)],\n",
    "            reversible=True\n",
    "        )\n",
    "\n",
    "    if not met_in_model(model, MetID.ORTHOP.value):\n",
    "        continue\n",
    "\n",
    "    if not rxn_in_model(model, RxnID.EXCHORTHO.value):\n",
    "        add_single_gene_reaction_pair(\n",
    "            model=model, \n",
    "            gene_id=\"EXCHORTHO_GENE\",\n",
    "            reaction_id=RxnID.EXCHORTHO.value,\n",
    "            reaction_name=\"Orthophosphate exchange (assumption)\", \n",
    "            reaction_subsystem=\"Exchange\", \n",
    "            metabolites=[(-1, MetID.ORTHOP.value)],\n",
    "            reversible=True\n",
    "        )\n",
    "\n",
    "    # Add Vmax information to model\n",
    "    # for k, v in Vmax.items():\n",
    "    #     if not rxn_in_model(model, k): continue\n",
    "    #     model.reactions.get_by_id(k).bounds = (v, v)\n",
    "\n",
    "_obj = [RxnID.EXCHERG]\n",
    "objective = [obj.value for obj in _obj]"
   ]
  },
  {
   "cell_type": "markdown",
   "id": "34611d0e",
   "metadata": {},
   "source": [
    "### Flux Balance Analysis"
   ]
  },
  {
   "cell_type": "code",
   "execution_count": 38,
   "id": "0fcf2c48",
   "metadata": {},
   "outputs": [
    {
     "name": "stdout",
     "output_type": "stream",
     "text": [
      "\n",
      "Running FBA for model: Wildtype\n",
      "\n",
      "Running FBA for model: SQE+MVA\n",
      "\n",
      "Running FBA for model: SQE\n",
      "\n",
      "Running FBA for model: SQS+MVA\n",
      "\n",
      "Running FBA for model: SQS+SQE+MVA\n",
      "\n",
      "Running FBA for model: SQS+SQE\n",
      "\n",
      "Running FBA for model: SQS\n"
     ]
    }
   ],
   "source": [
    "# Run flux-balance analysis on each model and store results\n",
    "fba = {}\n",
    "\n",
    "for name, model in models.items():\n",
    "    print(f\"\\nRunning FBA for model: {name}\")\n",
    "\n",
    "    # Assume fixed biomass growth\n",
    "    BIOMASS = model.reactions.get_by_id(RxnID.BIOMASS.value)\n",
    "    BIOMASS.bounds = (0.005, 0.005)\n",
    "\n",
    "    # Ignore if objective doesn't exist in model\n",
    "    if not all([rxn_in_model(model, item) for item in objective]):\n",
    "        fba[name] = None\n",
    "        continue\n",
    "\n",
    "    # Run flux-balance analysis\n",
    "    fba[name] = flux_balance_analysis(\n",
    "        model,\n",
    "        objectives=objective,\n",
    "        is_pfba=True\n",
    "    )\n",
    "\n",
    "    # for _, item in RxnID.__members__.items():\n",
    "    #     if rxn_in_model(model, item.value):\n",
    "    #         print(f\"\\t{item.name}: {fba[name].fluxes[item.value]}\")\n",
    "    "
   ]
  },
  {
   "cell_type": "markdown",
   "id": "e39899db",
   "metadata": {},
   "source": [
    "### Flux Variability Analysis"
   ]
  },
  {
   "cell_type": "code",
   "execution_count": null,
   "id": "948989df",
   "metadata": {},
   "outputs": [
    {
     "name": "stdout",
     "output_type": "stream",
     "text": [
      "\n",
      "Running FVA for model: Wildtype\n",
      "                     minimum       maximum\n",
      "Biomass_Chlamy_auto     0.00  3.854623e-17\n",
      "ERGOSTEROLEXCH          0.04  4.000000e-02\n",
      "FILL_ERG                0.04  4.000000e-02\n",
      "SS                      0.04  4.000000e-02\n",
      "SMO                     0.04  4.000000e-02\n",
      "CAS                     0.04  4.000000e-02\n",
      "\n",
      "Running FVA for model: SQE+MVA\n",
      "                          minimum       maximum\n",
      "Biomass_Chlamy_auto  0.000000e+00  1.243184e-15\n",
      "ERGOSTEROLEXCH       6.896552e-02  6.896552e-02\n",
      "FILL_ERG             6.896552e-02  6.896552e-02\n",
      "SS                   6.896552e-02  6.896552e-02\n",
      "SMO                 -1.530359e-16  7.717955e-15\n",
      "ALT_SQE2             6.896552e-02  6.896552e-02\n",
      "CAS                  6.896552e-02  6.896552e-02\n",
      "ALT_MVAD             0.000000e+00  0.000000e+00\n",
      "ALT_MVAE             0.000000e+00  1.206953e-29\n",
      "ALT_MVAS             0.000000e+00  1.206953e-29\n",
      "ALT_PMK              0.000000e+00  0.000000e+00\n",
      "ALT_MVK              0.000000e+00 -1.072847e-29\n",
      "ALT_IDLI             0.000000e+00  1.379310e-01\n",
      "\n",
      "Running FVA for model: SQE\n",
      "                          minimum       maximum\n",
      "Biomass_Chlamy_auto  0.000000e+00  4.431678e-15\n",
      "ERGOSTEROLEXCH       6.896552e-02  6.896552e-02\n",
      "FILL_ERG             6.896552e-02  6.896552e-02\n",
      "SS                   6.896552e-02  6.896552e-02\n",
      "SMO                  1.578838e-15 -3.388540e-15\n",
      "ALT_SQE2             6.896552e-02  6.896552e-02\n",
      "CAS                  6.896552e-02  6.896552e-02\n",
      "\n",
      "Running FVA for model: SQS+MVA\n",
      "                     minimum       maximum\n",
      "Biomass_Chlamy_auto     0.00  2.018870e-15\n",
      "ERGOSTEROLEXCH          0.04  4.000000e-02\n",
      "FILL_ERG                0.04  4.000000e-02\n",
      "SS                      0.00  4.000000e-02\n",
      "ALT_SQS2                0.00  4.000000e-02\n",
      "SMO                     0.04  4.000000e-02\n",
      "CAS                     0.04  4.000000e-02\n",
      "ALT_MVAD                0.00  0.000000e+00\n",
      "ALT_MVAE                0.00  0.000000e+00\n",
      "ALT_MVAS                0.00  0.000000e+00\n",
      "ALT_PMK                 0.00  0.000000e+00\n",
      "ALT_MVK                 0.00  0.000000e+00\n",
      "ALT_IDLI                0.00  8.000000e-02\n",
      "\n",
      "Running FVA for model: SQS+SQE+MVA\n",
      "                          minimum       maximum\n",
      "Biomass_Chlamy_auto  0.000000e+00  1.379382e-15\n",
      "ERGOSTEROLEXCH       6.896552e-02  6.896552e-02\n",
      "FILL_ERG             6.896552e-02  6.896552e-02\n",
      "SS                   0.000000e+00  6.896552e-02\n",
      "ALT_SQS2             0.000000e+00  6.896552e-02\n",
      "SMO                 -1.346948e-15  2.124131e-15\n",
      "ALT_SQE2             6.896552e-02  6.896552e-02\n",
      "CAS                  6.896552e-02  6.896552e-02\n",
      "ALT_MVAD             0.000000e+00  0.000000e+00\n",
      "ALT_MVAE             0.000000e+00  2.340641e-31\n",
      "ALT_MVAS             0.000000e+00  2.340641e-31\n",
      "ALT_PMK              0.000000e+00 -1.992125e-30\n",
      "ALT_MVK              0.000000e+00  5.388838e-31\n",
      "ALT_IDLI             0.000000e+00  1.379310e-01\n",
      "\n",
      "Running FVA for model: SQS+SQE\n",
      "                          minimum       maximum\n",
      "Biomass_Chlamy_auto  0.000000e+00  3.825609e-16\n",
      "ERGOSTEROLEXCH       6.896552e-02  6.896552e-02\n",
      "FILL_ERG             6.896552e-02  6.896552e-02\n",
      "SS                   0.000000e+00  6.896552e-02\n",
      "ALT_SQS2             0.000000e+00  6.896552e-02\n",
      "SMO                 -2.519919e-16  3.932684e-16\n",
      "ALT_SQE2             6.896552e-02  6.896552e-02\n",
      "CAS                  6.896552e-02  6.896552e-02\n",
      "\n",
      "Running FVA for model: SQS\n",
      "                     minimum       maximum\n",
      "Biomass_Chlamy_auto     0.00 -3.883882e-15\n",
      "ERGOSTEROLEXCH          0.04  4.000000e-02\n",
      "FILL_ERG                0.04  4.000000e-02\n",
      "SS                      0.00  4.000000e-02\n",
      "ALT_SQS2                0.00  4.000000e-02\n",
      "SMO                     0.04  4.000000e-02\n",
      "CAS                     0.04  4.000000e-02\n"
     ]
    }
   ],
   "source": [
    "fva = {}\n",
    "\n",
    "target_rxns = [\n",
    "    RxnID.BIOMASS.value,\n",
    "    RxnID.EXCHERG.value,\n",
    "    RxnID.ERG.value,\n",
    "    RxnID.SS.value,\n",
    "    RxnID.SS2.value,\n",
    "    RxnID.SQE.value,\n",
    "    RxnID.SQE2.value,\n",
    "    RxnID.CAS.value,\n",
    "    RxnID.MVAD.value,\n",
    "    RxnID.MVAE.value,\n",
    "    RxnID.MVAS.value,\n",
    "    RxnID.PMK.value,\n",
    "    RxnID.MVK.value,\n",
    "    RxnID.IDLI.value\n",
    "]\n",
    "\n",
    "for name, model in models.items():\n",
    "    print(f\"\\nRunning FVA for model: {name}\")\n",
    "    fva[name] = run_flux_variability_analysis(\n",
    "        model,\n",
    "        loopless=True,\n",
    "        pfba_factor=None,\n",
    "        objectives=objective,\n",
    "        reactions=[rxn for rxn in target_rxns if rxn_in_model(model, rxn)]\n",
    "    )\n",
    "    print(fva[name])"
   ]
  },
  {
   "cell_type": "markdown",
   "id": "87a3988c",
   "metadata": {},
   "source": [
    "### Results"
   ]
  },
  {
   "cell_type": "code",
   "execution_count": 39,
   "id": "69909211",
   "metadata": {},
   "outputs": [
    {
     "name": "stdout",
     "output_type": "stream",
     "text": [
      "FBA Flux Heatmap Data:\n",
      "              EXCHERG  BIOMASS       ERG        SS  SS2       SQE      SQE2\n",
      "Wildtype     0.036166    0.005  0.036166  0.036166  0.0  0.036166  0.000000\n",
      "SQE+MVA      0.062357    0.005  0.062357  0.062357  0.0 -0.000002  0.062359\n",
      "SQE          0.062357    0.005  0.062357  0.062357  0.0 -0.000002  0.062359\n",
      "SQS+MVA      0.036166    0.005  0.036166  0.036166  0.0  0.036166  0.000000\n",
      "SQS+SQE+MVA  0.062357    0.005  0.062357  0.062357  0.0 -0.000002  0.062359\n",
      "SQS+SQE      0.062357    0.005  0.062357  0.062357  0.0 -0.000002  0.062359\n",
      "SQS          0.036166    0.005  0.036166  0.036166  0.0  0.036166  0.000000\n"
     ]
    },
    {
     "data": {
      "application/vnd.plotly.v1+json": {
       "config": {
        "plotlyServerURL": "https://plot.ly"
       },
       "data": [
        {
         "colorbar": {
          "title": {
           "text": "Flux (mmol/gDW/h)"
          }
         },
         "colorscale": [
          [
           0,
           "rgb(49,54,149)"
          ],
          [
           0.1,
           "rgb(69,117,180)"
          ],
          [
           0.2,
           "rgb(116,173,209)"
          ],
          [
           0.3,
           "rgb(171,217,233)"
          ],
          [
           0.4,
           "rgb(224,243,248)"
          ],
          [
           0.5,
           "rgb(255,255,191)"
          ],
          [
           0.6,
           "rgb(254,224,144)"
          ],
          [
           0.7,
           "rgb(253,174,97)"
          ],
          [
           0.8,
           "rgb(244,109,67)"
          ],
          [
           0.9,
           "rgb(215,48,39)"
          ],
          [
           1,
           "rgb(165,0,38)"
          ]
         ],
         "text": {
          "bdata": "f/s6cM6Ioj97FK5H4Xp0P3/7OnDOiKI/f/s6cM6Ioj8AAAAAAAAAAH/7OnDOiKI/AAAAAAAAAADecYqO5PKvP3sUrkfhenQ/3nGKjuTyrz/ecYqO5PKvPwAAAAAAAAAAAAAAAAAAAIDecYqO5PKvP95xio7k8q8/exSuR+F6dD/ecYqO5PKvP95xio7k8q8/AAAAAAAAAAAAAAAAAAAAgN5xio7k8q8/f/s6cM6Ioj97FK5H4Xp0P3/7OnDOiKI/f/s6cM6Ioj8AAAAAAAAAAH/7OnDOiKI/AAAAAAAAAADecYqO5PKvP3sUrkfhenQ/3nGKjuTyrz/ecYqO5PKvPwAAAAAAAAAAAAAAAAAAAIDecYqO5PKvP95xio7k8q8/exSuR+F6dD/ecYqO5PKvP95xio7k8q8/AAAAAAAAAAAAAAAAAAAAgN5xio7k8q8/f/s6cM6Ioj97FK5H4Xp0P3/7OnDOiKI/f/s6cM6Ioj8AAAAAAAAAAH/7OnDOiKI/AAAAAAAAAAA=",
          "dtype": "f8",
          "shape": "7, 7"
         },
         "textfont": {
          "size": 10
         },
         "texttemplate": "%{text}",
         "type": "heatmap",
         "x": [
          "EXCHERG",
          "BIOMASS",
          "ERG",
          "SS",
          "SS2",
          "SQE",
          "SQE2"
         ],
         "y": [
          "Wildtype",
          "SQE+MVA",
          "SQE",
          "SQS+MVA",
          "SQS+SQE+MVA",
          "SQS+SQE",
          "SQS"
         ],
         "z": {
          "bdata": "8XayLFuEoj97FK5H4Xp0P/F2sixbhKI/8nayLFuEoj8AAAAAAAAAAPJ2sixbhKI/AAAAAAAAAADNcV1yPe2vP3sUrkfhenQ/zHFdcj3trz/NcV1yPe2vPwAAAAAAAAAACxVFPqC/wr7hat5wiO2vP8d5Sm897a8/exSuR+F6dD/FeUpvPe2vP8J5Sm897a8/AAAAAAAAAAC51X4+oL/Cvr5zy22I7a8/FHeyLFuEoj97FK5H4Xp0PxR3sixbhKI/FXeyLFuEoj8AAAAAAAAAABV3sixbhKI/AAAAAAAAAADXcV1yPe2vP3sUrkfhenQ/1nFdcj3trz/UcV1yPe2vPwAAAAAAAAAAsY6vPqC/wr6SbN5wiO2vP3NyXXI97a8/exSuR+F6dD9ycl1yPe2vP3NyXXI97a8/AAAAAAAAAACyTHw+oL/CvmJs3nCI7a8/4nayLFuEoj97FK5H4Xp0P+N2sixbhKI/5HayLFuEoj8AAAAAAAAAAOR2sixbhKI/AAAAAAAAAAA=",
          "dtype": "f8",
          "shape": "7, 7"
         }
        }
       ],
       "layout": {
        "font": {
         "size": 12
        },
        "height": 600,
        "template": {
         "data": {
          "bar": [
           {
            "error_x": {
             "color": "#2a3f5f"
            },
            "error_y": {
             "color": "#2a3f5f"
            },
            "marker": {
             "line": {
              "color": "#E5ECF6",
              "width": 0.5
             },
             "pattern": {
              "fillmode": "overlay",
              "size": 10,
              "solidity": 0.2
             }
            },
            "type": "bar"
           }
          ],
          "barpolar": [
           {
            "marker": {
             "line": {
              "color": "#E5ECF6",
              "width": 0.5
             },
             "pattern": {
              "fillmode": "overlay",
              "size": 10,
              "solidity": 0.2
             }
            },
            "type": "barpolar"
           }
          ],
          "carpet": [
           {
            "aaxis": {
             "endlinecolor": "#2a3f5f",
             "gridcolor": "white",
             "linecolor": "white",
             "minorgridcolor": "white",
             "startlinecolor": "#2a3f5f"
            },
            "baxis": {
             "endlinecolor": "#2a3f5f",
             "gridcolor": "white",
             "linecolor": "white",
             "minorgridcolor": "white",
             "startlinecolor": "#2a3f5f"
            },
            "type": "carpet"
           }
          ],
          "choropleth": [
           {
            "colorbar": {
             "outlinewidth": 0,
             "ticks": ""
            },
            "type": "choropleth"
           }
          ],
          "contour": [
           {
            "colorbar": {
             "outlinewidth": 0,
             "ticks": ""
            },
            "colorscale": [
             [
              0,
              "#0d0887"
             ],
             [
              0.1111111111111111,
              "#46039f"
             ],
             [
              0.2222222222222222,
              "#7201a8"
             ],
             [
              0.3333333333333333,
              "#9c179e"
             ],
             [
              0.4444444444444444,
              "#bd3786"
             ],
             [
              0.5555555555555556,
              "#d8576b"
             ],
             [
              0.6666666666666666,
              "#ed7953"
             ],
             [
              0.7777777777777778,
              "#fb9f3a"
             ],
             [
              0.8888888888888888,
              "#fdca26"
             ],
             [
              1,
              "#f0f921"
             ]
            ],
            "type": "contour"
           }
          ],
          "contourcarpet": [
           {
            "colorbar": {
             "outlinewidth": 0,
             "ticks": ""
            },
            "type": "contourcarpet"
           }
          ],
          "heatmap": [
           {
            "colorbar": {
             "outlinewidth": 0,
             "ticks": ""
            },
            "colorscale": [
             [
              0,
              "#0d0887"
             ],
             [
              0.1111111111111111,
              "#46039f"
             ],
             [
              0.2222222222222222,
              "#7201a8"
             ],
             [
              0.3333333333333333,
              "#9c179e"
             ],
             [
              0.4444444444444444,
              "#bd3786"
             ],
             [
              0.5555555555555556,
              "#d8576b"
             ],
             [
              0.6666666666666666,
              "#ed7953"
             ],
             [
              0.7777777777777778,
              "#fb9f3a"
             ],
             [
              0.8888888888888888,
              "#fdca26"
             ],
             [
              1,
              "#f0f921"
             ]
            ],
            "type": "heatmap"
           }
          ],
          "histogram": [
           {
            "marker": {
             "pattern": {
              "fillmode": "overlay",
              "size": 10,
              "solidity": 0.2
             }
            },
            "type": "histogram"
           }
          ],
          "histogram2d": [
           {
            "colorbar": {
             "outlinewidth": 0,
             "ticks": ""
            },
            "colorscale": [
             [
              0,
              "#0d0887"
             ],
             [
              0.1111111111111111,
              "#46039f"
             ],
             [
              0.2222222222222222,
              "#7201a8"
             ],
             [
              0.3333333333333333,
              "#9c179e"
             ],
             [
              0.4444444444444444,
              "#bd3786"
             ],
             [
              0.5555555555555556,
              "#d8576b"
             ],
             [
              0.6666666666666666,
              "#ed7953"
             ],
             [
              0.7777777777777778,
              "#fb9f3a"
             ],
             [
              0.8888888888888888,
              "#fdca26"
             ],
             [
              1,
              "#f0f921"
             ]
            ],
            "type": "histogram2d"
           }
          ],
          "histogram2dcontour": [
           {
            "colorbar": {
             "outlinewidth": 0,
             "ticks": ""
            },
            "colorscale": [
             [
              0,
              "#0d0887"
             ],
             [
              0.1111111111111111,
              "#46039f"
             ],
             [
              0.2222222222222222,
              "#7201a8"
             ],
             [
              0.3333333333333333,
              "#9c179e"
             ],
             [
              0.4444444444444444,
              "#bd3786"
             ],
             [
              0.5555555555555556,
              "#d8576b"
             ],
             [
              0.6666666666666666,
              "#ed7953"
             ],
             [
              0.7777777777777778,
              "#fb9f3a"
             ],
             [
              0.8888888888888888,
              "#fdca26"
             ],
             [
              1,
              "#f0f921"
             ]
            ],
            "type": "histogram2dcontour"
           }
          ],
          "mesh3d": [
           {
            "colorbar": {
             "outlinewidth": 0,
             "ticks": ""
            },
            "type": "mesh3d"
           }
          ],
          "parcoords": [
           {
            "line": {
             "colorbar": {
              "outlinewidth": 0,
              "ticks": ""
             }
            },
            "type": "parcoords"
           }
          ],
          "pie": [
           {
            "automargin": true,
            "type": "pie"
           }
          ],
          "scatter": [
           {
            "fillpattern": {
             "fillmode": "overlay",
             "size": 10,
             "solidity": 0.2
            },
            "type": "scatter"
           }
          ],
          "scatter3d": [
           {
            "line": {
             "colorbar": {
              "outlinewidth": 0,
              "ticks": ""
             }
            },
            "marker": {
             "colorbar": {
              "outlinewidth": 0,
              "ticks": ""
             }
            },
            "type": "scatter3d"
           }
          ],
          "scattercarpet": [
           {
            "marker": {
             "colorbar": {
              "outlinewidth": 0,
              "ticks": ""
             }
            },
            "type": "scattercarpet"
           }
          ],
          "scattergeo": [
           {
            "marker": {
             "colorbar": {
              "outlinewidth": 0,
              "ticks": ""
             }
            },
            "type": "scattergeo"
           }
          ],
          "scattergl": [
           {
            "marker": {
             "colorbar": {
              "outlinewidth": 0,
              "ticks": ""
             }
            },
            "type": "scattergl"
           }
          ],
          "scattermap": [
           {
            "marker": {
             "colorbar": {
              "outlinewidth": 0,
              "ticks": ""
             }
            },
            "type": "scattermap"
           }
          ],
          "scattermapbox": [
           {
            "marker": {
             "colorbar": {
              "outlinewidth": 0,
              "ticks": ""
             }
            },
            "type": "scattermapbox"
           }
          ],
          "scatterpolar": [
           {
            "marker": {
             "colorbar": {
              "outlinewidth": 0,
              "ticks": ""
             }
            },
            "type": "scatterpolar"
           }
          ],
          "scatterpolargl": [
           {
            "marker": {
             "colorbar": {
              "outlinewidth": 0,
              "ticks": ""
             }
            },
            "type": "scatterpolargl"
           }
          ],
          "scatterternary": [
           {
            "marker": {
             "colorbar": {
              "outlinewidth": 0,
              "ticks": ""
             }
            },
            "type": "scatterternary"
           }
          ],
          "surface": [
           {
            "colorbar": {
             "outlinewidth": 0,
             "ticks": ""
            },
            "colorscale": [
             [
              0,
              "#0d0887"
             ],
             [
              0.1111111111111111,
              "#46039f"
             ],
             [
              0.2222222222222222,
              "#7201a8"
             ],
             [
              0.3333333333333333,
              "#9c179e"
             ],
             [
              0.4444444444444444,
              "#bd3786"
             ],
             [
              0.5555555555555556,
              "#d8576b"
             ],
             [
              0.6666666666666666,
              "#ed7953"
             ],
             [
              0.7777777777777778,
              "#fb9f3a"
             ],
             [
              0.8888888888888888,
              "#fdca26"
             ],
             [
              1,
              "#f0f921"
             ]
            ],
            "type": "surface"
           }
          ],
          "table": [
           {
            "cells": {
             "fill": {
              "color": "#EBF0F8"
             },
             "line": {
              "color": "white"
             }
            },
            "header": {
             "fill": {
              "color": "#C8D4E3"
             },
             "line": {
              "color": "white"
             }
            },
            "type": "table"
           }
          ]
         },
         "layout": {
          "annotationdefaults": {
           "arrowcolor": "#2a3f5f",
           "arrowhead": 0,
           "arrowwidth": 1
          },
          "autotypenumbers": "strict",
          "coloraxis": {
           "colorbar": {
            "outlinewidth": 0,
            "ticks": ""
           }
          },
          "colorscale": {
           "diverging": [
            [
             0,
             "#8e0152"
            ],
            [
             0.1,
             "#c51b7d"
            ],
            [
             0.2,
             "#de77ae"
            ],
            [
             0.3,
             "#f1b6da"
            ],
            [
             0.4,
             "#fde0ef"
            ],
            [
             0.5,
             "#f7f7f7"
            ],
            [
             0.6,
             "#e6f5d0"
            ],
            [
             0.7,
             "#b8e186"
            ],
            [
             0.8,
             "#7fbc41"
            ],
            [
             0.9,
             "#4d9221"
            ],
            [
             1,
             "#276419"
            ]
           ],
           "sequential": [
            [
             0,
             "#0d0887"
            ],
            [
             0.1111111111111111,
             "#46039f"
            ],
            [
             0.2222222222222222,
             "#7201a8"
            ],
            [
             0.3333333333333333,
             "#9c179e"
            ],
            [
             0.4444444444444444,
             "#bd3786"
            ],
            [
             0.5555555555555556,
             "#d8576b"
            ],
            [
             0.6666666666666666,
             "#ed7953"
            ],
            [
             0.7777777777777778,
             "#fb9f3a"
            ],
            [
             0.8888888888888888,
             "#fdca26"
            ],
            [
             1,
             "#f0f921"
            ]
           ],
           "sequentialminus": [
            [
             0,
             "#0d0887"
            ],
            [
             0.1111111111111111,
             "#46039f"
            ],
            [
             0.2222222222222222,
             "#7201a8"
            ],
            [
             0.3333333333333333,
             "#9c179e"
            ],
            [
             0.4444444444444444,
             "#bd3786"
            ],
            [
             0.5555555555555556,
             "#d8576b"
            ],
            [
             0.6666666666666666,
             "#ed7953"
            ],
            [
             0.7777777777777778,
             "#fb9f3a"
            ],
            [
             0.8888888888888888,
             "#fdca26"
            ],
            [
             1,
             "#f0f921"
            ]
           ]
          },
          "colorway": [
           "#636efa",
           "#EF553B",
           "#00cc96",
           "#ab63fa",
           "#FFA15A",
           "#19d3f3",
           "#FF6692",
           "#B6E880",
           "#FF97FF",
           "#FECB52"
          ],
          "font": {
           "color": "#2a3f5f"
          },
          "geo": {
           "bgcolor": "white",
           "lakecolor": "white",
           "landcolor": "#E5ECF6",
           "showlakes": true,
           "showland": true,
           "subunitcolor": "white"
          },
          "hoverlabel": {
           "align": "left"
          },
          "hovermode": "closest",
          "mapbox": {
           "style": "light"
          },
          "paper_bgcolor": "white",
          "plot_bgcolor": "#E5ECF6",
          "polar": {
           "angularaxis": {
            "gridcolor": "white",
            "linecolor": "white",
            "ticks": ""
           },
           "bgcolor": "#E5ECF6",
           "radialaxis": {
            "gridcolor": "white",
            "linecolor": "white",
            "ticks": ""
           }
          },
          "scene": {
           "xaxis": {
            "backgroundcolor": "#E5ECF6",
            "gridcolor": "white",
            "gridwidth": 2,
            "linecolor": "white",
            "showbackground": true,
            "ticks": "",
            "zerolinecolor": "white"
           },
           "yaxis": {
            "backgroundcolor": "#E5ECF6",
            "gridcolor": "white",
            "gridwidth": 2,
            "linecolor": "white",
            "showbackground": true,
            "ticks": "",
            "zerolinecolor": "white"
           },
           "zaxis": {
            "backgroundcolor": "#E5ECF6",
            "gridcolor": "white",
            "gridwidth": 2,
            "linecolor": "white",
            "showbackground": true,
            "ticks": "",
            "zerolinecolor": "white"
           }
          },
          "shapedefaults": {
           "line": {
            "color": "#2a3f5f"
           }
          },
          "ternary": {
           "aaxis": {
            "gridcolor": "white",
            "linecolor": "white",
            "ticks": ""
           },
           "baxis": {
            "gridcolor": "white",
            "linecolor": "white",
            "ticks": ""
           },
           "bgcolor": "#E5ECF6",
           "caxis": {
            "gridcolor": "white",
            "linecolor": "white",
            "ticks": ""
           }
          },
          "title": {
           "x": 0.05
          },
          "xaxis": {
           "automargin": true,
           "gridcolor": "white",
           "linecolor": "white",
           "ticks": "",
           "title": {
            "standoff": 15
           },
           "zerolinecolor": "white",
           "zerolinewidth": 2
          },
          "yaxis": {
           "automargin": true,
           "gridcolor": "white",
           "linecolor": "white",
           "ticks": "",
           "title": {
            "standoff": 15
           },
           "zerolinecolor": "white",
           "zerolinewidth": 2
          }
         }
        },
        "title": {
         "text": "FBA with Objective: EXCHERG"
        },
        "width": 800,
        "xaxis": {
         "title": {
          "text": "Reactions"
         }
        },
        "yaxis": {
         "title": {
          "text": "Models"
         }
        }
       }
      }
     },
     "metadata": {},
     "output_type": "display_data"
    }
   ],
   "source": [
    "import pandas as pd\n",
    "import plotly.express as px\n",
    "import plotly.graph_objects as go\n",
    "\n",
    "# Define target reactions for heatmap\n",
    "target_values = [\n",
    "    RxnID.EXCHERG.value,\n",
    "    RxnID.BIOMASS.value,\n",
    "    RxnID.ERG.value,\n",
    "    RxnID.SS.value,\n",
    "    RxnID.SS2.value,\n",
    "    RxnID.SQE.value,\n",
    "    RxnID.SQE2.value,\n",
    "    # RxnID.ACACT.value,\n",
    "    # RxnID.HBCO.value,\n",
    "    # RxnID.MVAS.value,\n",
    "    # RxnID.MVAE.value,\n",
    "    # RxnID.MVAD.value,\n",
    "    # RxnID.PMK.value,\n",
    "    # RxnID.MVK.value,\n",
    "    # RxnID.IDLI.value,\n",
    "]\n",
    "\n",
    "target_names = [\n",
    "    RxnID.EXCHERG.name,\n",
    "    RxnID.BIOMASS.name,\n",
    "    RxnID.ERG.name,\n",
    "    RxnID.SS.name,\n",
    "    RxnID.SS2.name,\n",
    "    RxnID.SQE.name,\n",
    "    RxnID.SQE2.name,\n",
    "    # RxnID.ACACT.name,\n",
    "    # RxnID.HBCO.name,\n",
    "    # RxnID.MVAS.name,\n",
    "    # RxnID.MVAE.name,\n",
    "    # RxnID.MVAD.name,\n",
    "    # RxnID.PMK.name,\n",
    "    # RxnID.MVK.name,\n",
    "    # RxnID.IDLI.name,\n",
    "]\n",
    "\n",
    "# Create data for heatmap\n",
    "heatmap_data = []\n",
    "model_names = []\n",
    "flux_matrix = []\n",
    "\n",
    "for model_name, fba_result in fba.items():\n",
    "    model_names.append(model_name)\n",
    "    flux_row = []\n",
    "\n",
    "    for rxn_id in target_values:\n",
    "        # Get flux value, default to 0 if reaction not found\n",
    "        flux_value = 0\n",
    "        try: flux_value = fba_result.fluxes[rxn_id]\n",
    "        except: pass\n",
    "        flux_row.append(flux_value)\n",
    "    \n",
    "    flux_matrix.append(flux_row)\n",
    "\n",
    "# Create DataFrame for easier handling\n",
    "df_heatmap = pd.DataFrame(\n",
    "    flux_matrix, \n",
    "    index=model_names, \n",
    "    columns=target_names\n",
    ")\n",
    "\n",
    "print(\"FBA Flux Heatmap Data:\")\n",
    "print(df_heatmap)\n",
    "\n",
    "# Create heatmap using Plotly\n",
    "fig = go.Figure(data=go.Heatmap(\n",
    "    z=df_heatmap.values,\n",
    "    x=target_names,\n",
    "    y=model_names,\n",
    "    colorscale='RdYlBu_r',  # Red-Yellow-Blue reversed (red=high, blue=low)\n",
    "    text=df_heatmap.values.round(4),  # Show values on cells\n",
    "    texttemplate=\"%{text}\",\n",
    "    textfont={\"size\": 10},\n",
    "    colorbar=dict(title=\"Flux (mmol/gDW/h)\")\n",
    "))\n",
    "\n",
    "fig.update_layout(\n",
    "    title=f\"FBA with Objective: {', '.join(list(map(lambda x: x.name, _obj)))}\",\n",
    "    xaxis_title=\"Reactions\",\n",
    "    yaxis_title=\"Models\",\n",
    "    width=800,\n",
    "    height=600,\n",
    "    font=dict(size=12)\n",
    ")\n",
    "\n",
    "fig.show()"
   ]
  },
  {
   "cell_type": "code",
   "execution_count": null,
   "id": "7a0bb02f",
   "metadata": {},
   "outputs": [
    {
     "name": "stdout",
     "output_type": "stream",
     "text": [
      "Heatmap saved to: ../results/bench/heatmap\\obj_ERGOSTEROLEXCH_Biomass_Chlamy_auto.png\n",
      "Flux data saved to: ../results/bench/heatmap\\fba_flux_data.csv\n",
      "Interactive heatmap saved to: ../results/bench/heatmap\\fba_flux_heatmap.html\n",
      "Image (PNG) heatmap saved to: ../results/bench/heatmap\\fba_flux_heatmap.png\n"
     ]
    }
   ],
   "source": [
    "# Export results\n",
    "import os\n",
    "\n",
    "# Create results directory if it doesn't exist\n",
    "results_dir = os.path.join('..', 'results', 'bench', 'fba_flux_heatmap')\n",
    "os.makedirs(results_dir, exist_ok=True)\n",
    "\n",
    "# Save the heatmap as PNG\n",
    "output_path = os.path.join(results_dir, f'obj_{\"_\".join(objective)}.png')\n",
    "fig.write_image(output_path, width=800, height=600, scale=2)\n",
    "print(f\"Heatmap saved to: {output_path}\")\n",
    "\n",
    "# Also save the DataFrame as CSV for reference\n",
    "csv_path = os.path.join(results_dir, 'fba_flux_data.csv')\n",
    "df_heatmap.to_csv(csv_path)\n",
    "print(f\"Flux data saved to: {csv_path}\")\n",
    "\n",
    "# Save the heatmap as HTML for interactive viewing\n",
    "html_path = os.path.join(results_dir, 'fba_flux_heatmap.html')\n",
    "fig.write_html(html_path)\n",
    "print(f\"Interactive heatmap saved to: {html_path}\")\n",
    "\n",
    "# Save the heatmap as .png for convenience\n",
    "png_path = os.path.join(results_dir, 'fba_flux_heatmap.png')\n",
    "fig.write_image(\n",
    "    png_path,\n",
    "    width=1200,\n",
    "    height=800,\n",
    "    scale=2,\n",
    "    format=\"png\"\n",
    ")\n",
    "print(f\"Image (PNG) heatmap saved to: {png_path}\")"
   ]
  },
  {
   "cell_type": "markdown",
   "id": "acff63ba",
   "metadata": {},
   "source": [
    "### Save Temp Models"
   ]
  },
  {
   "cell_type": "code",
   "execution_count": 7,
   "id": "914e46ce",
   "metadata": {},
   "outputs": [],
   "source": [
    "temp_path = os.path.join('.', 'temp')\n",
    "os.makedirs(temp_path, exist_ok=True)\n",
    "for k, v in models.items():\n",
    "    v.objective = RxnID.EXCHERG.value\n",
    "    io.write_sbml_model(v, os.path.join(temp_path, f\"{k}.xml\"))"
   ]
  }
 ],
 "metadata": {
  "kernelspec": {
   "display_name": "venv",
   "language": "python",
   "name": "python3"
  },
  "language_info": {
   "codemirror_mode": {
    "name": "ipython",
    "version": 3
   },
   "file_extension": ".py",
   "mimetype": "text/x-python",
   "name": "python",
   "nbconvert_exporter": "python",
   "pygments_lexer": "ipython3",
   "version": "3.12.10"
  }
 },
 "nbformat": 4,
 "nbformat_minor": 5
}
