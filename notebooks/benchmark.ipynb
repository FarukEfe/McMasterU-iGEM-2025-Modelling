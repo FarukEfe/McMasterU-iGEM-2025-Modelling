{
 "cells": [
  {
   "cell_type": "markdown",
   "id": "fd5530c5",
   "metadata": {},
   "source": [
    "This notebook works as a benchmark to our selection of model for c. reinhardtii by drawing comparisons based on: \\# annotations, reliability tests, \\# mass-balanced to unbalanced reactions"
   ]
  }
 ],
 "metadata": {
  "language_info": {
   "name": "python"
  }
 },
 "nbformat": 4,
 "nbformat_minor": 5
}
